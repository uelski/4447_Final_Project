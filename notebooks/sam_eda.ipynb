{
 "cells": [
  {
   "cell_type": "code",
   "execution_count": 2,
   "metadata": {
    "vscode": {
     "languageId": "plaintext"
    }
   },
   "outputs": [],
   "source": [
    "import pandas as pd\n",
    "import numpy as np "
   ]
  },
  {
   "cell_type": "code",
   "execution_count": 3,
   "metadata": {
    "vscode": {
     "languageId": "plaintext"
    }
   },
   "outputs": [],
   "source": [
    "demographics_df = pd.read_csv('denver_demographics.csv')\n",
    "crime_df = pd.read_csv('denver_crime.csv')\n",
    "school_df = pd.read_csv('denver_after_school_programs.csv')\n",
    "equity_df = pd.read_csv('denver_equity_index.csv')"
   ]
  },
  {
   "cell_type": "code",
   "execution_count": 8,
   "metadata": {},
   "outputs": [
    {
     "data": {
      "text/plain": [
       "(78, 151)"
      ]
     },
     "execution_count": 8,
     "metadata": {},
     "output_type": "execute_result"
    }
   ],
   "source": [
    "# demographics shape:\n",
    "demographics_df.shape"
   ]
  },
  {
   "cell_type": "code",
   "execution_count": 13,
   "metadata": {},
   "outputs": [],
   "source": [
    "# demographics missing values:\n",
    "for feature in demographics_df.columns:\n",
    "    null_sum = demographics_df[feature].isna().sum()\n",
    "    if null_sum > 0:\n",
    "        print(f'{feature}: {null_sum} null')"
   ]
  },
  {
   "cell_type": "code",
   "execution_count": 14,
   "metadata": {},
   "outputs": [
    {
     "data": {
      "text/plain": [
       "(358692, 23)"
      ]
     },
     "execution_count": 14,
     "metadata": {},
     "output_type": "execute_result"
    }
   ],
   "source": [
    "# crime shape:\n",
    "crime_df.shape"
   ]
  },
  {
   "cell_type": "code",
   "execution_count": 16,
   "metadata": {},
   "outputs": [
    {
     "name": "stdout",
     "output_type": "stream",
     "text": [
      "LAST_OCCURRENCE_DATE: 158314 null\n",
      "GEO_LON: 253 null\n",
      "GEO_LAT: 253 null\n",
      "DISTRICT_ID: 37 null\n",
      "NEIGHBORHOOD_ID: 513 null\n",
      "x: 253 null\n",
      "y: 253 null\n"
     ]
    }
   ],
   "source": [
    "# crime missing values:\n",
    "for feature in crime_df.columns:\n",
    "    null_sum = crime_df[feature].isna().sum()\n",
    "    if null_sum > 0:\n",
    "        print(f'{feature}: {null_sum} null')"
   ]
  },
  {
   "cell_type": "code",
   "execution_count": 17,
   "metadata": {},
   "outputs": [
    {
     "data": {
      "text/plain": [
       "(27379, 253)"
      ]
     },
     "execution_count": 17,
     "metadata": {},
     "output_type": "execute_result"
    }
   ],
   "source": [
    "# after school programs shape:\n",
    "school_df.shape"
   ]
  },
  {
   "cell_type": "code",
   "execution_count": 18,
   "metadata": {},
   "outputs": [
    {
     "name": "stdout",
     "output_type": "stream",
     "text": [
      "GLOBAL_LOCATION_NAME: 95 null\n",
      "GLOBAL_STREET_ADDR: 95 null\n",
      "GLOBAL_CITY: 95 null\n",
      "GLOBAL_STATE: 95 null\n",
      "GLOBAL_ZIP: 95 null\n",
      "LICENSED_TYPE: 27379 null\n",
      "REG_FORM_REQD: 27379 null\n",
      "REG_FORM_ONLINE: 27379 null\n",
      "REG_FORM_WEBSITE: 8462 null\n",
      "REG_PROCESS: 4972 null\n",
      "TRANSPORT_AVAIL: 29 null\n",
      "PROVIDE_FOOD: 29 null\n",
      "PROVIDE_SNACKS: 12495 null\n",
      "PROVIDE_BRKFST: 26934 null\n",
      "PROVIDE_LUNCH: 26098 null\n",
      "PROVIDE_DINNER: 26689 null\n",
      "PROVIDE_WKND_BKPKS: 27356 null\n",
      "FOCUSAREA_NAME: 996 null\n",
      "FOCUSAREA_STATUS: 996 null\n",
      "FOCUSAREA_DESC: 997 null\n",
      "FOCUSAREA_CONTACT_FIRSTNAME: 27379 null\n",
      "FOCUSAREA_CONTACT_LASTNAME: 27379 null\n",
      "FOCUSAREA_CONTACT_PH: 997 null\n",
      "FOCUSAREA_CONTACT_EMAIL: 996 null\n",
      "TIME_BEFSCHOOL: 20187 null\n",
      "TIME_AFTERSCHOOL: 8769 null\n",
      "TIME_SUMMER: 19379 null\n",
      "TIME_HOLIDAY: 23964 null\n",
      "TIME_SCHOOLDAY: 26385 null\n",
      "TIME_BYREQUEST: 24062 null\n",
      "COST_FREE: 996 null\n",
      "COST_FEE_FAM: 27379 null\n",
      "COST_FEE_FAM_SCHOL: 27379 null\n",
      "COST_FEE_ORG: 27379 null\n",
      "COST_FEE_HOST: 27379 null\n",
      "PFA_ACAD: 9459 null\n",
      "PFA_ARTS: 8914 null\n",
      "PFA_COLLEGE_CAREER: 26198 null\n",
      "PFA_FAM_SUPPORT: 10242 null\n",
      "PFA_OUTDOOR: 20382 null\n",
      "PFA_SERV_LEARNING: 16067 null\n",
      "PFA_SPORTS_HEALTH: 5214 null\n",
      "PFA_LEADERSHIP: 10437 null\n",
      "PFA_SUB_BOOK_CLUB: 27379 null\n",
      "PFA_SUB_CODING: 27379 null\n",
      "PFA_SUB_COMPUTER: 27379 null\n",
      "PFA_SUB_CREATIVE_WRITING: 27379 null\n",
      "PFA_SUB_DIGITAL_LITERACY: 27379 null\n",
      "PFA_SUB_DROPOUT_PREV: 27379 null\n",
      "PFA_SUB_ENGINEERING: 27379 null\n",
      "PFA_SUB_ELL: 27379 null\n",
      "PFA_Sub_Financial _Lit: 27379 null\n",
      "PFA_SUB_HMWK_HELP: 27379 null\n",
      "PFA_SUB_MATH: 27379 null\n",
      "PFA_SUB_PUBLISHING: 27379 null\n",
      "PFA_SUB_READING: 27379 null\n",
      "PFA_SUB_ROBOTICS: 27379 null\n",
      "PFA_SUB_SCIENCE: 27379 null\n",
      "PFA_SUB_STUDY_SKILLS: 27379 null\n",
      "PFA_SUB_TECH: 27379 null\n",
      "PFA_SUB_TUTORING: 27379 null\n",
      "PFA_SUB_VIDEO: 27379 null\n",
      "PFA_SUB_WRITERS_WKSHP: 27379 null\n",
      "PFA_SUB_WRITING: 27379 null\n",
      "PFA_SUB_COOKING: 27379 null\n",
      "PFA_SUB_CROCHET: 27379 null\n",
      "PFA_SUB_DANCE: 27379 null\n",
      "PFA_SUB_DESIGN: 27379 null\n",
      "PFA_SUB_DIY: 27379 null\n",
      "PFA_SUB_DRAWING: 27379 null\n",
      "PFA_SUB_FASHION: 27379 null\n",
      "PFA_SUB_IMPROV: 27379 null\n",
      "PFA_SUB_JEWELRY: 27379 null\n",
      "PFA_SUB_KNITTING: 27379 null\n",
      "PFA_SUB_MUSIC: 27379 null\n",
      "PFA_SUB_PAINTING: 27379 null\n",
      "PFA_SUB_PHOTOG: 27379 null\n",
      "PFA_SUB_POTTERY: 27379 null\n",
      "PFA_SUB_SEWING: 27379 null\n",
      "PFA_SUB_SPOKEN_WORD: 27379 null\n",
      "PFA_SUB_THEATRE: 27379 null\n",
      "PFA_SUB_VIDEO_PROD: 27379 null\n",
      "PFA_SUB_VISUAL_ARTS: 27379 null\n",
      "PFA_SUB_WOOD: 27379 null\n",
      "PFA_SUB_ACT_PREP: 27379 null\n",
      "PFA_SUB_CAREER_PLAN: 27379 null\n",
      "PFA_SUB_COLLEGE_APP: 27379 null\n",
      "PFA_SUB_CREDIT_REC: 27379 null\n",
      "PFA_SUB_FAFSA: 27379 null\n",
      "PFA_SUB_INTERNS: 27379 null\n",
      "PFA_SUB_JOB_APP: 27379 null\n",
      "PFA_SUB_JOB_READINESS: 27379 null\n",
      "PFA_SUB_MOCK_INTERVIEWS: 27379 null\n",
      "PFA_SUB_SAT_PREP: 27379 null\n",
      "PFA_SUB_SKILL_BUILD: 27379 null\n",
      "PFA_SUB_ADULT_ED: 27379 null\n",
      "PFA_SUB_CLOTHING: 27379 null\n",
      "PFA_SUB_COMPUTER2: 27379 null\n",
      "PFA_SUB_COMPUTER_LIT: 27379 null\n",
      "PFA_SUB_ENGLISH: 27379 null\n",
      "PFA_SUB_FIN_HEALTH: 27379 null\n",
      "PFA_SUB_FITNESS: 27379 null\n",
      "PFA_SUB_FOOD: 27379 null\n",
      "PFA_SUB_IMMIGRATION: 27379 null\n",
      "PFA_SUB_LANGUAGES: 27379 null\n",
      "PFA_SUB_LGBTQ_SUPPORTS: 27379 null\n",
      "PFA_SUB_PARENTING: 27379 null\n",
      "PFA_SUB_SHELTER: 27379 null\n",
      "PFA_SUB_SUICIDE_PREV: 27379 null\n",
      "PFA_SUB_ADAPT_SPEC_NEEDS: 27379 null\n",
      "PFA_SUB_TEEN_DATING: 27379 null\n",
      "PFA_SUB_VIOLENCE_PREV: 27379 null\n",
      "PFA_SUB_ANIMAL_CARE: 27379 null\n",
      "PFA_SUB_CONSERVATION: 27379 null\n",
      "PFA_SUB_FARMING: 27379 null\n",
      "PFA_SUB_FOOD_SUST: 27379 null\n",
      "PFA_SUB_GARDENING: 27379 null\n",
      "PFA_SUB_OUTDOOR_ED: 27379 null\n",
      "PFA_SUB_PRESERVATION: 27379 null\n",
      "PFA_SUB_RESTORATION: 27379 null\n",
      "PFA_SUB_STEWARDSHIP: 27379 null\n",
      "PFA_SUB_COMM_DEV: 27379 null\n",
      "PFA_SUB_GAY_STRAIGHT: 27379 null\n",
      "PFA_SUB_JROTC: 27379 null\n",
      "PFA_SUB_SERVICE: 27379 null\n",
      "PFA_Sub_Student-Led: 27379 null\n",
      "PFA_SUB_VOL_OPPS: 27379 null\n",
      "PFA_SUB_YOUTH_LEADERSHIP: 27379 null\n",
      "PFA_SUB_ARCHERY: 27379 null\n",
      "PFA_SUB_BASEBALL: 27379 null\n",
      "PFA_SUB_BASKETBALL: 27379 null\n",
      "PFA_SUB_BIKING: 27379 null\n",
      "PFA_SUB_CHEER: 27379 null\n",
      "PFA_SUB_CLIMBING: 27379 null\n",
      "PFA_SUB_COMP_SEXUAL_HEALTH: 27379 null\n",
      "PFA_SUB_FENCING: 27379 null\n",
      "PFA_SUB_FOOTBALL: 27379 null\n",
      "PFA_SUB_GOLF: 27379 null\n",
      "PFA_SUB_GYMNASTICS: 27379 null\n",
      "PFA_SUB_HEALTH: 27379 null\n",
      "PFA_SUB_HEALTHY_RELAT: 27379 null\n",
      "PFA_SUB_HIKING: 27379 null\n",
      "PFA_SUB_HOCKEY: 27379 null\n",
      "PFA_SUB_HORSEBACK: 27379 null\n",
      "PFA_SUB_LACROSSE: 27379 null\n",
      "PFA_SUB_MARTIAL_ARTS: 27379 null\n",
      "PFA_SUB_MINDFULNESS: 27379 null\n",
      "PFA_SUB_MOVEMENT: 27379 null\n",
      "PFA_SUB_NUTRITION: 27379 null\n",
      "PFA_SUB_RUGBY: 27379 null\n",
      "PFA_SUB_RUNNING: 27379 null\n",
      "PFA_SUB_SKATEBOARDING: 27379 null\n",
      "PFA_SUB_SKI: 27379 null\n",
      "PFA_SUB_SNOWBOARDING: 27379 null\n",
      "PFA_SUB_SOCCER: 27379 null\n",
      "PFA_SUB_SOFTBALL: 27379 null\n",
      "PFA_SUB_SWIMMING: 27379 null\n",
      "PFA_SUB_TENNIS: 27379 null\n",
      "PFA_SUB_ULTIMATE_FRISBEE: 27379 null\n",
      "PFA_SUB_VOLLEYBALL: 27379 null\n",
      "PFA_SUB_WATER_SPORTS: 27379 null\n",
      "PFA_SUB_YOGA: 27379 null\n",
      "PFA_SUB_CASE_MGMT: 27379 null\n",
      "PFA_SUB_COUNSELING: 27379 null\n",
      "PFA_SUB_ENTREPRENEUR: 27379 null\n",
      "PFA_SUB_LEADERSHIP_DEV: 27379 null\n",
      "PFA_SUB_LIFE_SKILLS: 27379 null\n",
      "PFA_SUB_MENTORING: 27379 null\n",
      "PFA_SUB_SOCIAL_EMOTIONAL: 27379 null\n",
      "Age_Birth-2: 26142 null\n",
      "AGE_3: 24349 null\n",
      "AGE_4: 13961 null\n",
      "AGE_5: 8655 null\n",
      "AGE_6: 7834 null\n",
      "AGE_7: 7716 null\n",
      "AGE_8: 3401 null\n",
      "AGE_9: 3147 null\n",
      "AGE_10: 3324 null\n",
      "AGE_11: 3740 null\n",
      "AGE_12: 3740 null\n",
      "AGE_13: 21242 null\n",
      "AGE_14: 21512 null\n",
      "AGE_15: 21939 null\n",
      "AGE_16: 21969 null\n",
      "AGE_17: 22083 null\n",
      "AGE_18: 22252 null\n",
      "Age_19-21: 25625 null\n",
      "Age_22-64: 25725 null\n",
      "Age_65+: 26031 null\n",
      "Grade_Pre-K: 17714 null\n",
      "GRADE_K: 7826 null\n",
      "GRADE_1: 7763 null\n",
      "GRADE_2: 5966 null\n",
      "GRADE_3: 4160 null\n",
      "GRADE_4: 2992 null\n",
      "GRADE_5: 3166 null\n",
      "GRADE_6: 18669 null\n",
      "GRADE_7: 20082 null\n",
      "GRADE_8: 20757 null\n",
      "GRADE_9: 21969 null\n",
      "GRADE_10: 22053 null\n",
      "GRADE_11: 22074 null\n",
      "GRADE_12: 22068 null\n",
      "FOCUSAREA_ID: 996 null\n",
      "STRUCTURE_SPECIAL_EVENT: 27379 null\n",
      "SESSION_ID: 996 null\n",
      "PROGRAM_NAME: 996 null\n",
      "PROGRAM_STATUS: 996 null\n",
      "PROGRAM_DAYSUN: 25771 null\n",
      "PROGRAM_DAYMON: 19206 null\n",
      "PROGRAM_DAYTUES: 21203 null\n",
      "PROGRAM_DAYWED: 19664 null\n",
      "PROGRAM_DAYTHU: 21180 null\n",
      "PROGRAM_DAYFRI: 6995 null\n",
      "PROGRAM_DAYSAT: 22204 null\n",
      "PROGRAM_OPENENROLL: 996 null\n",
      "PROGRAM_DOSAGE: 27379 null\n",
      "PROGRAM_FEE: 996 null\n",
      "PROGRAM_FEEDESC: 18481 null\n",
      "PROGRAM_SCHOLARAVAIL: 996 null\n",
      "PROGRAM_SCHOLARAPP: 27379 null\n",
      "PROGRAM_WKDAY_STARTTIME: 27379 null\n",
      "PROGRAM_WKDAY_ENDTIME: 27379 null\n",
      "PROGRAM_WKND_STARTTIME: 27379 null\n",
      "PROGRAM_WKND_ENDTIME: 27379 null\n",
      "PROGRAM_STARTDATE: 996 null\n",
      "PROGRAM_ENDDATE: 996 null\n",
      "ORG_NAME: 9 null\n",
      "ORG_TYPE: 27379 null\n",
      "ORG_WEBCONFIRM: 27379 null\n",
      "ORG_WEB_ADDR: 65 null\n",
      "ORG_PLIMAGECONFIRM: 27379 null\n",
      "ORG_DESC: 27379 null\n",
      "ORG_MISSION: 27379 null\n",
      "ORG_MAIN_ADDR: 27379 null\n",
      "ORG_MAIN_CITY: 27379 null\n",
      "ORG_MAIN_STATE: 27379 null\n",
      "ORG_PLIMAGE: 170 null\n",
      "ORG_MAIN_ZIP: 27379 null\n",
      "GLOBAL_ADDR_SOURCE: 95 null\n",
      "GLOBAL_ADDR_ID: 2516 null\n",
      "GLOBAL_LAT: 95 null\n",
      "GLOBAL_LONG: 95 null\n",
      "GLOBAL_CONTACT_PH: 27379 null\n",
      "DPS_SCHOOL_NUM: 7715 null\n",
      "x: 96 null\n",
      "y: 96 null\n"
     ]
    }
   ],
   "source": [
    "# after school programs missing values:\n",
    "for feature in school_df.columns:\n",
    "    null_sum = school_df[feature].isna().sum()\n",
    "    if null_sum > 0:\n",
    "        print(f'{feature}: {null_sum} null')"
   ]
  },
  {
   "cell_type": "code",
   "execution_count": 19,
   "metadata": {},
   "outputs": [
    {
     "data": {
      "text/plain": [
       "(78, 11)"
      ]
     },
     "execution_count": 19,
     "metadata": {},
     "output_type": "execute_result"
    }
   ],
   "source": [
    "# equity shape:\n",
    "equity_df.shape"
   ]
  },
  {
   "cell_type": "code",
   "execution_count": 22,
   "metadata": {},
   "outputs": [],
   "source": [
    "# equity missing values:\n",
    "for feature in equity_df.columns:\n",
    "    null_sum = equity_df[feature].isna().sum()\n",
    "    if null_sum > 0:\n",
    "        print(f'{feature}: {null_sum} null')"
   ]
  },
  {
   "cell_type": "code",
   "execution_count": null,
   "metadata": {},
   "outputs": [],
   "source": []
  }
 ],
 "metadata": {
  "kernelspec": {
   "display_name": "Python 3 (ipykernel)",
   "language": "python",
   "name": "python3"
  },
  "language_info": {
   "codemirror_mode": {
    "name": "ipython",
    "version": 3
   },
   "file_extension": ".py",
   "mimetype": "text/x-python",
   "name": "python",
   "nbconvert_exporter": "python",
   "pygments_lexer": "ipython3",
   "version": "3.11.11"
  }
 },
 "nbformat": 4,
 "nbformat_minor": 4
}
