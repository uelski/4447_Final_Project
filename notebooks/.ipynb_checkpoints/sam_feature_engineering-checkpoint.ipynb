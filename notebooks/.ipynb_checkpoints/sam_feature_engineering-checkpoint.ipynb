{
 "cells": [
  {
   "cell_type": "code",
   "execution_count": 19,
   "id": "d8a2de95",
   "metadata": {
    "vscode": {
     "languageId": "plaintext"
    }
   },
   "outputs": [],
   "source": [
    "import pandas as pd\n",
    "import numpy as np \n",
    "import matplotlib.pyplot as plt\n",
    "import geopandas as gpd\n",
    "from shapely import wkt\n",
    "from shapely.geometry import Point"
   ]
  },
  {
   "cell_type": "code",
   "execution_count": 32,
   "id": "58af3f1a",
   "metadata": {
    "vscode": {
     "languageId": "plaintext"
    }
   },
   "outputs": [],
   "source": [
    "# setup\n",
    "demographics_df = pd.read_csv('../data/raw/denver_demographics.csv')\n",
    "crime_df = pd.read_csv('../data/raw/denver_crime.csv')\n",
    "school_df = pd.read_csv('../data/raw/denver_after_school_programs.csv')\n",
    "equity_df = pd.read_csv('../data/raw/denver_equity_index.csv')\n",
    "neighborhoods_df = pd.read_csv('../data/raw/denver_statistical_neighborhoods_20250409.csv')\n",
    "neighborhoods_df = neighborhoods_df.drop(columns=['TYPOLOGY', 'NOTES'])"
   ]
  },
  {
   "cell_type": "markdown",
   "id": "82cfa166-402c-4249-9077-b4c555cb96cc",
   "metadata": {},
   "source": [
    "## Crime\n",
    "\n",
    "- drop feature columns\n",
    "- deal with missing values\n",
    "- map into neighborhoods"
   ]
  },
  {
   "cell_type": "code",
   "execution_count": 11,
   "id": "b886dbf9-9e6a-4436-9353-1dbd6152bd31",
   "metadata": {},
   "outputs": [
    {
     "data": {
      "text/html": [
       "<div>\n",
       "<style scoped>\n",
       "    .dataframe tbody tr th:only-of-type {\n",
       "        vertical-align: middle;\n",
       "    }\n",
       "\n",
       "    .dataframe tbody tr th {\n",
       "        vertical-align: top;\n",
       "    }\n",
       "\n",
       "    .dataframe thead th {\n",
       "        text-align: right;\n",
       "    }\n",
       "</style>\n",
       "<table border=\"1\" class=\"dataframe\">\n",
       "  <thead>\n",
       "    <tr style=\"text-align: right;\">\n",
       "      <th></th>\n",
       "      <th>OBJECTID</th>\n",
       "      <th>INCIDENT_ID</th>\n",
       "      <th>OFFENSE_ID</th>\n",
       "      <th>OFFENSE_CODE</th>\n",
       "      <th>OFFENSE_CODE_EXTENSION</th>\n",
       "      <th>OFFENSE_TYPE_ID</th>\n",
       "      <th>OFFENSE_CATEGORY_ID</th>\n",
       "      <th>FIRST_OCCURRENCE_DATE</th>\n",
       "      <th>LAST_OCCURRENCE_DATE</th>\n",
       "      <th>REPORTED_DATE</th>\n",
       "      <th>...</th>\n",
       "      <th>GEO_LON</th>\n",
       "      <th>GEO_LAT</th>\n",
       "      <th>DISTRICT_ID</th>\n",
       "      <th>PRECINCT_ID</th>\n",
       "      <th>NEIGHBORHOOD_ID</th>\n",
       "      <th>IS_CRIME</th>\n",
       "      <th>IS_TRAFFIC</th>\n",
       "      <th>VICTIM_COUNT</th>\n",
       "      <th>x</th>\n",
       "      <th>y</th>\n",
       "    </tr>\n",
       "  </thead>\n",
       "  <tbody>\n",
       "    <tr>\n",
       "      <th>0</th>\n",
       "      <td>1</td>\n",
       "      <td>2020454617</td>\n",
       "      <td>2020454617299900</td>\n",
       "      <td>2999</td>\n",
       "      <td>0</td>\n",
       "      <td>criminal-mischief-other</td>\n",
       "      <td>public-disorder</td>\n",
       "      <td>7/26/2020 11:00:00 PM</td>\n",
       "      <td>NaN</td>\n",
       "      <td>7/28/2020 5:09:00 AM</td>\n",
       "      <td>...</td>\n",
       "      <td>-104.801111</td>\n",
       "      <td>39.797827</td>\n",
       "      <td>5</td>\n",
       "      <td>522</td>\n",
       "      <td>gateway-green-valley-ranch</td>\n",
       "      <td>1</td>\n",
       "      <td>0</td>\n",
       "      <td>1</td>\n",
       "      <td>3.196379e+06</td>\n",
       "      <td>1.716245e+06</td>\n",
       "    </tr>\n",
       "    <tr>\n",
       "      <th>1</th>\n",
       "      <td>2</td>\n",
       "      <td>20206013877</td>\n",
       "      <td>20206013877299900</td>\n",
       "      <td>2999</td>\n",
       "      <td>0</td>\n",
       "      <td>criminal-mischief-other</td>\n",
       "      <td>public-disorder</td>\n",
       "      <td>10/10/2020 11:55:00 AM</td>\n",
       "      <td>10/10/2020 4:59:00 AM</td>\n",
       "      <td>10/14/2020 10:20:00 PM</td>\n",
       "      <td>...</td>\n",
       "      <td>-104.905807</td>\n",
       "      <td>39.654774</td>\n",
       "      <td>3</td>\n",
       "      <td>323</td>\n",
       "      <td>hampden</td>\n",
       "      <td>1</td>\n",
       "      <td>0</td>\n",
       "      <td>1</td>\n",
       "      <td>3.167302e+06</td>\n",
       "      <td>1.663927e+06</td>\n",
       "    </tr>\n",
       "    <tr>\n",
       "      <th>2</th>\n",
       "      <td>3</td>\n",
       "      <td>202210816</td>\n",
       "      <td>202210816299900</td>\n",
       "      <td>2999</td>\n",
       "      <td>0</td>\n",
       "      <td>criminal-mischief-other</td>\n",
       "      <td>public-disorder</td>\n",
       "      <td>1/8/2022 7:01:00 AM</td>\n",
       "      <td>NaN</td>\n",
       "      <td>1/8/2022 7:01:00 AM</td>\n",
       "      <td>...</td>\n",
       "      <td>-105.027614</td>\n",
       "      <td>39.691784</td>\n",
       "      <td>4</td>\n",
       "      <td>421</td>\n",
       "      <td>mar-lee</td>\n",
       "      <td>1</td>\n",
       "      <td>0</td>\n",
       "      <td>1</td>\n",
       "      <td>3.132936e+06</td>\n",
       "      <td>1.677207e+06</td>\n",
       "    </tr>\n",
       "    <tr>\n",
       "      <th>3</th>\n",
       "      <td>4</td>\n",
       "      <td>2021159354</td>\n",
       "      <td>2021159354299900</td>\n",
       "      <td>2999</td>\n",
       "      <td>0</td>\n",
       "      <td>criminal-mischief-other</td>\n",
       "      <td>public-disorder</td>\n",
       "      <td>3/20/2021 7:38:00 AM</td>\n",
       "      <td>NaN</td>\n",
       "      <td>3/20/2021 7:38:00 AM</td>\n",
       "      <td>...</td>\n",
       "      <td>-105.025019</td>\n",
       "      <td>39.751335</td>\n",
       "      <td>1</td>\n",
       "      <td>121</td>\n",
       "      <td>jefferson-park</td>\n",
       "      <td>1</td>\n",
       "      <td>0</td>\n",
       "      <td>1</td>\n",
       "      <td>3.133553e+06</td>\n",
       "      <td>1.698903e+06</td>\n",
       "    </tr>\n",
       "    <tr>\n",
       "      <th>4</th>\n",
       "      <td>5</td>\n",
       "      <td>2020470873</td>\n",
       "      <td>2020470873299900</td>\n",
       "      <td>2999</td>\n",
       "      <td>0</td>\n",
       "      <td>criminal-mischief-other</td>\n",
       "      <td>public-disorder</td>\n",
       "      <td>8/4/2020 6:45:00 PM</td>\n",
       "      <td>NaN</td>\n",
       "      <td>8/4/2020 11:28:00 PM</td>\n",
       "      <td>...</td>\n",
       "      <td>-105.001965</td>\n",
       "      <td>39.740860</td>\n",
       "      <td>1</td>\n",
       "      <td>123</td>\n",
       "      <td>auraria</td>\n",
       "      <td>1</td>\n",
       "      <td>0</td>\n",
       "      <td>1</td>\n",
       "      <td>3.140056e+06</td>\n",
       "      <td>1.695122e+06</td>\n",
       "    </tr>\n",
       "  </tbody>\n",
       "</table>\n",
       "<p>5 rows × 23 columns</p>\n",
       "</div>"
      ],
      "text/plain": [
       "   OBJECTID  INCIDENT_ID         OFFENSE_ID  OFFENSE_CODE  \\\n",
       "0         1   2020454617   2020454617299900          2999   \n",
       "1         2  20206013877  20206013877299900          2999   \n",
       "2         3    202210816    202210816299900          2999   \n",
       "3         4   2021159354   2021159354299900          2999   \n",
       "4         5   2020470873   2020470873299900          2999   \n",
       "\n",
       "   OFFENSE_CODE_EXTENSION          OFFENSE_TYPE_ID OFFENSE_CATEGORY_ID  \\\n",
       "0                       0  criminal-mischief-other     public-disorder   \n",
       "1                       0  criminal-mischief-other     public-disorder   \n",
       "2                       0  criminal-mischief-other     public-disorder   \n",
       "3                       0  criminal-mischief-other     public-disorder   \n",
       "4                       0  criminal-mischief-other     public-disorder   \n",
       "\n",
       "    FIRST_OCCURRENCE_DATE   LAST_OCCURRENCE_DATE           REPORTED_DATE  ...  \\\n",
       "0   7/26/2020 11:00:00 PM                    NaN    7/28/2020 5:09:00 AM  ...   \n",
       "1  10/10/2020 11:55:00 AM  10/10/2020 4:59:00 AM  10/14/2020 10:20:00 PM  ...   \n",
       "2     1/8/2022 7:01:00 AM                    NaN     1/8/2022 7:01:00 AM  ...   \n",
       "3    3/20/2021 7:38:00 AM                    NaN    3/20/2021 7:38:00 AM  ...   \n",
       "4     8/4/2020 6:45:00 PM                    NaN    8/4/2020 11:28:00 PM  ...   \n",
       "\n",
       "      GEO_LON    GEO_LAT  DISTRICT_ID  PRECINCT_ID  \\\n",
       "0 -104.801111  39.797827            5          522   \n",
       "1 -104.905807  39.654774            3          323   \n",
       "2 -105.027614  39.691784            4          421   \n",
       "3 -105.025019  39.751335            1          121   \n",
       "4 -105.001965  39.740860            1          123   \n",
       "\n",
       "              NEIGHBORHOOD_ID IS_CRIME  IS_TRAFFIC VICTIM_COUNT             x  \\\n",
       "0  gateway-green-valley-ranch        1           0            1  3.196379e+06   \n",
       "1                     hampden        1           0            1  3.167302e+06   \n",
       "2                     mar-lee        1           0            1  3.132936e+06   \n",
       "3              jefferson-park        1           0            1  3.133553e+06   \n",
       "4                     auraria        1           0            1  3.140056e+06   \n",
       "\n",
       "              y  \n",
       "0  1.716245e+06  \n",
       "1  1.663927e+06  \n",
       "2  1.677207e+06  \n",
       "3  1.698903e+06  \n",
       "4  1.695122e+06  \n",
       "\n",
       "[5 rows x 23 columns]"
      ]
     },
     "execution_count": 11,
     "metadata": {},
     "output_type": "execute_result"
    }
   ],
   "source": [
    "crime_df.head(5)"
   ]
  },
  {
   "cell_type": "code",
   "execution_count": 8,
   "id": "a8b46dc5-8455-4415-9f80-76a06f8091bf",
   "metadata": {},
   "outputs": [
    {
     "data": {
      "text/html": [
       "<div>\n",
       "<style scoped>\n",
       "    .dataframe tbody tr th:only-of-type {\n",
       "        vertical-align: middle;\n",
       "    }\n",
       "\n",
       "    .dataframe tbody tr th {\n",
       "        vertical-align: top;\n",
       "    }\n",
       "\n",
       "    .dataframe thead th {\n",
       "        text-align: right;\n",
       "    }\n",
       "</style>\n",
       "<table border=\"1\" class=\"dataframe\">\n",
       "  <thead>\n",
       "    <tr style=\"text-align: right;\">\n",
       "      <th></th>\n",
       "      <th>OBJECTID</th>\n",
       "      <th>INCIDENT_ID</th>\n",
       "      <th>OFFENSE_ID</th>\n",
       "      <th>OFFENSE_CODE</th>\n",
       "      <th>OFFENSE_CODE_EXTENSION</th>\n",
       "      <th>GEO_X</th>\n",
       "      <th>GEO_Y</th>\n",
       "      <th>GEO_LON</th>\n",
       "      <th>GEO_LAT</th>\n",
       "      <th>PRECINCT_ID</th>\n",
       "      <th>IS_CRIME</th>\n",
       "      <th>IS_TRAFFIC</th>\n",
       "      <th>VICTIM_COUNT</th>\n",
       "      <th>x</th>\n",
       "      <th>y</th>\n",
       "    </tr>\n",
       "  </thead>\n",
       "  <tbody>\n",
       "    <tr>\n",
       "      <th>count</th>\n",
       "      <td>358692.000000</td>\n",
       "      <td>3.586920e+05</td>\n",
       "      <td>3.586920e+05</td>\n",
       "      <td>358692.000000</td>\n",
       "      <td>358692.000000</td>\n",
       "      <td>358692.0</td>\n",
       "      <td>358692.0</td>\n",
       "      <td>3.584390e+05</td>\n",
       "      <td>3.584390e+05</td>\n",
       "      <td>358692.000000</td>\n",
       "      <td>358692.0</td>\n",
       "      <td>358692.0</td>\n",
       "      <td>358692.000000</td>\n",
       "      <td>3.584390e+05</td>\n",
       "      <td>3.584390e+05</td>\n",
       "    </tr>\n",
       "    <tr>\n",
       "      <th>mean</th>\n",
       "      <td>183981.441142</td>\n",
       "      <td>6.707744e+09</td>\n",
       "      <td>6.707744e+15</td>\n",
       "      <td>2758.259147</td>\n",
       "      <td>0.235506</td>\n",
       "      <td>0.0</td>\n",
       "      <td>0.0</td>\n",
       "      <td>-1.049413e+02</td>\n",
       "      <td>3.973244e+01</td>\n",
       "      <td>385.994388</td>\n",
       "      <td>1.0</td>\n",
       "      <td>0.0</td>\n",
       "      <td>1.021043</td>\n",
       "      <td>3.157802e+06</td>\n",
       "      <td>1.694196e+06</td>\n",
       "    </tr>\n",
       "    <tr>\n",
       "      <th>std</th>\n",
       "      <td>105965.678882</td>\n",
       "      <td>1.347193e+10</td>\n",
       "      <td>1.347193e+16</td>\n",
       "      <td>1160.120487</td>\n",
       "      <td>0.654958</td>\n",
       "      <td>0.0</td>\n",
       "      <td>0.0</td>\n",
       "      <td>9.795205e-01</td>\n",
       "      <td>3.721786e-01</td>\n",
       "      <td>184.246986</td>\n",
       "      <td>0.0</td>\n",
       "      <td>0.0</td>\n",
       "      <td>0.247270</td>\n",
       "      <td>3.497013e+05</td>\n",
       "      <td>8.704726e+04</td>\n",
       "    </tr>\n",
       "    <tr>\n",
       "      <th>min</th>\n",
       "      <td>1.000000</td>\n",
       "      <td>2.020600e+04</td>\n",
       "      <td>2.020652e+10</td>\n",
       "      <td>902.000000</td>\n",
       "      <td>0.000000</td>\n",
       "      <td>0.0</td>\n",
       "      <td>0.0</td>\n",
       "      <td>-1.154641e+02</td>\n",
       "      <td>4.000000e-08</td>\n",
       "      <td>111.000000</td>\n",
       "      <td>1.0</td>\n",
       "      <td>0.0</td>\n",
       "      <td>1.000000</td>\n",
       "      <td>9.999778e-01</td>\n",
       "      <td>1.110002e+02</td>\n",
       "    </tr>\n",
       "    <tr>\n",
       "      <th>25%</th>\n",
       "      <td>93979.750000</td>\n",
       "      <td>2.021225e+09</td>\n",
       "      <td>2.021225e+15</td>\n",
       "      <td>2304.000000</td>\n",
       "      <td>0.000000</td>\n",
       "      <td>0.0</td>\n",
       "      <td>0.0</td>\n",
       "      <td>-1.050000e+02</td>\n",
       "      <td>3.970960e+01</td>\n",
       "      <td>222.000000</td>\n",
       "      <td>1.0</td>\n",
       "      <td>0.0</td>\n",
       "      <td>1.000000</td>\n",
       "      <td>3.140597e+06</td>\n",
       "      <td>1.683789e+06</td>\n",
       "    </tr>\n",
       "    <tr>\n",
       "      <th>50%</th>\n",
       "      <td>183652.500000</td>\n",
       "      <td>2.023226e+09</td>\n",
       "      <td>2.023226e+15</td>\n",
       "      <td>2399.000000</td>\n",
       "      <td>0.000000</td>\n",
       "      <td>0.0</td>\n",
       "      <td>0.0</td>\n",
       "      <td>-1.049772e+02</td>\n",
       "      <td>3.974006e+01</td>\n",
       "      <td>323.000000</td>\n",
       "      <td>1.0</td>\n",
       "      <td>0.0</td>\n",
       "      <td>1.000000</td>\n",
       "      <td>3.147018e+06</td>\n",
       "      <td>1.694869e+06</td>\n",
       "    </tr>\n",
       "    <tr>\n",
       "      <th>75%</th>\n",
       "      <td>275172.250000</td>\n",
       "      <td>2.020601e+10</td>\n",
       "      <td>2.020601e+16</td>\n",
       "      <td>2999.000000</td>\n",
       "      <td>0.000000</td>\n",
       "      <td>0.0</td>\n",
       "      <td>0.0</td>\n",
       "      <td>-1.049061e+02</td>\n",
       "      <td>3.976279e+01</td>\n",
       "      <td>523.000000</td>\n",
       "      <td>1.0</td>\n",
       "      <td>0.0</td>\n",
       "      <td>1.000000</td>\n",
       "      <td>3.167055e+06</td>\n",
       "      <td>1.703157e+06</td>\n",
       "    </tr>\n",
       "    <tr>\n",
       "      <th>max</th>\n",
       "      <td>367892.000000</td>\n",
       "      <td>2.024924e+12</td>\n",
       "      <td>2.024924e+18</td>\n",
       "      <td>7399.000000</td>\n",
       "      <td>6.000000</td>\n",
       "      <td>0.0</td>\n",
       "      <td>0.0</td>\n",
       "      <td>5.300000e-07</td>\n",
       "      <td>3.991402e+01</td>\n",
       "      <td>999.000000</td>\n",
       "      <td>1.0</td>\n",
       "      <td>0.0</td>\n",
       "      <td>33.000000</td>\n",
       "      <td>4.067477e+07</td>\n",
       "      <td>1.089045e+07</td>\n",
       "    </tr>\n",
       "  </tbody>\n",
       "</table>\n",
       "</div>"
      ],
      "text/plain": [
       "            OBJECTID   INCIDENT_ID    OFFENSE_ID   OFFENSE_CODE  \\\n",
       "count  358692.000000  3.586920e+05  3.586920e+05  358692.000000   \n",
       "mean   183981.441142  6.707744e+09  6.707744e+15    2758.259147   \n",
       "std    105965.678882  1.347193e+10  1.347193e+16    1160.120487   \n",
       "min         1.000000  2.020600e+04  2.020652e+10     902.000000   \n",
       "25%     93979.750000  2.021225e+09  2.021225e+15    2304.000000   \n",
       "50%    183652.500000  2.023226e+09  2.023226e+15    2399.000000   \n",
       "75%    275172.250000  2.020601e+10  2.020601e+16    2999.000000   \n",
       "max    367892.000000  2.024924e+12  2.024924e+18    7399.000000   \n",
       "\n",
       "       OFFENSE_CODE_EXTENSION     GEO_X     GEO_Y       GEO_LON       GEO_LAT  \\\n",
       "count           358692.000000  358692.0  358692.0  3.584390e+05  3.584390e+05   \n",
       "mean                 0.235506       0.0       0.0 -1.049413e+02  3.973244e+01   \n",
       "std                  0.654958       0.0       0.0  9.795205e-01  3.721786e-01   \n",
       "min                  0.000000       0.0       0.0 -1.154641e+02  4.000000e-08   \n",
       "25%                  0.000000       0.0       0.0 -1.050000e+02  3.970960e+01   \n",
       "50%                  0.000000       0.0       0.0 -1.049772e+02  3.974006e+01   \n",
       "75%                  0.000000       0.0       0.0 -1.049061e+02  3.976279e+01   \n",
       "max                  6.000000       0.0       0.0  5.300000e-07  3.991402e+01   \n",
       "\n",
       "         PRECINCT_ID  IS_CRIME  IS_TRAFFIC   VICTIM_COUNT             x  \\\n",
       "count  358692.000000  358692.0    358692.0  358692.000000  3.584390e+05   \n",
       "mean      385.994388       1.0         0.0       1.021043  3.157802e+06   \n",
       "std       184.246986       0.0         0.0       0.247270  3.497013e+05   \n",
       "min       111.000000       1.0         0.0       1.000000  9.999778e-01   \n",
       "25%       222.000000       1.0         0.0       1.000000  3.140597e+06   \n",
       "50%       323.000000       1.0         0.0       1.000000  3.147018e+06   \n",
       "75%       523.000000       1.0         0.0       1.000000  3.167055e+06   \n",
       "max       999.000000       1.0         0.0      33.000000  4.067477e+07   \n",
       "\n",
       "                  y  \n",
       "count  3.584390e+05  \n",
       "mean   1.694196e+06  \n",
       "std    8.704726e+04  \n",
       "min    1.110002e+02  \n",
       "25%    1.683789e+06  \n",
       "50%    1.694869e+06  \n",
       "75%    1.703157e+06  \n",
       "max    1.089045e+07  "
      ]
     },
     "execution_count": 8,
     "metadata": {},
     "output_type": "execute_result"
    }
   ],
   "source": [
    "# summary\n",
    "crime_df.describe()"
   ]
  },
  {
   "cell_type": "code",
   "execution_count": 10,
   "id": "6847930b-2890-4bb2-bdb8-31cffaf63ad3",
   "metadata": {},
   "outputs": [
    {
     "name": "stdout",
     "output_type": "stream",
     "text": [
      "Index(['OBJECTID', 'INCIDENT_ID', 'OFFENSE_ID', 'OFFENSE_CODE',\n",
      "       'OFFENSE_CODE_EXTENSION', 'OFFENSE_TYPE_ID', 'OFFENSE_CATEGORY_ID',\n",
      "       'FIRST_OCCURRENCE_DATE', 'LAST_OCCURRENCE_DATE', 'REPORTED_DATE',\n",
      "       'INCIDENT_ADDRESS', 'GEO_X', 'GEO_Y', 'GEO_LON', 'GEO_LAT',\n",
      "       'DISTRICT_ID', 'PRECINCT_ID', 'NEIGHBORHOOD_ID', 'IS_CRIME',\n",
      "       'IS_TRAFFIC', 'VICTIM_COUNT', 'x', 'y'],\n",
      "      dtype='object')\n"
     ]
    }
   ],
   "source": [
    "# all feature columns\n",
    "print(crime_df.columns)"
   ]
  },
  {
   "cell_type": "code",
   "execution_count": 7,
   "id": "0095c454-600d-4dc9-b7ad-fca7daedff1d",
   "metadata": {},
   "outputs": [
    {
     "name": "stdout",
     "output_type": "stream",
     "text": [
      "LAST_OCCURRENCE_DATE: 158314 null\n",
      "GEO_LON: 253 null\n",
      "GEO_LAT: 253 null\n",
      "DISTRICT_ID: 37 null\n",
      "NEIGHBORHOOD_ID: 513 null\n",
      "x: 253 null\n",
      "y: 253 null\n"
     ]
    }
   ],
   "source": [
    "# list columns with missing values\n",
    "for feature in crime_df.columns:\n",
    "    null_sum = crime_df[feature].isna().sum()\n",
    "    if null_sum > 0:\n",
    "        print(f'{feature}: {null_sum} null')"
   ]
  },
  {
   "cell_type": "code",
   "execution_count": 12,
   "id": "b4913f8c-f1ec-4e4e-8bd4-dff41cb081a6",
   "metadata": {},
   "outputs": [],
   "source": [
    "# dropping columns\n",
    "crime_df_clean = crime_df.drop(columns=['LAST_OCCURRENCE_DATE', 'DISTRICT_ID', 'x', 'y', 'OBJECTID', 'GEO_X', 'GEO_Y', 'OFFENSE_ID', 'OFFENSE_CODE', 'OFFENSE_CODE_EXTENSION'])"
   ]
  },
  {
   "cell_type": "code",
   "execution_count": 13,
   "id": "b4678589-20f7-4edc-a562-398f1f403c98",
   "metadata": {},
   "outputs": [
    {
     "data": {
      "text/plain": [
       "(358692, 13)"
      ]
     },
     "execution_count": 13,
     "metadata": {},
     "output_type": "execute_result"
    }
   ],
   "source": [
    "crime_df_clean.shape"
   ]
  },
  {
   "cell_type": "code",
   "execution_count": 87,
   "id": "4809eda9-3a61-4bb3-aebf-dd53e5607b52",
   "metadata": {},
   "outputs": [
    {
     "name": "stdout",
     "output_type": "stream",
     "text": [
      "neighborhood: 195 null\n"
     ]
    }
   ],
   "source": [
    "for feature in crime_df_clean.columns:\n",
    "    null_sum = crime_df_clean[feature].isna().sum()\n",
    "    if null_sum > 0:\n",
    "        print(f'{feature}: {null_sum} null')"
   ]
  },
  {
   "cell_type": "code",
   "execution_count": 85,
   "id": "a37bd4bf-2bd7-4e57-9f44-126b296fb077",
   "metadata": {},
   "outputs": [],
   "source": [
    "# drop rows with missing data\n",
    "crime_df_clean = crime_df_clean.dropna(subset=['GEO_LON', 'GEO_LAT', 'NEIGHBORHOOD_ID'])"
   ]
  },
  {
   "cell_type": "code",
   "execution_count": 86,
   "id": "30cb8e3c-d4c3-48bf-9f7d-ed5965172359",
   "metadata": {},
   "outputs": [
    {
     "data": {
      "text/plain": [
       "195"
      ]
     },
     "execution_count": 86,
     "metadata": {},
     "output_type": "execute_result"
    }
   ],
   "source": [
    "crime_df_clean.isnull().sum().sum()"
   ]
  },
  {
   "cell_type": "code",
   "execution_count": 34,
   "id": "2ef85afe-9e1f-4946-b226-e351a5493461",
   "metadata": {},
   "outputs": [],
   "source": [
    "# map clean df into neighborhoods based on lat/long\n",
    "\n",
    "# Step 1: Load the neighborhoods CSV and parse WKT geometries\n",
    "neighborhoods_df[\"the_geom\"] = neighborhoods_df[\"the_geom\"].apply(wkt.loads)\n",
    "gdf_neighborhoods = gpd.GeoDataFrame(neighborhoods_df, geometry=\"the_geom\", crs=\"EPSG:4326\")\n",
    "\n",
    "# Step 2: Convert your main DataFrame with points to a GeoDataFrame\n",
    "crime_df_clean[\"geometry\"] = crime_df_clean.apply(lambda row: Point(row[\"GEO_LON\"], row[\"GEO_LAT\"]), axis=1)\n",
    "gdf_points = gpd.GeoDataFrame(crime_df_clean, geometry=\"geometry\", crs=\"EPSG:4326\")\n",
    "\n",
    "# Step 3: Spatial join — find which neighborhood polygon each point is in\n",
    "gdf_joined = gpd.sjoin(gdf_points, gdf_neighborhoods, how=\"left\", predicate=\"within\")\n",
    "\n",
    "# Step 4: Create the 'neighborhood' column from the joined data\n",
    "crime_df_clean[\"neighborhood\"] = gdf_joined[\"NBHD_NAME\"]"
   ]
  },
  {
   "cell_type": "code",
   "execution_count": 35,
   "id": "512d4b46-2404-481a-b51b-2b14b7cf2d97",
   "metadata": {},
   "outputs": [
    {
     "data": {
      "text/plain": [
       "neighborhood\n",
       "Five Points     22191\n",
       "Stapleton       18139\n",
       "DIA             16823\n",
       "Capitol Hill    13475\n",
       "CBD             12179\n",
       "                ...  \n",
       "Skyland          1056\n",
       "Rosedale          916\n",
       "Country Club      827\n",
       "Indian Creek      691\n",
       "Wellshire         324\n",
       "Name: count, Length: 78, dtype: int64"
      ]
     },
     "execution_count": 35,
     "metadata": {},
     "output_type": "execute_result"
    }
   ],
   "source": [
    "crime_df_clean[\"neighborhood\"].value_counts()"
   ]
  },
  {
   "cell_type": "code",
   "execution_count": 88,
   "id": "e99a36fd-5cef-42b6-9205-9c1ed0b93f54",
   "metadata": {},
   "outputs": [
    {
     "data": {
      "text/plain": [
       "0"
      ]
     },
     "execution_count": 88,
     "metadata": {},
     "output_type": "execute_result"
    }
   ],
   "source": [
    "crime_df_clean = crime_df_clean.dropna(subset=['neighborhood'])\n",
    "crime_df_clean.isnull().sum().sum()"
   ]
  },
  {
   "cell_type": "code",
   "execution_count": 89,
   "id": "1107d90f-d23a-438c-91bf-172be12f1ea7",
   "metadata": {},
   "outputs": [
    {
     "data": {
      "text/html": [
       "<div>\n",
       "<style scoped>\n",
       "    .dataframe tbody tr th:only-of-type {\n",
       "        vertical-align: middle;\n",
       "    }\n",
       "\n",
       "    .dataframe tbody tr th {\n",
       "        vertical-align: top;\n",
       "    }\n",
       "\n",
       "    .dataframe thead th {\n",
       "        text-align: right;\n",
       "    }\n",
       "</style>\n",
       "<table border=\"1\" class=\"dataframe\">\n",
       "  <thead>\n",
       "    <tr style=\"text-align: right;\">\n",
       "      <th></th>\n",
       "      <th>INCIDENT_ID</th>\n",
       "      <th>OFFENSE_TYPE_ID</th>\n",
       "      <th>OFFENSE_CATEGORY_ID</th>\n",
       "      <th>FIRST_OCCURRENCE_DATE</th>\n",
       "      <th>REPORTED_DATE</th>\n",
       "      <th>INCIDENT_ADDRESS</th>\n",
       "      <th>GEO_LON</th>\n",
       "      <th>GEO_LAT</th>\n",
       "      <th>PRECINCT_ID</th>\n",
       "      <th>NEIGHBORHOOD_ID</th>\n",
       "      <th>IS_CRIME</th>\n",
       "      <th>IS_TRAFFIC</th>\n",
       "      <th>VICTIM_COUNT</th>\n",
       "      <th>geometry</th>\n",
       "      <th>neighborhood</th>\n",
       "    </tr>\n",
       "  </thead>\n",
       "  <tbody>\n",
       "    <tr>\n",
       "      <th>0</th>\n",
       "      <td>2020454617</td>\n",
       "      <td>criminal-mischief-other</td>\n",
       "      <td>public-disorder</td>\n",
       "      <td>7/26/2020 11:00:00 PM</td>\n",
       "      <td>7/28/2020 5:09:00 AM</td>\n",
       "      <td>15987 E RANDOLPH PL</td>\n",
       "      <td>-104.801111</td>\n",
       "      <td>39.797827</td>\n",
       "      <td>522</td>\n",
       "      <td>gateway-green-valley-ranch</td>\n",
       "      <td>1</td>\n",
       "      <td>0</td>\n",
       "      <td>1</td>\n",
       "      <td>POINT (-104.80111124 39.7978271)</td>\n",
       "      <td>Gateway - Green Valley Ranch</td>\n",
       "    </tr>\n",
       "    <tr>\n",
       "      <th>1</th>\n",
       "      <td>20206013877</td>\n",
       "      <td>criminal-mischief-other</td>\n",
       "      <td>public-disorder</td>\n",
       "      <td>10/10/2020 11:55:00 AM</td>\n",
       "      <td>10/14/2020 10:20:00 PM</td>\n",
       "      <td>6980 E GIRARD AVE</td>\n",
       "      <td>-104.905807</td>\n",
       "      <td>39.654774</td>\n",
       "      <td>323</td>\n",
       "      <td>hampden</td>\n",
       "      <td>1</td>\n",
       "      <td>0</td>\n",
       "      <td>1</td>\n",
       "      <td>POINT (-104.90580731 39.65477351)</td>\n",
       "      <td>Hampden</td>\n",
       "    </tr>\n",
       "  </tbody>\n",
       "</table>\n",
       "</div>"
      ],
      "text/plain": [
       "   INCIDENT_ID          OFFENSE_TYPE_ID OFFENSE_CATEGORY_ID  \\\n",
       "0   2020454617  criminal-mischief-other     public-disorder   \n",
       "1  20206013877  criminal-mischief-other     public-disorder   \n",
       "\n",
       "    FIRST_OCCURRENCE_DATE           REPORTED_DATE     INCIDENT_ADDRESS  \\\n",
       "0   7/26/2020 11:00:00 PM    7/28/2020 5:09:00 AM  15987 E RANDOLPH PL   \n",
       "1  10/10/2020 11:55:00 AM  10/14/2020 10:20:00 PM    6980 E GIRARD AVE   \n",
       "\n",
       "      GEO_LON    GEO_LAT  PRECINCT_ID             NEIGHBORHOOD_ID  IS_CRIME  \\\n",
       "0 -104.801111  39.797827          522  gateway-green-valley-ranch         1   \n",
       "1 -104.905807  39.654774          323                     hampden         1   \n",
       "\n",
       "   IS_TRAFFIC  VICTIM_COUNT                           geometry  \\\n",
       "0           0             1   POINT (-104.80111124 39.7978271)   \n",
       "1           0             1  POINT (-104.90580731 39.65477351)   \n",
       "\n",
       "                   neighborhood  \n",
       "0  Gateway - Green Valley Ranch  \n",
       "1                       Hampden  "
      ]
     },
     "execution_count": 89,
     "metadata": {},
     "output_type": "execute_result"
    }
   ],
   "source": [
    "crime_df_clean.head(2)"
   ]
  },
  {
   "cell_type": "code",
   "execution_count": 90,
   "id": "fee48889-4082-4b4b-81c8-08e105a50684",
   "metadata": {},
   "outputs": [
    {
     "data": {
      "text/plain": [
       "(357984, 15)"
      ]
     },
     "execution_count": 90,
     "metadata": {},
     "output_type": "execute_result"
    }
   ],
   "source": [
    "crime_df_clean.shape"
   ]
  },
  {
   "cell_type": "markdown",
   "id": "a8b3994f-a592-48cf-b5de-584a0d8a6621",
   "metadata": {},
   "source": [
    "## After School Programs\n",
    "\n",
    "- drop feature columns\n",
    "- deal with missing values\n",
    "- map into neighborhoods"
   ]
  },
  {
   "cell_type": "code",
   "execution_count": 38,
   "id": "6fc5da69-91d3-42ec-ac9c-81aded9d422a",
   "metadata": {},
   "outputs": [
    {
     "data": {
      "text/html": [
       "<div>\n",
       "<style scoped>\n",
       "    .dataframe tbody tr th:only-of-type {\n",
       "        vertical-align: middle;\n",
       "    }\n",
       "\n",
       "    .dataframe tbody tr th {\n",
       "        vertical-align: top;\n",
       "    }\n",
       "\n",
       "    .dataframe thead th {\n",
       "        text-align: right;\n",
       "    }\n",
       "</style>\n",
       "<table border=\"1\" class=\"dataframe\">\n",
       "  <thead>\n",
       "    <tr style=\"text-align: right;\">\n",
       "      <th></th>\n",
       "      <th>OBJECTID</th>\n",
       "      <th>ORG_ID</th>\n",
       "      <th>SITE_ID</th>\n",
       "      <th>GLOBAL_SITEID</th>\n",
       "      <th>GLOBAL_LOCATION_TYPE</th>\n",
       "      <th>GLOBAL_LOCATION_NAME</th>\n",
       "      <th>SITE_NAME</th>\n",
       "      <th>GLOBAL_STREET_ADDR</th>\n",
       "      <th>GLOBAL_CITY</th>\n",
       "      <th>GLOBAL_STATE</th>\n",
       "      <th>...</th>\n",
       "      <th>ORG_PLIMAGE</th>\n",
       "      <th>ORG_MAIN_ZIP</th>\n",
       "      <th>GLOBAL_ADDR_SOURCE</th>\n",
       "      <th>GLOBAL_ADDR_ID</th>\n",
       "      <th>GLOBAL_LAT</th>\n",
       "      <th>GLOBAL_LONG</th>\n",
       "      <th>GLOBAL_CONTACT_PH</th>\n",
       "      <th>DPS_SCHOOL_NUM</th>\n",
       "      <th>x</th>\n",
       "      <th>y</th>\n",
       "    </tr>\n",
       "  </thead>\n",
       "  <tbody>\n",
       "    <tr>\n",
       "      <th>0</th>\n",
       "      <td>1</td>\n",
       "      <td>36553</td>\n",
       "      <td>133332</td>\n",
       "      <td>124485</td>\n",
       "      <td>Recreation Center</td>\n",
       "      <td>La Alma Recreation Center</td>\n",
       "      <td>La Alma Recreation Center</td>\n",
       "      <td>1325 West 11th Ave.</td>\n",
       "      <td>Denver</td>\n",
       "      <td>CO</td>\n",
       "      <td>...</td>\n",
       "      <td>https://denvergov.org/media/denverapps/youthpr...</td>\n",
       "      <td>NaN</td>\n",
       "      <td>DAD</td>\n",
       "      <td>163468.0</td>\n",
       "      <td>39.734586</td>\n",
       "      <td>-105.004155</td>\n",
       "      <td>NaN</td>\n",
       "      <td>NaN</td>\n",
       "      <td>3.139453e+06</td>\n",
       "      <td>1.692833e+06</td>\n",
       "    </tr>\n",
       "    <tr>\n",
       "      <th>1</th>\n",
       "      <td>2</td>\n",
       "      <td>36553</td>\n",
       "      <td>133332</td>\n",
       "      <td>124485</td>\n",
       "      <td>Recreation Center</td>\n",
       "      <td>La Alma Recreation Center</td>\n",
       "      <td>La Alma Recreation Center</td>\n",
       "      <td>1325 West 11th Ave.</td>\n",
       "      <td>Denver</td>\n",
       "      <td>CO</td>\n",
       "      <td>...</td>\n",
       "      <td>https://denvergov.org/media/denverapps/youthpr...</td>\n",
       "      <td>NaN</td>\n",
       "      <td>DAD</td>\n",
       "      <td>163468.0</td>\n",
       "      <td>39.734586</td>\n",
       "      <td>-105.004155</td>\n",
       "      <td>NaN</td>\n",
       "      <td>NaN</td>\n",
       "      <td>3.139453e+06</td>\n",
       "      <td>1.692833e+06</td>\n",
       "    </tr>\n",
       "    <tr>\n",
       "      <th>2</th>\n",
       "      <td>3</td>\n",
       "      <td>36553</td>\n",
       "      <td>133332</td>\n",
       "      <td>124485</td>\n",
       "      <td>Recreation Center</td>\n",
       "      <td>La Alma Recreation Center</td>\n",
       "      <td>La Alma Recreation Center</td>\n",
       "      <td>1325 West 11th Ave.</td>\n",
       "      <td>Denver</td>\n",
       "      <td>CO</td>\n",
       "      <td>...</td>\n",
       "      <td>https://denvergov.org/media/denverapps/youthpr...</td>\n",
       "      <td>NaN</td>\n",
       "      <td>DAD</td>\n",
       "      <td>163468.0</td>\n",
       "      <td>39.734586</td>\n",
       "      <td>-105.004155</td>\n",
       "      <td>NaN</td>\n",
       "      <td>NaN</td>\n",
       "      <td>3.139453e+06</td>\n",
       "      <td>1.692833e+06</td>\n",
       "    </tr>\n",
       "    <tr>\n",
       "      <th>3</th>\n",
       "      <td>4</td>\n",
       "      <td>36553</td>\n",
       "      <td>133332</td>\n",
       "      <td>124485</td>\n",
       "      <td>Recreation Center</td>\n",
       "      <td>La Alma Recreation Center</td>\n",
       "      <td>La Alma Recreation Center</td>\n",
       "      <td>1325 West 11th Ave.</td>\n",
       "      <td>Denver</td>\n",
       "      <td>CO</td>\n",
       "      <td>...</td>\n",
       "      <td>https://denvergov.org/media/denverapps/youthpr...</td>\n",
       "      <td>NaN</td>\n",
       "      <td>DAD</td>\n",
       "      <td>163468.0</td>\n",
       "      <td>39.734586</td>\n",
       "      <td>-105.004155</td>\n",
       "      <td>NaN</td>\n",
       "      <td>NaN</td>\n",
       "      <td>3.139453e+06</td>\n",
       "      <td>1.692833e+06</td>\n",
       "    </tr>\n",
       "    <tr>\n",
       "      <th>4</th>\n",
       "      <td>5</td>\n",
       "      <td>36553</td>\n",
       "      <td>133332</td>\n",
       "      <td>124485</td>\n",
       "      <td>Recreation Center</td>\n",
       "      <td>La Alma Recreation Center</td>\n",
       "      <td>La Alma Recreation Center</td>\n",
       "      <td>1325 West 11th Ave.</td>\n",
       "      <td>Denver</td>\n",
       "      <td>CO</td>\n",
       "      <td>...</td>\n",
       "      <td>https://denvergov.org/media/denverapps/youthpr...</td>\n",
       "      <td>NaN</td>\n",
       "      <td>DAD</td>\n",
       "      <td>163468.0</td>\n",
       "      <td>39.734586</td>\n",
       "      <td>-105.004155</td>\n",
       "      <td>NaN</td>\n",
       "      <td>NaN</td>\n",
       "      <td>3.139453e+06</td>\n",
       "      <td>1.692833e+06</td>\n",
       "    </tr>\n",
       "  </tbody>\n",
       "</table>\n",
       "<p>5 rows × 253 columns</p>\n",
       "</div>"
      ],
      "text/plain": [
       "   OBJECTID  ORG_ID  SITE_ID  GLOBAL_SITEID GLOBAL_LOCATION_TYPE  \\\n",
       "0         1   36553   133332         124485    Recreation Center   \n",
       "1         2   36553   133332         124485    Recreation Center   \n",
       "2         3   36553   133332         124485    Recreation Center   \n",
       "3         4   36553   133332         124485    Recreation Center   \n",
       "4         5   36553   133332         124485    Recreation Center   \n",
       "\n",
       "        GLOBAL_LOCATION_NAME                  SITE_NAME   GLOBAL_STREET_ADDR  \\\n",
       "0  La Alma Recreation Center  La Alma Recreation Center  1325 West 11th Ave.   \n",
       "1  La Alma Recreation Center  La Alma Recreation Center  1325 West 11th Ave.   \n",
       "2  La Alma Recreation Center  La Alma Recreation Center  1325 West 11th Ave.   \n",
       "3  La Alma Recreation Center  La Alma Recreation Center  1325 West 11th Ave.   \n",
       "4  La Alma Recreation Center  La Alma Recreation Center  1325 West 11th Ave.   \n",
       "\n",
       "  GLOBAL_CITY GLOBAL_STATE  ...  \\\n",
       "0      Denver           CO  ...   \n",
       "1      Denver           CO  ...   \n",
       "2      Denver           CO  ...   \n",
       "3      Denver           CO  ...   \n",
       "4      Denver           CO  ...   \n",
       "\n",
       "                                         ORG_PLIMAGE  ORG_MAIN_ZIP  \\\n",
       "0  https://denvergov.org/media/denverapps/youthpr...           NaN   \n",
       "1  https://denvergov.org/media/denverapps/youthpr...           NaN   \n",
       "2  https://denvergov.org/media/denverapps/youthpr...           NaN   \n",
       "3  https://denvergov.org/media/denverapps/youthpr...           NaN   \n",
       "4  https://denvergov.org/media/denverapps/youthpr...           NaN   \n",
       "\n",
       "   GLOBAL_ADDR_SOURCE  GLOBAL_ADDR_ID GLOBAL_LAT GLOBAL_LONG  \\\n",
       "0                 DAD        163468.0  39.734586 -105.004155   \n",
       "1                 DAD        163468.0  39.734586 -105.004155   \n",
       "2                 DAD        163468.0  39.734586 -105.004155   \n",
       "3                 DAD        163468.0  39.734586 -105.004155   \n",
       "4                 DAD        163468.0  39.734586 -105.004155   \n",
       "\n",
       "   GLOBAL_CONTACT_PH  DPS_SCHOOL_NUM             x             y  \n",
       "0                NaN             NaN  3.139453e+06  1.692833e+06  \n",
       "1                NaN             NaN  3.139453e+06  1.692833e+06  \n",
       "2                NaN             NaN  3.139453e+06  1.692833e+06  \n",
       "3                NaN             NaN  3.139453e+06  1.692833e+06  \n",
       "4                NaN             NaN  3.139453e+06  1.692833e+06  \n",
       "\n",
       "[5 rows x 253 columns]"
      ]
     },
     "execution_count": 38,
     "metadata": {},
     "output_type": "execute_result"
    }
   ],
   "source": [
    "school_df.head(5)"
   ]
  },
  {
   "cell_type": "code",
   "execution_count": 41,
   "id": "6db96ba4-5b4c-48a7-92b5-ce34c0650708",
   "metadata": {},
   "outputs": [
    {
     "data": {
      "text/plain": [
       "(27379, 9)"
      ]
     },
     "execution_count": 41,
     "metadata": {},
     "output_type": "execute_result"
    }
   ],
   "source": [
    "school_df_clean = school_df[['GLOBAL_LAT', 'GLOBAL_LONG', 'ORG_ID', 'GLOBAL_LOCATION_NAME', 'PROGRAM_NAME', 'PROGRAM_STATUS', 'PROGRAM_FEE', 'ORG_NAME', 'ORG_WEB_ADDR']]\n",
    "school_df_clean.shape"
   ]
  },
  {
   "cell_type": "code",
   "execution_count": 42,
   "id": "ea658d62-57cb-4b8f-9f49-e63aae60d66d",
   "metadata": {},
   "outputs": [
    {
     "data": {
      "text/plain": [
       "GLOBAL_LAT               95\n",
       "GLOBAL_LONG              95\n",
       "ORG_ID                    0\n",
       "GLOBAL_LOCATION_NAME     95\n",
       "PROGRAM_NAME            996\n",
       "PROGRAM_STATUS          996\n",
       "PROGRAM_FEE             996\n",
       "ORG_NAME                  9\n",
       "ORG_WEB_ADDR             65\n",
       "dtype: int64"
      ]
     },
     "execution_count": 42,
     "metadata": {},
     "output_type": "execute_result"
    }
   ],
   "source": [
    "school_df_clean.isnull().sum()"
   ]
  },
  {
   "cell_type": "code",
   "execution_count": 43,
   "id": "a85e98f1-141f-4c79-9769-c278a329498f",
   "metadata": {},
   "outputs": [],
   "source": [
    "# drop missing values from important rows - lat/lng\n",
    "school_df_clean = school_df_clean.dropna(subset=['GLOBAL_LONG', 'GLOBAL_LAT'])"
   ]
  },
  {
   "cell_type": "code",
   "execution_count": 46,
   "id": "1154cecd-e752-4e17-8fc1-ecaaf9794d1b",
   "metadata": {},
   "outputs": [],
   "source": [
    "# map clean df into neighborhoods based on lat/long\n",
    "\n",
    "# Step 2: Convert your main DataFrame with points to a GeoDataFrame\n",
    "school_df_clean[\"geometry\"] = school_df_clean.apply(lambda row: Point(row[\"GLOBAL_LONG\"], row[\"GLOBAL_LAT\"]), axis=1)\n",
    "school_gdf_points = gpd.GeoDataFrame(school_df_clean, geometry=\"geometry\", crs=\"EPSG:4326\")\n",
    "\n",
    "# Step 3: Spatial join — find which neighborhood polygon each point is in\n",
    "school_gdf_joined = gpd.sjoin(school_gdf_points, gdf_neighborhoods, how=\"left\", predicate=\"within\")\n",
    "\n",
    "# Step 4: Create the 'neighborhood' column from the joined data\n",
    "school_df_clean[\"neighborhood\"] = school_gdf_joined[\"NBHD_NAME\"]"
   ]
  },
  {
   "cell_type": "code",
   "execution_count": 47,
   "id": "cb0eff9a-54c3-4949-9b41-16384e59121d",
   "metadata": {},
   "outputs": [
    {
     "data": {
      "text/plain": [
       "neighborhood\n",
       "Gateway - Green Valley Ranch    1656\n",
       "Stapleton                       1636\n",
       "Montbello                       1353\n",
       "Mar Lee                          949\n",
       "Hilltop                          751\n",
       "                                ... \n",
       "Southmoor Park                    19\n",
       "Goldsmith                         16\n",
       "Kennedy                           13\n",
       "Auraria                           13\n",
       "Union Station                      7\n",
       "Name: count, Length: 76, dtype: int64"
      ]
     },
     "execution_count": 47,
     "metadata": {},
     "output_type": "execute_result"
    }
   ],
   "source": [
    "school_df_clean[\"neighborhood\"].value_counts()"
   ]
  },
  {
   "cell_type": "code",
   "execution_count": 48,
   "id": "11d32c98-3d7a-4406-aed2-ccd5d6a65531",
   "metadata": {},
   "outputs": [
    {
     "data": {
      "text/plain": [
       "GLOBAL_LAT                 0\n",
       "GLOBAL_LONG                0\n",
       "ORG_ID                     0\n",
       "GLOBAL_LOCATION_NAME       0\n",
       "PROGRAM_NAME             988\n",
       "PROGRAM_STATUS           988\n",
       "PROGRAM_FEE              988\n",
       "ORG_NAME                   9\n",
       "ORG_WEB_ADDR              65\n",
       "geometry                   0\n",
       "neighborhood            2212\n",
       "dtype: int64"
      ]
     },
     "execution_count": 48,
     "metadata": {},
     "output_type": "execute_result"
    }
   ],
   "source": [
    "school_df_clean.isnull().sum()"
   ]
  },
  {
   "cell_type": "code",
   "execution_count": 50,
   "id": "78d75b3b-0bc5-4794-b49f-84b00efc235f",
   "metadata": {},
   "outputs": [],
   "source": [
    "school_df_clean = school_df_clean[school_df_clean[\"GLOBAL_LOCATION_NAME\"] != \"Virtual\"]"
   ]
  },
  {
   "cell_type": "code",
   "execution_count": 54,
   "id": "d0b528d0-573e-40da-87bc-ae4f9769bebd",
   "metadata": {},
   "outputs": [],
   "source": [
    "school_df_clean = school_df_clean.dropna(subset=['neighborhood'])"
   ]
  },
  {
   "cell_type": "code",
   "execution_count": 55,
   "id": "db9e69b6-631f-4472-97e4-6fef1d5dc561",
   "metadata": {},
   "outputs": [
    {
     "data": {
      "text/plain": [
       "GLOBAL_LAT                0\n",
       "GLOBAL_LONG               0\n",
       "ORG_ID                    0\n",
       "GLOBAL_LOCATION_NAME      0\n",
       "PROGRAM_NAME            768\n",
       "PROGRAM_STATUS          768\n",
       "PROGRAM_FEE             768\n",
       "ORG_NAME                  6\n",
       "ORG_WEB_ADDR             57\n",
       "geometry                  0\n",
       "neighborhood              0\n",
       "dtype: int64"
      ]
     },
     "execution_count": 55,
     "metadata": {},
     "output_type": "execute_result"
    }
   ],
   "source": [
    "school_df_clean.isnull().sum()"
   ]
  },
  {
   "cell_type": "code",
   "execution_count": 56,
   "id": "b8c7796a-f068-4f2d-a9f7-b8438b2ba070",
   "metadata": {},
   "outputs": [
    {
     "data": {
      "text/plain": [
       "(25072, 11)"
      ]
     },
     "execution_count": 56,
     "metadata": {},
     "output_type": "execute_result"
    }
   ],
   "source": [
    "school_df_clean.shape"
   ]
  },
  {
   "cell_type": "code",
   "execution_count": 57,
   "id": "e7eb7a0b-7154-4e8d-9ab5-ec80ddd34309",
   "metadata": {},
   "outputs": [
    {
     "data": {
      "text/html": [
       "<div>\n",
       "<style scoped>\n",
       "    .dataframe tbody tr th:only-of-type {\n",
       "        vertical-align: middle;\n",
       "    }\n",
       "\n",
       "    .dataframe tbody tr th {\n",
       "        vertical-align: top;\n",
       "    }\n",
       "\n",
       "    .dataframe thead th {\n",
       "        text-align: right;\n",
       "    }\n",
       "</style>\n",
       "<table border=\"1\" class=\"dataframe\">\n",
       "  <thead>\n",
       "    <tr style=\"text-align: right;\">\n",
       "      <th></th>\n",
       "      <th>GLOBAL_LAT</th>\n",
       "      <th>GLOBAL_LONG</th>\n",
       "      <th>ORG_ID</th>\n",
       "      <th>GLOBAL_LOCATION_NAME</th>\n",
       "      <th>PROGRAM_NAME</th>\n",
       "      <th>PROGRAM_STATUS</th>\n",
       "      <th>PROGRAM_FEE</th>\n",
       "      <th>ORG_NAME</th>\n",
       "      <th>ORG_WEB_ADDR</th>\n",
       "      <th>geometry</th>\n",
       "      <th>neighborhood</th>\n",
       "    </tr>\n",
       "  </thead>\n",
       "  <tbody>\n",
       "    <tr>\n",
       "      <th>0</th>\n",
       "      <td>39.734586</td>\n",
       "      <td>-105.004155</td>\n",
       "      <td>36553</td>\n",
       "      <td>La Alma Recreation Center</td>\n",
       "      <td>Indoor Pool</td>\n",
       "      <td>Active</td>\n",
       "      <td>1.0</td>\n",
       "      <td>Denver Parks and Recreation - City &amp; County of...</td>\n",
       "      <td>https://www.denvergov.org/recreation</td>\n",
       "      <td>POINT (-105.0041546 39.73458561)</td>\n",
       "      <td>Lincoln Park</td>\n",
       "    </tr>\n",
       "    <tr>\n",
       "      <th>1</th>\n",
       "      <td>39.734586</td>\n",
       "      <td>-105.004155</td>\n",
       "      <td>36553</td>\n",
       "      <td>La Alma Recreation Center</td>\n",
       "      <td>Indoor Pool</td>\n",
       "      <td>Active</td>\n",
       "      <td>1.0</td>\n",
       "      <td>Denver Parks and Recreation - City &amp; County of...</td>\n",
       "      <td>https://www.denvergov.org/recreation</td>\n",
       "      <td>POINT (-105.0041546 39.73458561)</td>\n",
       "      <td>Lincoln Park</td>\n",
       "    </tr>\n",
       "    <tr>\n",
       "      <th>2</th>\n",
       "      <td>39.734586</td>\n",
       "      <td>-105.004155</td>\n",
       "      <td>36553</td>\n",
       "      <td>La Alma Recreation Center</td>\n",
       "      <td>Indoor Pool</td>\n",
       "      <td>Active</td>\n",
       "      <td>1.0</td>\n",
       "      <td>Denver Parks and Recreation - City &amp; County of...</td>\n",
       "      <td>https://www.denvergov.org/recreation</td>\n",
       "      <td>POINT (-105.0041546 39.73458561)</td>\n",
       "      <td>Lincoln Park</td>\n",
       "    </tr>\n",
       "    <tr>\n",
       "      <th>3</th>\n",
       "      <td>39.734586</td>\n",
       "      <td>-105.004155</td>\n",
       "      <td>36553</td>\n",
       "      <td>La Alma Recreation Center</td>\n",
       "      <td>Indoor Pool</td>\n",
       "      <td>Active</td>\n",
       "      <td>1.0</td>\n",
       "      <td>Denver Parks and Recreation - City &amp; County of...</td>\n",
       "      <td>https://www.denvergov.org/recreation</td>\n",
       "      <td>POINT (-105.0041546 39.73458561)</td>\n",
       "      <td>Lincoln Park</td>\n",
       "    </tr>\n",
       "    <tr>\n",
       "      <th>4</th>\n",
       "      <td>39.734586</td>\n",
       "      <td>-105.004155</td>\n",
       "      <td>36553</td>\n",
       "      <td>La Alma Recreation Center</td>\n",
       "      <td>Indoor Pool</td>\n",
       "      <td>Active</td>\n",
       "      <td>1.0</td>\n",
       "      <td>Denver Parks and Recreation - City &amp; County of...</td>\n",
       "      <td>https://www.denvergov.org/recreation</td>\n",
       "      <td>POINT (-105.0041546 39.73458561)</td>\n",
       "      <td>Lincoln Park</td>\n",
       "    </tr>\n",
       "  </tbody>\n",
       "</table>\n",
       "</div>"
      ],
      "text/plain": [
       "   GLOBAL_LAT  GLOBAL_LONG  ORG_ID       GLOBAL_LOCATION_NAME PROGRAM_NAME  \\\n",
       "0   39.734586  -105.004155   36553  La Alma Recreation Center  Indoor Pool   \n",
       "1   39.734586  -105.004155   36553  La Alma Recreation Center  Indoor Pool   \n",
       "2   39.734586  -105.004155   36553  La Alma Recreation Center  Indoor Pool   \n",
       "3   39.734586  -105.004155   36553  La Alma Recreation Center  Indoor Pool   \n",
       "4   39.734586  -105.004155   36553  La Alma Recreation Center  Indoor Pool   \n",
       "\n",
       "  PROGRAM_STATUS  PROGRAM_FEE  \\\n",
       "0         Active          1.0   \n",
       "1         Active          1.0   \n",
       "2         Active          1.0   \n",
       "3         Active          1.0   \n",
       "4         Active          1.0   \n",
       "\n",
       "                                            ORG_NAME  \\\n",
       "0  Denver Parks and Recreation - City & County of...   \n",
       "1  Denver Parks and Recreation - City & County of...   \n",
       "2  Denver Parks and Recreation - City & County of...   \n",
       "3  Denver Parks and Recreation - City & County of...   \n",
       "4  Denver Parks and Recreation - City & County of...   \n",
       "\n",
       "                           ORG_WEB_ADDR                          geometry  \\\n",
       "0  https://www.denvergov.org/recreation  POINT (-105.0041546 39.73458561)   \n",
       "1  https://www.denvergov.org/recreation  POINT (-105.0041546 39.73458561)   \n",
       "2  https://www.denvergov.org/recreation  POINT (-105.0041546 39.73458561)   \n",
       "3  https://www.denvergov.org/recreation  POINT (-105.0041546 39.73458561)   \n",
       "4  https://www.denvergov.org/recreation  POINT (-105.0041546 39.73458561)   \n",
       "\n",
       "   neighborhood  \n",
       "0  Lincoln Park  \n",
       "1  Lincoln Park  \n",
       "2  Lincoln Park  \n",
       "3  Lincoln Park  \n",
       "4  Lincoln Park  "
      ]
     },
     "execution_count": 57,
     "metadata": {},
     "output_type": "execute_result"
    }
   ],
   "source": [
    "school_df_clean.head(5)"
   ]
  },
  {
   "cell_type": "markdown",
   "id": "cc5d0639-0ac0-4bca-89db-698fcf5a095c",
   "metadata": {},
   "source": [
    "## Neighborhood Data"
   ]
  },
  {
   "cell_type": "code",
   "execution_count": 70,
   "id": "03a34bb6-49ec-47b2-9b35-fa66a3b003e0",
   "metadata": {},
   "outputs": [
    {
     "name": "stdout",
     "output_type": "stream",
     "text": [
      "{'Stapleton'}\n",
      "{'Central Park'}\n"
     ]
    }
   ],
   "source": [
    "# finding mismatched names\n",
    "equity_nhbds = equity_df[\"NBHD_NAME\"]\n",
    "demo_nhbds = demographics_df[\"Neighborhood Name\"]\n",
    "print(set(equity_nhbds) - set(demo_nhbds))\n",
    "print(set(demo_nhbds) - set(equity_nhbds))"
   ]
  },
  {
   "cell_type": "code",
   "execution_count": 71,
   "id": "6d066e8d-0579-401d-a2da-93a43b33e1a9",
   "metadata": {},
   "outputs": [],
   "source": [
    "# changing equity_df Stapleton to Central Park\n",
    "equity_df[\"NBHD_NAME\"] = equity_df[\"NBHD_NAME\"].replace({'Stapleton': 'Central Park'})"
   ]
  },
  {
   "cell_type": "code",
   "execution_count": 73,
   "id": "63b96ee3-0253-4270-86e9-c254a7f594d2",
   "metadata": {},
   "outputs": [
    {
     "data": {
      "text/plain": [
       "(78, 151)"
      ]
     },
     "execution_count": 73,
     "metadata": {},
     "output_type": "execute_result"
    }
   ],
   "source": [
    "demographics_df.shape"
   ]
  },
  {
   "cell_type": "code",
   "execution_count": 74,
   "id": "d11ad30f-3411-44ba-b1bc-50c72db0dd19",
   "metadata": {},
   "outputs": [
    {
     "data": {
      "text/plain": [
       "(78, 162)"
      ]
     },
     "execution_count": 74,
     "metadata": {},
     "output_type": "execute_result"
    }
   ],
   "source": [
    "# merging equity and demographics dataframes so in single df\n",
    "merged_df = pd.merge(equity_df, demographics_df, left_on=\"NBHD_NAME\", right_on=\"Neighborhood Name\", how=\"inner\")\n",
    "merged_df.shape"
   ]
  },
  {
   "cell_type": "code",
   "execution_count": 78,
   "id": "e0285414-d90c-43e7-82ea-299a4a76ed37",
   "metadata": {},
   "outputs": [
    {
     "data": {
      "text/plain": [
       "(78, 161)"
      ]
     },
     "execution_count": 78,
     "metadata": {},
     "output_type": "execute_result"
    }
   ],
   "source": [
    "merged_df = merged_df.drop(columns=[\"NBHD_NAME\"])\n",
    "merged_df.shape"
   ]
  },
  {
   "cell_type": "code",
   "execution_count": 93,
   "id": "fc8be859-3d0d-41eb-9211-0dd38cf73fb8",
   "metadata": {},
   "outputs": [
    {
     "name": "stdout",
     "output_type": "stream",
     "text": [
      "{'Stapleton'}\n",
      "{'Central Park'}\n"
     ]
    }
   ],
   "source": [
    "# test mismatched names with other dataframes - both crime and school programs has same neighborhood name values\n",
    "merged_nhbds = merged_df[\"Neighborhood Name\"]\n",
    "crime_nhbds = crime_df_clean[\"neighborhood\"]\n",
    "school_nhbds = school_df_clean[\"neighborhood\"]\n",
    "print(set(crime_nhbds) - set(merged_nhbds))\n",
    "print(set(merged_nhbds) - set(crime_nhbds))"
   ]
  },
  {
   "cell_type": "code",
   "execution_count": 94,
   "id": "d32b6338-2d31-4aa7-b8c7-dad486b936ff",
   "metadata": {},
   "outputs": [
    {
     "name": "stdout",
     "output_type": "stream",
     "text": [
      "{'Stapleton'}\n",
      "{'Windsor', 'Country Club', 'Central Park'}\n"
     ]
    }
   ],
   "source": [
    "print(set(school_nhbds) - set(merged_nhbds))\n",
    "print(set(merged_nhbds) - set(school_nhbds))"
   ]
  },
  {
   "cell_type": "code",
   "execution_count": 96,
   "id": "098ff21b-8220-4ae6-9110-09b1c62df081",
   "metadata": {},
   "outputs": [
    {
     "name": "stdout",
     "output_type": "stream",
     "text": [
      "(357984, 15)\n",
      "(25072, 11)\n"
     ]
    }
   ],
   "source": [
    "# changing Stapleton to Central Park\n",
    "crime_df_clean[\"neighborhood\"] = crime_df_clean[\"neighborhood\"].replace({'Stapleton': 'Central Park'})\n",
    "school_df_clean[\"neighborhood\"] = school_df_clean[\"neighborhood\"].replace({'Stapleton': 'Central Park'})\n",
    "print(crime_df_clean.shape)\n",
    "print(school_df_clean.shape)"
   ]
  },
  {
   "cell_type": "markdown",
   "id": "77f2e7a9-7054-4b02-922f-6ea74662d426",
   "metadata": {},
   "source": [
    "NEXT STEPS:\n",
    "\n",
    "crime_df_clean:<br>\n",
    "- groupby neighborhood\n",
    "- calculate the count of each crime type and total crime type for each neighborhood\n",
    "- merge the crime counts into the merged_df\n",
    "\n",
    "school_df_clean:<br>\n",
    "- groupby neighborhood\n",
    "- calcualte total counts of after school programs for each neighborhood\n",
    "- merge total counts into merged_df\n",
    "\n",
    "merged_df:<br>\n",
    "- calculate total crimes per 1000 residents\n",
    "- calculate crimes of different types per 1000 residents\n",
    "- save as csv\n",
    "\n",
    "Save all new dataframes as csv and store in ../processed directory"
   ]
  },
  {
   "cell_type": "code",
   "execution_count": 100,
   "id": "dd236671-4a2d-4dd0-a702-d1756327fb58",
   "metadata": {},
   "outputs": [
    {
     "data": {
      "text/plain": [
       "OFFENSE_CATEGORY_ID\n",
       "theft-from-motor-vehicle        62294\n",
       "auto-theft                      58355\n",
       "public-disorder                 55179\n",
       "larceny                         53785\n",
       "all-other-crimes                42072\n",
       "burglary                        26802\n",
       "drug-alcohol                    17141\n",
       "other-crimes-against-persons    14519\n",
       "aggravated-assault              14214\n",
       "robbery                          6367\n",
       "white-collar-crime               6056\n",
       "arson                             827\n",
       "murder                            373\n",
       "Name: count, dtype: int64"
      ]
     },
     "execution_count": 100,
     "metadata": {},
     "output_type": "execute_result"
    }
   ],
   "source": [
    "crime_df_clean[\"OFFENSE_CATEGORY_ID\"].value_counts()"
   ]
  },
  {
   "cell_type": "code",
   "execution_count": 104,
   "id": "db30cc3e-5606-4c3d-97e0-89002303316b",
   "metadata": {},
   "outputs": [],
   "source": [
    "# aggregate and create new df with crimes per neighborhood\n",
    "crime_count_df = crime_df_clean.groupby(\"neighborhood\").agg(\n",
    "    total_cime_incidents = (\"OFFENSE_CATEGORY_ID\", \"count\"),\n",
    "    theft_from_motor_vehicle = (\"OFFENSE_CATEGORY_ID\", lambda x: (x == \"theft-from-motor-vehicle\").sum()),\n",
    "    auto_theft = (\"OFFENSE_CATEGORY_ID\", lambda x: (x == \"auto-theft\").sum()),\n",
    "    public_disorder = (\"OFFENSE_CATEGORY_ID\", lambda x: (x == \"public-disorder\").sum()),\n",
    "    larceny = (\"OFFENSE_CATEGORY_ID\", lambda x: (x == \"larceny\").sum()),\n",
    "    all_other_crimes = (\"OFFENSE_CATEGORY_ID\", lambda x: (x == \"all-other-crimes\").sum()),\n",
    "    burglary = (\"OFFENSE_CATEGORY_ID\", lambda x: (x == \"burglary\").sum()),\n",
    "    drug_alcohol = (\"OFFENSE_CATEGORY_ID\", lambda x: (x == \"drug-alcohol\").sum()),\n",
    "    other_crimes_against_persons = (\"OFFENSE_CATEGORY_ID\", lambda x: (x == \"other-crimes-against-persons\").sum()),\n",
    "    aggravated_assault = (\"OFFENSE_CATEGORY_ID\", lambda x: (x == \"aggravated-assault\").sum()),\n",
    "    robbery = (\"OFFENSE_CATEGORY_ID\", lambda x: (x == \"robbery\").sum()),\n",
    "    white_collar_crime = (\"OFFENSE_CATEGORY_ID\", lambda x: (x == \"white-collar-crime\").sum()),\n",
    "    arson = (\"OFFENSE_CATEGORY_ID\", lambda x: (x == \"arson\").sum()),\n",
    "    murder = (\"OFFENSE_CATEGORY_ID\", lambda x: (x == \"murder\").sum())\n",
    ").reset_index()"
   ]
  },
  {
   "cell_type": "code",
   "execution_count": 105,
   "id": "06540f10-ea0a-4671-873f-be4623a84470",
   "metadata": {},
   "outputs": [
    {
     "data": {
      "text/html": [
       "<div>\n",
       "<style scoped>\n",
       "    .dataframe tbody tr th:only-of-type {\n",
       "        vertical-align: middle;\n",
       "    }\n",
       "\n",
       "    .dataframe tbody tr th {\n",
       "        vertical-align: top;\n",
       "    }\n",
       "\n",
       "    .dataframe thead th {\n",
       "        text-align: right;\n",
       "    }\n",
       "</style>\n",
       "<table border=\"1\" class=\"dataframe\">\n",
       "  <thead>\n",
       "    <tr style=\"text-align: right;\">\n",
       "      <th></th>\n",
       "      <th>neighborhood</th>\n",
       "      <th>total_cime_incidents</th>\n",
       "      <th>theft_from_motor_vehicle</th>\n",
       "      <th>auto_theft</th>\n",
       "      <th>public_disorder</th>\n",
       "      <th>larceny</th>\n",
       "      <th>all_other_crimes</th>\n",
       "      <th>burglary</th>\n",
       "      <th>drug_alcohol</th>\n",
       "      <th>other_crimes_against_persons</th>\n",
       "      <th>aggravated_assault</th>\n",
       "      <th>robbery</th>\n",
       "      <th>white_collar_crime</th>\n",
       "      <th>arson</th>\n",
       "      <th>murder</th>\n",
       "    </tr>\n",
       "  </thead>\n",
       "  <tbody>\n",
       "    <tr>\n",
       "      <th>0</th>\n",
       "      <td>Athmar Park</td>\n",
       "      <td>3429</td>\n",
       "      <td>527</td>\n",
       "      <td>540</td>\n",
       "      <td>511</td>\n",
       "      <td>343</td>\n",
       "      <td>529</td>\n",
       "      <td>294</td>\n",
       "      <td>231</td>\n",
       "      <td>140</td>\n",
       "      <td>182</td>\n",
       "      <td>61</td>\n",
       "      <td>52</td>\n",
       "      <td>11</td>\n",
       "      <td>8</td>\n",
       "    </tr>\n",
       "    <tr>\n",
       "      <th>1</th>\n",
       "      <td>Auraria</td>\n",
       "      <td>2815</td>\n",
       "      <td>249</td>\n",
       "      <td>159</td>\n",
       "      <td>387</td>\n",
       "      <td>379</td>\n",
       "      <td>1173</td>\n",
       "      <td>69</td>\n",
       "      <td>140</td>\n",
       "      <td>154</td>\n",
       "      <td>60</td>\n",
       "      <td>17</td>\n",
       "      <td>21</td>\n",
       "      <td>6</td>\n",
       "      <td>1</td>\n",
       "    </tr>\n",
       "    <tr>\n",
       "      <th>2</th>\n",
       "      <td>Baker</td>\n",
       "      <td>6489</td>\n",
       "      <td>1087</td>\n",
       "      <td>875</td>\n",
       "      <td>1058</td>\n",
       "      <td>1289</td>\n",
       "      <td>480</td>\n",
       "      <td>565</td>\n",
       "      <td>465</td>\n",
       "      <td>222</td>\n",
       "      <td>209</td>\n",
       "      <td>125</td>\n",
       "      <td>87</td>\n",
       "      <td>25</td>\n",
       "      <td>2</td>\n",
       "    </tr>\n",
       "    <tr>\n",
       "      <th>3</th>\n",
       "      <td>Barnum</td>\n",
       "      <td>2712</td>\n",
       "      <td>280</td>\n",
       "      <td>338</td>\n",
       "      <td>382</td>\n",
       "      <td>198</td>\n",
       "      <td>732</td>\n",
       "      <td>182</td>\n",
       "      <td>222</td>\n",
       "      <td>88</td>\n",
       "      <td>176</td>\n",
       "      <td>44</td>\n",
       "      <td>40</td>\n",
       "      <td>26</td>\n",
       "      <td>4</td>\n",
       "    </tr>\n",
       "    <tr>\n",
       "      <th>4</th>\n",
       "      <td>Barnum West</td>\n",
       "      <td>1609</td>\n",
       "      <td>228</td>\n",
       "      <td>265</td>\n",
       "      <td>208</td>\n",
       "      <td>106</td>\n",
       "      <td>418</td>\n",
       "      <td>100</td>\n",
       "      <td>98</td>\n",
       "      <td>40</td>\n",
       "      <td>92</td>\n",
       "      <td>16</td>\n",
       "      <td>31</td>\n",
       "      <td>4</td>\n",
       "      <td>3</td>\n",
       "    </tr>\n",
       "  </tbody>\n",
       "</table>\n",
       "</div>"
      ],
      "text/plain": [
       "  neighborhood  total_cime_incidents  theft_from_motor_vehicle  auto_theft  \\\n",
       "0  Athmar Park                  3429                       527         540   \n",
       "1      Auraria                  2815                       249         159   \n",
       "2        Baker                  6489                      1087         875   \n",
       "3       Barnum                  2712                       280         338   \n",
       "4  Barnum West                  1609                       228         265   \n",
       "\n",
       "   public_disorder  larceny  all_other_crimes  burglary  drug_alcohol  \\\n",
       "0              511      343               529       294           231   \n",
       "1              387      379              1173        69           140   \n",
       "2             1058     1289               480       565           465   \n",
       "3              382      198               732       182           222   \n",
       "4              208      106               418       100            98   \n",
       "\n",
       "   other_crimes_against_persons  aggravated_assault  robbery  \\\n",
       "0                           140                 182       61   \n",
       "1                           154                  60       17   \n",
       "2                           222                 209      125   \n",
       "3                            88                 176       44   \n",
       "4                            40                  92       16   \n",
       "\n",
       "   white_collar_crime  arson  murder  \n",
       "0                  52     11       8  \n",
       "1                  21      6       1  \n",
       "2                  87     25       2  \n",
       "3                  40     26       4  \n",
       "4                  31      4       3  "
      ]
     },
     "execution_count": 105,
     "metadata": {},
     "output_type": "execute_result"
    }
   ],
   "source": [
    "crime_count_df.head(5)"
   ]
  },
  {
   "cell_type": "code",
   "execution_count": 106,
   "id": "6272cd48-ac95-4d90-b2b2-a64013030e9d",
   "metadata": {},
   "outputs": [
    {
     "data": {
      "text/plain": [
       "(78, 15)"
      ]
     },
     "execution_count": 106,
     "metadata": {},
     "output_type": "execute_result"
    }
   ],
   "source": [
    "crime_count_df.shape"
   ]
  },
  {
   "cell_type": "code",
   "execution_count": 107,
   "id": "3dd9ac81-0f32-4d2d-b9f2-90de55ff595a",
   "metadata": {},
   "outputs": [],
   "source": [
    "# aggregate and create new df with after school programs per neighborhood\n",
    "school_program_count_df = school_df_clean.groupby(\"neighborhood\").size().reset_index(name=\"program_count\")"
   ]
  },
  {
   "cell_type": "code",
   "execution_count": 108,
   "id": "7d91f99a-3ac6-4dad-b91d-b61525d02d97",
   "metadata": {},
   "outputs": [
    {
     "data": {
      "text/html": [
       "<div>\n",
       "<style scoped>\n",
       "    .dataframe tbody tr th:only-of-type {\n",
       "        vertical-align: middle;\n",
       "    }\n",
       "\n",
       "    .dataframe tbody tr th {\n",
       "        vertical-align: top;\n",
       "    }\n",
       "\n",
       "    .dataframe thead th {\n",
       "        text-align: right;\n",
       "    }\n",
       "</style>\n",
       "<table border=\"1\" class=\"dataframe\">\n",
       "  <thead>\n",
       "    <tr style=\"text-align: right;\">\n",
       "      <th></th>\n",
       "      <th>neighborhood</th>\n",
       "      <th>program_count</th>\n",
       "    </tr>\n",
       "  </thead>\n",
       "  <tbody>\n",
       "    <tr>\n",
       "      <th>0</th>\n",
       "      <td>Athmar Park</td>\n",
       "      <td>500</td>\n",
       "    </tr>\n",
       "    <tr>\n",
       "      <th>1</th>\n",
       "      <td>Auraria</td>\n",
       "      <td>13</td>\n",
       "    </tr>\n",
       "    <tr>\n",
       "      <th>2</th>\n",
       "      <td>Baker</td>\n",
       "      <td>341</td>\n",
       "    </tr>\n",
       "    <tr>\n",
       "      <th>3</th>\n",
       "      <td>Barnum</td>\n",
       "      <td>437</td>\n",
       "    </tr>\n",
       "    <tr>\n",
       "      <th>4</th>\n",
       "      <td>Barnum West</td>\n",
       "      <td>233</td>\n",
       "    </tr>\n",
       "  </tbody>\n",
       "</table>\n",
       "</div>"
      ],
      "text/plain": [
       "  neighborhood  program_count\n",
       "0  Athmar Park            500\n",
       "1      Auraria             13\n",
       "2        Baker            341\n",
       "3       Barnum            437\n",
       "4  Barnum West            233"
      ]
     },
     "execution_count": 108,
     "metadata": {},
     "output_type": "execute_result"
    }
   ],
   "source": [
    "school_program_count_df.head(5)"
   ]
  },
  {
   "cell_type": "code",
   "execution_count": 109,
   "id": "22f8a858-5c79-40f8-89b3-4e698f4cee01",
   "metadata": {},
   "outputs": [
    {
     "data": {
      "text/plain": [
       "(76, 2)"
      ]
     },
     "execution_count": 109,
     "metadata": {},
     "output_type": "execute_result"
    }
   ],
   "source": [
    "school_program_count_df.shape"
   ]
  },
  {
   "cell_type": "code",
   "execution_count": 110,
   "id": "74470749-319a-4f2f-ab5f-8344225f3385",
   "metadata": {},
   "outputs": [
    {
     "data": {
      "text/plain": [
       "(78, 161)"
      ]
     },
     "execution_count": 110,
     "metadata": {},
     "output_type": "execute_result"
    }
   ],
   "source": [
    "merged_df.shape"
   ]
  },
  {
   "cell_type": "code",
   "execution_count": 112,
   "id": "d623a4d1-bee1-4b3e-a566-e722577f3795",
   "metadata": {},
   "outputs": [
    {
     "data": {
      "text/plain": [
       "(78, 176)"
      ]
     },
     "execution_count": 112,
     "metadata": {},
     "output_type": "execute_result"
    }
   ],
   "source": [
    "# merge crime counts into the existing merged dataframe\n",
    "fully_merged_df = pd.merge(crime_count_df, merged_df, left_on=\"neighborhood\", right_on=\"Neighborhood Name\", how=\"outer\")\n",
    "fully_merged_df.shape"
   ]
  },
  {
   "cell_type": "code",
   "execution_count": 114,
   "id": "682f9333-03dd-4943-85a2-08cae7d95ed6",
   "metadata": {},
   "outputs": [
    {
     "data": {
      "text/plain": [
       "(78, 177)"
      ]
     },
     "execution_count": 114,
     "metadata": {},
     "output_type": "execute_result"
    }
   ],
   "source": [
    "# merge school program counts into the existing merged dataframe\n",
    "fully_merged_df = pd.merge(school_program_count_df, fully_merged_df, on=\"neighborhood\", how=\"outer\")\n",
    "fully_merged_df.shape"
   ]
  },
  {
   "cell_type": "code",
   "execution_count": 116,
   "id": "c73a4109-89c9-466e-94ed-c01ea1d34522",
   "metadata": {},
   "outputs": [
    {
     "data": {
      "text/plain": [
       "neighborhood                   0\n",
       "program_count                  2\n",
       "total_cime_incidents           0\n",
       "theft_from_motor_vehicle       0\n",
       "auto_theft                     0\n",
       "                              ..\n",
       "Percent Living in Poverty      0\n",
       "Percent Families in Poverty    0\n",
       "GlobalID                       0\n",
       "Shape__Area_y                  0\n",
       "Shape__Length_y                0\n",
       "Length: 177, dtype: int64"
      ]
     },
     "execution_count": 116,
     "metadata": {},
     "output_type": "execute_result"
    }
   ],
   "source": [
    "fully_merged_df.isnull().sum()"
   ]
  },
  {
   "cell_type": "code",
   "execution_count": 117,
   "id": "b7f30625-0b24-436a-aa52-7f196280d42b",
   "metadata": {},
   "outputs": [
    {
     "data": {
      "text/html": [
       "<div>\n",
       "<style scoped>\n",
       "    .dataframe tbody tr th:only-of-type {\n",
       "        vertical-align: middle;\n",
       "    }\n",
       "\n",
       "    .dataframe tbody tr th {\n",
       "        vertical-align: top;\n",
       "    }\n",
       "\n",
       "    .dataframe thead th {\n",
       "        text-align: right;\n",
       "    }\n",
       "</style>\n",
       "<table border=\"1\" class=\"dataframe\">\n",
       "  <thead>\n",
       "    <tr style=\"text-align: right;\">\n",
       "      <th></th>\n",
       "      <th>neighborhood</th>\n",
       "      <th>program_count</th>\n",
       "      <th>total_cime_incidents</th>\n",
       "      <th>theft_from_motor_vehicle</th>\n",
       "      <th>auto_theft</th>\n",
       "      <th>public_disorder</th>\n",
       "      <th>larceny</th>\n",
       "      <th>all_other_crimes</th>\n",
       "      <th>burglary</th>\n",
       "      <th>drug_alcohol</th>\n",
       "      <th>...</th>\n",
       "      <th>Latin America FB</th>\n",
       "      <th>Carribean FB</th>\n",
       "      <th>Central America FB</th>\n",
       "      <th>South America FB</th>\n",
       "      <th>North America FB</th>\n",
       "      <th>Percent Living in Poverty</th>\n",
       "      <th>Percent Families in Poverty</th>\n",
       "      <th>GlobalID</th>\n",
       "      <th>Shape__Area_y</th>\n",
       "      <th>Shape__Length_y</th>\n",
       "    </tr>\n",
       "  </thead>\n",
       "  <tbody>\n",
       "    <tr>\n",
       "      <th>22</th>\n",
       "      <td>Country Club</td>\n",
       "      <td>NaN</td>\n",
       "      <td>827</td>\n",
       "      <td>242</td>\n",
       "      <td>130</td>\n",
       "      <td>126</td>\n",
       "      <td>119</td>\n",
       "      <td>27</td>\n",
       "      <td>148</td>\n",
       "      <td>6</td>\n",
       "      <td>...</td>\n",
       "      <td>27</td>\n",
       "      <td>0</td>\n",
       "      <td>0</td>\n",
       "      <td>27</td>\n",
       "      <td>42</td>\n",
       "      <td>2.300</td>\n",
       "      <td>1.678184</td>\n",
       "      <td>9659f5f0-96da-432f-a3dd-d67fd54b33c2</td>\n",
       "      <td>1.811773e+07</td>\n",
       "      <td>17262.905632</td>\n",
       "    </tr>\n",
       "    <tr>\n",
       "      <th>77</th>\n",
       "      <td>Windsor</td>\n",
       "      <td>NaN</td>\n",
       "      <td>4025</td>\n",
       "      <td>727</td>\n",
       "      <td>1133</td>\n",
       "      <td>660</td>\n",
       "      <td>408</td>\n",
       "      <td>194</td>\n",
       "      <td>342</td>\n",
       "      <td>27</td>\n",
       "      <td>...</td>\n",
       "      <td>1283</td>\n",
       "      <td>0</td>\n",
       "      <td>735</td>\n",
       "      <td>548</td>\n",
       "      <td>57</td>\n",
       "      <td>16.975</td>\n",
       "      <td>18.649021</td>\n",
       "      <td>5ddfb2ed-484a-40d3-98b8-fa02832c6c19</td>\n",
       "      <td>4.784165e+07</td>\n",
       "      <td>38135.766445</td>\n",
       "    </tr>\n",
       "  </tbody>\n",
       "</table>\n",
       "<p>2 rows × 177 columns</p>\n",
       "</div>"
      ],
      "text/plain": [
       "    neighborhood  program_count  total_cime_incidents  \\\n",
       "22  Country Club            NaN                   827   \n",
       "77       Windsor            NaN                  4025   \n",
       "\n",
       "    theft_from_motor_vehicle  auto_theft  public_disorder  larceny  \\\n",
       "22                       242         130              126      119   \n",
       "77                       727        1133              660      408   \n",
       "\n",
       "    all_other_crimes  burglary  drug_alcohol  ...  Latin America FB  \\\n",
       "22                27       148             6  ...                27   \n",
       "77               194       342            27  ...              1283   \n",
       "\n",
       "    Carribean FB  Central America FB  South America FB  North America FB  \\\n",
       "22             0                   0                27                42   \n",
       "77             0                 735               548                57   \n",
       "\n",
       "    Percent Living in Poverty  Percent Families in Poverty  \\\n",
       "22                      2.300                     1.678184   \n",
       "77                     16.975                    18.649021   \n",
       "\n",
       "                                GlobalID  Shape__Area_y  Shape__Length_y  \n",
       "22  9659f5f0-96da-432f-a3dd-d67fd54b33c2   1.811773e+07     17262.905632  \n",
       "77  5ddfb2ed-484a-40d3-98b8-fa02832c6c19   4.784165e+07     38135.766445  \n",
       "\n",
       "[2 rows x 177 columns]"
      ]
     },
     "execution_count": 117,
     "metadata": {},
     "output_type": "execute_result"
    }
   ],
   "source": [
    "fully_merged_df[fully_merged_df[\"program_count\"].isna()]"
   ]
  },
  {
   "cell_type": "code",
   "execution_count": 118,
   "id": "357f78d3-8482-4985-839a-528363758ca7",
   "metadata": {},
   "outputs": [],
   "source": [
    "fully_merged_df[\"program_count\"] = fully_merged_df[\"program_count\"].fillna(0)"
   ]
  },
  {
   "cell_type": "code",
   "execution_count": 120,
   "id": "9dd82726-e10a-4f04-87f6-1bfa24f5bb5f",
   "metadata": {},
   "outputs": [
    {
     "data": {
      "text/html": [
       "<div>\n",
       "<style scoped>\n",
       "    .dataframe tbody tr th:only-of-type {\n",
       "        vertical-align: middle;\n",
       "    }\n",
       "\n",
       "    .dataframe tbody tr th {\n",
       "        vertical-align: top;\n",
       "    }\n",
       "\n",
       "    .dataframe thead th {\n",
       "        text-align: right;\n",
       "    }\n",
       "</style>\n",
       "<table border=\"1\" class=\"dataframe\">\n",
       "  <thead>\n",
       "    <tr style=\"text-align: right;\">\n",
       "      <th></th>\n",
       "      <th>neighborhood</th>\n",
       "      <th>program_count</th>\n",
       "      <th>total_cime_incidents</th>\n",
       "      <th>theft_from_motor_vehicle</th>\n",
       "      <th>auto_theft</th>\n",
       "      <th>public_disorder</th>\n",
       "      <th>larceny</th>\n",
       "      <th>all_other_crimes</th>\n",
       "      <th>burglary</th>\n",
       "      <th>drug_alcohol</th>\n",
       "      <th>...</th>\n",
       "      <th>Latin America FB</th>\n",
       "      <th>Carribean FB</th>\n",
       "      <th>Central America FB</th>\n",
       "      <th>South America FB</th>\n",
       "      <th>North America FB</th>\n",
       "      <th>Percent Living in Poverty</th>\n",
       "      <th>Percent Families in Poverty</th>\n",
       "      <th>GlobalID</th>\n",
       "      <th>Shape__Area_y</th>\n",
       "      <th>Shape__Length_y</th>\n",
       "    </tr>\n",
       "  </thead>\n",
       "  <tbody>\n",
       "    <tr>\n",
       "      <th>22</th>\n",
       "      <td>Country Club</td>\n",
       "      <td>0.0</td>\n",
       "      <td>827</td>\n",
       "      <td>242</td>\n",
       "      <td>130</td>\n",
       "      <td>126</td>\n",
       "      <td>119</td>\n",
       "      <td>27</td>\n",
       "      <td>148</td>\n",
       "      <td>6</td>\n",
       "      <td>...</td>\n",
       "      <td>27</td>\n",
       "      <td>0</td>\n",
       "      <td>0</td>\n",
       "      <td>27</td>\n",
       "      <td>42</td>\n",
       "      <td>2.300</td>\n",
       "      <td>1.678184</td>\n",
       "      <td>9659f5f0-96da-432f-a3dd-d67fd54b33c2</td>\n",
       "      <td>1.811773e+07</td>\n",
       "      <td>17262.905632</td>\n",
       "    </tr>\n",
       "    <tr>\n",
       "      <th>77</th>\n",
       "      <td>Windsor</td>\n",
       "      <td>0.0</td>\n",
       "      <td>4025</td>\n",
       "      <td>727</td>\n",
       "      <td>1133</td>\n",
       "      <td>660</td>\n",
       "      <td>408</td>\n",
       "      <td>194</td>\n",
       "      <td>342</td>\n",
       "      <td>27</td>\n",
       "      <td>...</td>\n",
       "      <td>1283</td>\n",
       "      <td>0</td>\n",
       "      <td>735</td>\n",
       "      <td>548</td>\n",
       "      <td>57</td>\n",
       "      <td>16.975</td>\n",
       "      <td>18.649021</td>\n",
       "      <td>5ddfb2ed-484a-40d3-98b8-fa02832c6c19</td>\n",
       "      <td>4.784165e+07</td>\n",
       "      <td>38135.766445</td>\n",
       "    </tr>\n",
       "  </tbody>\n",
       "</table>\n",
       "<p>2 rows × 177 columns</p>\n",
       "</div>"
      ],
      "text/plain": [
       "    neighborhood  program_count  total_cime_incidents  \\\n",
       "22  Country Club            0.0                   827   \n",
       "77       Windsor            0.0                  4025   \n",
       "\n",
       "    theft_from_motor_vehicle  auto_theft  public_disorder  larceny  \\\n",
       "22                       242         130              126      119   \n",
       "77                       727        1133              660      408   \n",
       "\n",
       "    all_other_crimes  burglary  drug_alcohol  ...  Latin America FB  \\\n",
       "22                27       148             6  ...                27   \n",
       "77               194       342            27  ...              1283   \n",
       "\n",
       "    Carribean FB  Central America FB  South America FB  North America FB  \\\n",
       "22             0                   0                27                42   \n",
       "77             0                 735               548                57   \n",
       "\n",
       "    Percent Living in Poverty  Percent Families in Poverty  \\\n",
       "22                      2.300                     1.678184   \n",
       "77                     16.975                    18.649021   \n",
       "\n",
       "                                GlobalID  Shape__Area_y  Shape__Length_y  \n",
       "22  9659f5f0-96da-432f-a3dd-d67fd54b33c2   1.811773e+07     17262.905632  \n",
       "77  5ddfb2ed-484a-40d3-98b8-fa02832c6c19   4.784165e+07     38135.766445  \n",
       "\n",
       "[2 rows x 177 columns]"
      ]
     },
     "execution_count": 120,
     "metadata": {},
     "output_type": "execute_result"
    }
   ],
   "source": [
    "fully_merged_df.loc[fully_merged_df[\"neighborhood\"].isin([\"Country Club\", \"Windsor\"])]"
   ]
  },
  {
   "cell_type": "code",
   "execution_count": 124,
   "id": "e5ceb3df-0217-4afe-a279-0bf5a0d2db3e",
   "metadata": {},
   "outputs": [
    {
     "data": {
      "text/plain": [
       "['neighborhood',\n",
       " 'program_count',\n",
       " 'total_cime_incidents',\n",
       " 'theft_from_motor_vehicle',\n",
       " 'auto_theft',\n",
       " 'public_disorder',\n",
       " 'larceny',\n",
       " 'all_other_crimes',\n",
       " 'burglary',\n",
       " 'drug_alcohol',\n",
       " 'other_crimes_against_persons',\n",
       " 'aggravated_assault',\n",
       " 'robbery',\n",
       " 'white_collar_crime',\n",
       " 'arson',\n",
       " 'murder',\n",
       " 'OBJECTID_1',\n",
       " 'GLOBALID',\n",
       " 'avgsocioeconscore',\n",
       " 'avgAccessToCareScore',\n",
       " 'avgMobidityScore',\n",
       " 'mortalityscore',\n",
       " 'avgBuiltEnvScore',\n",
       " 'avgOverallEquityScore',\n",
       " 'Shape__Area_x',\n",
       " 'Shape__Length_x',\n",
       " 'OBJECTID',\n",
       " 'Neighborhood Name',\n",
       " 'Total Population All',\n",
       " 'Hispanic or Latino',\n",
       " 'White',\n",
       " 'Black',\n",
       " 'Native American',\n",
       " 'Asian',\n",
       " 'Hawaiian/Pacific Islander',\n",
       " 'Other Race',\n",
       " 'Two or More',\n",
       " 'Percent Hispanic',\n",
       " 'Percent White',\n",
       " 'Percent Black',\n",
       " 'Percent Native American',\n",
       " 'Percent Asian',\n",
       " 'Percent Hawaiian/Pacific Islander',\n",
       " 'Percent Other Race',\n",
       " 'Percent Two or More Races',\n",
       " 'MALE',\n",
       " 'FEMALE',\n",
       " 'Age Less Than 5',\n",
       " 'Age 5 to 9',\n",
       " 'Age 10 to 14',\n",
       " 'Age 15 to 17',\n",
       " 'Age 0 to 9',\n",
       " 'Age 10 to 19',\n",
       " 'Age 20 to 29',\n",
       " 'Age 30 to 39',\n",
       " 'Age 40 to 49',\n",
       " 'Age 50 to 59',\n",
       " 'Age 60 to 69',\n",
       " 'Age 70 to 79',\n",
       " 'Age Over 80',\n",
       " 'Age Less than 18',\n",
       " 'Age Over 65',\n",
       " 'Percent Age Less Than 18',\n",
       " 'Percent Age Over 65',\n",
       " 'Median Age All',\n",
       " 'Median Age Male',\n",
       " 'Median Age Female',\n",
       " 'Total Population 3 or Higher',\n",
       " 'Enrolled in School',\n",
       " 'Nursery or Preschool',\n",
       " 'KINDERGARTEN',\n",
       " 'Grades 1 to 4',\n",
       " 'Grades 5 to 8',\n",
       " 'Grades 9 to 12',\n",
       " 'College Undergraduate',\n",
       " 'Graduate School',\n",
       " 'Not Enrolled',\n",
       " 'Total Commuters',\n",
       " 'Commute Less than 15 Minutes',\n",
       " 'Commute 15 to 30 Minutes',\n",
       " 'Commute 30 to 45 Minutes',\n",
       " 'Commute 45 to 60 Minutes',\n",
       " 'Commute Over 60 Minutes',\n",
       " 'Total Population Over 25',\n",
       " 'Less Than HS Diploma',\n",
       " 'HS Graduate or Equivalent',\n",
       " 'Some College or AA',\n",
       " 'Bachelors or Higher',\n",
       " 'Total Population 5 and Over',\n",
       " 'Only English',\n",
       " 'Spanish',\n",
       " 'Total Housing Units',\n",
       " 'Occupied Housing Units',\n",
       " 'Vacant Housing Units',\n",
       " 'Owner Occupied Housing Units',\n",
       " 'Renter Occupied Housing Units',\n",
       " 'Total Households',\n",
       " 'Family Households',\n",
       " 'Married Couple Family',\n",
       " 'Other Family',\n",
       " 'Male Householder No Wife Present',\n",
       " 'Female Householder No Husband Present',\n",
       " 'Non Family Household',\n",
       " 'Householder Alone',\n",
       " 'Householder Not Alone',\n",
       " 'Household Income Less 10000',\n",
       " 'Household Income 10000 to 14999',\n",
       " 'Household Income 15000 to 19999',\n",
       " 'Household Income 20000 to 24999',\n",
       " 'Household Income 25000 to 29999',\n",
       " 'Household Income 30000 to 34999',\n",
       " 'Household Income 35000 to 39999',\n",
       " 'Household Income 40000 to 44999',\n",
       " 'Household Income 45000 to 49999',\n",
       " 'Household Income 50000 to 59999',\n",
       " 'Household Income 60000 to 74999',\n",
       " 'Household Income 75000 to 99999',\n",
       " 'Household Income 100000 to 124999',\n",
       " 'Household Income 125000 to 149999',\n",
       " 'Household Income 150000 to 199999',\n",
       " 'Household Income Over 200000',\n",
       " 'Median Household Income',\n",
       " 'Median Family Income',\n",
       " 'Per Capita Income',\n",
       " 'Average Household Income',\n",
       " 'Average Family Income',\n",
       " 'Median Earnings',\n",
       " 'Median Earnings Male',\n",
       " 'Median Earnings Female',\n",
       " 'Median Earnings Less HS',\n",
       " 'Median Earnings HS',\n",
       " 'Median Earnings Some College',\n",
       " 'Median Earnings Bachelor',\n",
       " 'Median Earnings Graduate',\n",
       " 'Median Year Built',\n",
       " 'Built 2014 or Later',\n",
       " 'Built 2010 to 2013',\n",
       " 'Built 2000 to 2009',\n",
       " 'Built 1990 to 1999',\n",
       " 'Built 1980 to 1989',\n",
       " 'Built 1970 to 1979',\n",
       " 'Built 1960 to 1969',\n",
       " 'Built 1950 to 1959',\n",
       " 'Built 1940 to 1949',\n",
       " 'Built 1939 or Earlier',\n",
       " 'Median Contract Rent',\n",
       " 'Median Gross Rent',\n",
       " 'Median Home Value',\n",
       " 'Native Born',\n",
       " 'Foreign Born FB',\n",
       " 'Europe FB',\n",
       " 'Northern Europe FB',\n",
       " 'Western Europe FB',\n",
       " 'Southern Europe FB',\n",
       " 'Eastern Europe FB',\n",
       " 'Asia FB',\n",
       " 'Eastern Asia FB',\n",
       " 'South Central Asia FB',\n",
       " 'South Eastern Asia FB',\n",
       " 'Western Asia FB',\n",
       " 'Africa FB',\n",
       " 'Eastern Africa FB',\n",
       " 'Middle Africa FB',\n",
       " 'Southern Africa FB',\n",
       " 'Western Africa FB',\n",
       " 'Oceania FB',\n",
       " 'Americas FB',\n",
       " 'Latin America FB',\n",
       " 'Carribean FB',\n",
       " 'Central America FB',\n",
       " 'South America FB',\n",
       " 'North America FB',\n",
       " 'Percent Living in Poverty',\n",
       " 'Percent Families in Poverty',\n",
       " 'GlobalID',\n",
       " 'Shape__Area_y',\n",
       " 'Shape__Length_y']"
      ]
     },
     "execution_count": 124,
     "metadata": {},
     "output_type": "execute_result"
    }
   ],
   "source": [
    "list(fully_merged_df.columns)"
   ]
  },
  {
   "cell_type": "code",
   "execution_count": 126,
   "id": "3118e4af-7816-4cce-bcd2-702a67b7644e",
   "metadata": {},
   "outputs": [],
   "source": [
    "# export clean crime data as csv file\n",
    "crime_df_clean.to_csv(\"../data/processed/crime.csv\", index=False)\n",
    "\n",
    "# export aggregate crime data as csv\n",
    "crime_count_df.to_csv(\"../data/processed/crime_counts.csv\", index=False)"
   ]
  },
  {
   "cell_type": "code",
   "execution_count": 127,
   "id": "bc2c0ae0-b0a2-4328-8c13-2d5594776e2a",
   "metadata": {},
   "outputs": [],
   "source": [
    "# export clean school programs data as csv file\n",
    "school_df_clean.to_csv(\"../data/processed/school_programs.csv\", index=False)\n",
    "\n",
    "# export aggregate school programs as csv\n",
    "school_program_count_df.to_csv(\"../data/processed/school_programs_counts.csv\", index=False)"
   ]
  },
  {
   "cell_type": "code",
   "execution_count": 128,
   "id": "bfd7a17d-3707-4573-bd8a-a02f2f26d436",
   "metadata": {},
   "outputs": [],
   "source": [
    "# export full merged data as csv file\n",
    "fully_merged_df.to_csv(\"../data/processed/neighborhood_complete.csv\", index=False)"
   ]
  },
  {
   "cell_type": "code",
   "execution_count": null,
   "id": "440ed0e0-5621-4132-abed-55532d160601",
   "metadata": {},
   "outputs": [],
   "source": []
  }
 ],
 "metadata": {
  "kernelspec": {
   "display_name": "Python 3 (ipykernel)",
   "language": "python",
   "name": "python3"
  },
  "language_info": {
   "codemirror_mode": {
    "name": "ipython",
    "version": 3
   },
   "file_extension": ".py",
   "mimetype": "text/x-python",
   "name": "python",
   "nbconvert_exporter": "python",
   "pygments_lexer": "ipython3",
   "version": "3.11.11"
  }
 },
 "nbformat": 4,
 "nbformat_minor": 5
}
