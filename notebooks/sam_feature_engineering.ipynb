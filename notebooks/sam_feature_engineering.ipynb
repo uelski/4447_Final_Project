{
 "cells": [
  {
   "cell_type": "code",
   "execution_count": 19,
   "id": "d8a2de95",
   "metadata": {
    "vscode": {
     "languageId": "plaintext"
    }
   },
   "outputs": [],
   "source": [
    "import pandas as pd\n",
    "import numpy as np \n",
    "import matplotlib.pyplot as plt\n",
    "import geopandas as gpd\n",
    "from shapely import wkt\n",
    "from shapely.geometry import Point"
   ]
  },
  {
   "cell_type": "code",
   "execution_count": 32,
   "id": "58af3f1a",
   "metadata": {
    "vscode": {
     "languageId": "plaintext"
    }
   },
   "outputs": [],
   "source": [
    "# setup\n",
    "demographics_df = pd.read_csv('../data/raw/denver_demographics.csv')\n",
    "crime_df = pd.read_csv('../data/raw/denver_crime.csv')\n",
    "school_df = pd.read_csv('../data/raw/denver_after_school_programs.csv')\n",
    "equity_df = pd.read_csv('../data/raw/denver_equity_index.csv')\n",
    "neighborhoods_df = pd.read_csv('../data/raw/denver_statistical_neighborhoods_20250409.csv')\n",
    "neighborhoods_df = neighborhoods_df.drop(columns=['TYPOLOGY', 'NOTES'])"
   ]
  },
  {
   "cell_type": "markdown",
   "id": "82cfa166-402c-4249-9077-b4c555cb96cc",
   "metadata": {},
   "source": [
    "## Crime\n",
    "\n",
    "- drop feature columns\n",
    "- deal with missing values\n",
    "- map into neighborhoods"
   ]
  },
  {
   "cell_type": "code",
   "execution_count": 11,
   "id": "b886dbf9-9e6a-4436-9353-1dbd6152bd31",
   "metadata": {},
   "outputs": [
    {
     "data": {
      "text/html": [
       "<div>\n",
       "<style scoped>\n",
       "    .dataframe tbody tr th:only-of-type {\n",
       "        vertical-align: middle;\n",
       "    }\n",
       "\n",
       "    .dataframe tbody tr th {\n",
       "        vertical-align: top;\n",
       "    }\n",
       "\n",
       "    .dataframe thead th {\n",
       "        text-align: right;\n",
       "    }\n",
       "</style>\n",
       "<table border=\"1\" class=\"dataframe\">\n",
       "  <thead>\n",
       "    <tr style=\"text-align: right;\">\n",
       "      <th></th>\n",
       "      <th>OBJECTID</th>\n",
       "      <th>INCIDENT_ID</th>\n",
       "      <th>OFFENSE_ID</th>\n",
       "      <th>OFFENSE_CODE</th>\n",
       "      <th>OFFENSE_CODE_EXTENSION</th>\n",
       "      <th>OFFENSE_TYPE_ID</th>\n",
       "      <th>OFFENSE_CATEGORY_ID</th>\n",
       "      <th>FIRST_OCCURRENCE_DATE</th>\n",
       "      <th>LAST_OCCURRENCE_DATE</th>\n",
       "      <th>REPORTED_DATE</th>\n",
       "      <th>...</th>\n",
       "      <th>GEO_LON</th>\n",
       "      <th>GEO_LAT</th>\n",
       "      <th>DISTRICT_ID</th>\n",
       "      <th>PRECINCT_ID</th>\n",
       "      <th>NEIGHBORHOOD_ID</th>\n",
       "      <th>IS_CRIME</th>\n",
       "      <th>IS_TRAFFIC</th>\n",
       "      <th>VICTIM_COUNT</th>\n",
       "      <th>x</th>\n",
       "      <th>y</th>\n",
       "    </tr>\n",
       "  </thead>\n",
       "  <tbody>\n",
       "    <tr>\n",
       "      <th>0</th>\n",
       "      <td>1</td>\n",
       "      <td>2020454617</td>\n",
       "      <td>2020454617299900</td>\n",
       "      <td>2999</td>\n",
       "      <td>0</td>\n",
       "      <td>criminal-mischief-other</td>\n",
       "      <td>public-disorder</td>\n",
       "      <td>7/26/2020 11:00:00 PM</td>\n",
       "      <td>NaN</td>\n",
       "      <td>7/28/2020 5:09:00 AM</td>\n",
       "      <td>...</td>\n",
       "      <td>-104.801111</td>\n",
       "      <td>39.797827</td>\n",
       "      <td>5</td>\n",
       "      <td>522</td>\n",
       "      <td>gateway-green-valley-ranch</td>\n",
       "      <td>1</td>\n",
       "      <td>0</td>\n",
       "      <td>1</td>\n",
       "      <td>3.196379e+06</td>\n",
       "      <td>1.716245e+06</td>\n",
       "    </tr>\n",
       "    <tr>\n",
       "      <th>1</th>\n",
       "      <td>2</td>\n",
       "      <td>20206013877</td>\n",
       "      <td>20206013877299900</td>\n",
       "      <td>2999</td>\n",
       "      <td>0</td>\n",
       "      <td>criminal-mischief-other</td>\n",
       "      <td>public-disorder</td>\n",
       "      <td>10/10/2020 11:55:00 AM</td>\n",
       "      <td>10/10/2020 4:59:00 AM</td>\n",
       "      <td>10/14/2020 10:20:00 PM</td>\n",
       "      <td>...</td>\n",
       "      <td>-104.905807</td>\n",
       "      <td>39.654774</td>\n",
       "      <td>3</td>\n",
       "      <td>323</td>\n",
       "      <td>hampden</td>\n",
       "      <td>1</td>\n",
       "      <td>0</td>\n",
       "      <td>1</td>\n",
       "      <td>3.167302e+06</td>\n",
       "      <td>1.663927e+06</td>\n",
       "    </tr>\n",
       "    <tr>\n",
       "      <th>2</th>\n",
       "      <td>3</td>\n",
       "      <td>202210816</td>\n",
       "      <td>202210816299900</td>\n",
       "      <td>2999</td>\n",
       "      <td>0</td>\n",
       "      <td>criminal-mischief-other</td>\n",
       "      <td>public-disorder</td>\n",
       "      <td>1/8/2022 7:01:00 AM</td>\n",
       "      <td>NaN</td>\n",
       "      <td>1/8/2022 7:01:00 AM</td>\n",
       "      <td>...</td>\n",
       "      <td>-105.027614</td>\n",
       "      <td>39.691784</td>\n",
       "      <td>4</td>\n",
       "      <td>421</td>\n",
       "      <td>mar-lee</td>\n",
       "      <td>1</td>\n",
       "      <td>0</td>\n",
       "      <td>1</td>\n",
       "      <td>3.132936e+06</td>\n",
       "      <td>1.677207e+06</td>\n",
       "    </tr>\n",
       "    <tr>\n",
       "      <th>3</th>\n",
       "      <td>4</td>\n",
       "      <td>2021159354</td>\n",
       "      <td>2021159354299900</td>\n",
       "      <td>2999</td>\n",
       "      <td>0</td>\n",
       "      <td>criminal-mischief-other</td>\n",
       "      <td>public-disorder</td>\n",
       "      <td>3/20/2021 7:38:00 AM</td>\n",
       "      <td>NaN</td>\n",
       "      <td>3/20/2021 7:38:00 AM</td>\n",
       "      <td>...</td>\n",
       "      <td>-105.025019</td>\n",
       "      <td>39.751335</td>\n",
       "      <td>1</td>\n",
       "      <td>121</td>\n",
       "      <td>jefferson-park</td>\n",
       "      <td>1</td>\n",
       "      <td>0</td>\n",
       "      <td>1</td>\n",
       "      <td>3.133553e+06</td>\n",
       "      <td>1.698903e+06</td>\n",
       "    </tr>\n",
       "    <tr>\n",
       "      <th>4</th>\n",
       "      <td>5</td>\n",
       "      <td>2020470873</td>\n",
       "      <td>2020470873299900</td>\n",
       "      <td>2999</td>\n",
       "      <td>0</td>\n",
       "      <td>criminal-mischief-other</td>\n",
       "      <td>public-disorder</td>\n",
       "      <td>8/4/2020 6:45:00 PM</td>\n",
       "      <td>NaN</td>\n",
       "      <td>8/4/2020 11:28:00 PM</td>\n",
       "      <td>...</td>\n",
       "      <td>-105.001965</td>\n",
       "      <td>39.740860</td>\n",
       "      <td>1</td>\n",
       "      <td>123</td>\n",
       "      <td>auraria</td>\n",
       "      <td>1</td>\n",
       "      <td>0</td>\n",
       "      <td>1</td>\n",
       "      <td>3.140056e+06</td>\n",
       "      <td>1.695122e+06</td>\n",
       "    </tr>\n",
       "  </tbody>\n",
       "</table>\n",
       "<p>5 rows × 23 columns</p>\n",
       "</div>"
      ],
      "text/plain": [
       "   OBJECTID  INCIDENT_ID         OFFENSE_ID  OFFENSE_CODE  \\\n",
       "0         1   2020454617   2020454617299900          2999   \n",
       "1         2  20206013877  20206013877299900          2999   \n",
       "2         3    202210816    202210816299900          2999   \n",
       "3         4   2021159354   2021159354299900          2999   \n",
       "4         5   2020470873   2020470873299900          2999   \n",
       "\n",
       "   OFFENSE_CODE_EXTENSION          OFFENSE_TYPE_ID OFFENSE_CATEGORY_ID  \\\n",
       "0                       0  criminal-mischief-other     public-disorder   \n",
       "1                       0  criminal-mischief-other     public-disorder   \n",
       "2                       0  criminal-mischief-other     public-disorder   \n",
       "3                       0  criminal-mischief-other     public-disorder   \n",
       "4                       0  criminal-mischief-other     public-disorder   \n",
       "\n",
       "    FIRST_OCCURRENCE_DATE   LAST_OCCURRENCE_DATE           REPORTED_DATE  ...  \\\n",
       "0   7/26/2020 11:00:00 PM                    NaN    7/28/2020 5:09:00 AM  ...   \n",
       "1  10/10/2020 11:55:00 AM  10/10/2020 4:59:00 AM  10/14/2020 10:20:00 PM  ...   \n",
       "2     1/8/2022 7:01:00 AM                    NaN     1/8/2022 7:01:00 AM  ...   \n",
       "3    3/20/2021 7:38:00 AM                    NaN    3/20/2021 7:38:00 AM  ...   \n",
       "4     8/4/2020 6:45:00 PM                    NaN    8/4/2020 11:28:00 PM  ...   \n",
       "\n",
       "      GEO_LON    GEO_LAT  DISTRICT_ID  PRECINCT_ID  \\\n",
       "0 -104.801111  39.797827            5          522   \n",
       "1 -104.905807  39.654774            3          323   \n",
       "2 -105.027614  39.691784            4          421   \n",
       "3 -105.025019  39.751335            1          121   \n",
       "4 -105.001965  39.740860            1          123   \n",
       "\n",
       "              NEIGHBORHOOD_ID IS_CRIME  IS_TRAFFIC VICTIM_COUNT             x  \\\n",
       "0  gateway-green-valley-ranch        1           0            1  3.196379e+06   \n",
       "1                     hampden        1           0            1  3.167302e+06   \n",
       "2                     mar-lee        1           0            1  3.132936e+06   \n",
       "3              jefferson-park        1           0            1  3.133553e+06   \n",
       "4                     auraria        1           0            1  3.140056e+06   \n",
       "\n",
       "              y  \n",
       "0  1.716245e+06  \n",
       "1  1.663927e+06  \n",
       "2  1.677207e+06  \n",
       "3  1.698903e+06  \n",
       "4  1.695122e+06  \n",
       "\n",
       "[5 rows x 23 columns]"
      ]
     },
     "execution_count": 11,
     "metadata": {},
     "output_type": "execute_result"
    }
   ],
   "source": [
    "crime_df.head(5)"
   ]
  },
  {
   "cell_type": "code",
   "execution_count": 8,
   "id": "a8b46dc5-8455-4415-9f80-76a06f8091bf",
   "metadata": {},
   "outputs": [
    {
     "data": {
      "text/html": [
       "<div>\n",
       "<style scoped>\n",
       "    .dataframe tbody tr th:only-of-type {\n",
       "        vertical-align: middle;\n",
       "    }\n",
       "\n",
       "    .dataframe tbody tr th {\n",
       "        vertical-align: top;\n",
       "    }\n",
       "\n",
       "    .dataframe thead th {\n",
       "        text-align: right;\n",
       "    }\n",
       "</style>\n",
       "<table border=\"1\" class=\"dataframe\">\n",
       "  <thead>\n",
       "    <tr style=\"text-align: right;\">\n",
       "      <th></th>\n",
       "      <th>OBJECTID</th>\n",
       "      <th>INCIDENT_ID</th>\n",
       "      <th>OFFENSE_ID</th>\n",
       "      <th>OFFENSE_CODE</th>\n",
       "      <th>OFFENSE_CODE_EXTENSION</th>\n",
       "      <th>GEO_X</th>\n",
       "      <th>GEO_Y</th>\n",
       "      <th>GEO_LON</th>\n",
       "      <th>GEO_LAT</th>\n",
       "      <th>PRECINCT_ID</th>\n",
       "      <th>IS_CRIME</th>\n",
       "      <th>IS_TRAFFIC</th>\n",
       "      <th>VICTIM_COUNT</th>\n",
       "      <th>x</th>\n",
       "      <th>y</th>\n",
       "    </tr>\n",
       "  </thead>\n",
       "  <tbody>\n",
       "    <tr>\n",
       "      <th>count</th>\n",
       "      <td>358692.000000</td>\n",
       "      <td>3.586920e+05</td>\n",
       "      <td>3.586920e+05</td>\n",
       "      <td>358692.000000</td>\n",
       "      <td>358692.000000</td>\n",
       "      <td>358692.0</td>\n",
       "      <td>358692.0</td>\n",
       "      <td>3.584390e+05</td>\n",
       "      <td>3.584390e+05</td>\n",
       "      <td>358692.000000</td>\n",
       "      <td>358692.0</td>\n",
       "      <td>358692.0</td>\n",
       "      <td>358692.000000</td>\n",
       "      <td>3.584390e+05</td>\n",
       "      <td>3.584390e+05</td>\n",
       "    </tr>\n",
       "    <tr>\n",
       "      <th>mean</th>\n",
       "      <td>183981.441142</td>\n",
       "      <td>6.707744e+09</td>\n",
       "      <td>6.707744e+15</td>\n",
       "      <td>2758.259147</td>\n",
       "      <td>0.235506</td>\n",
       "      <td>0.0</td>\n",
       "      <td>0.0</td>\n",
       "      <td>-1.049413e+02</td>\n",
       "      <td>3.973244e+01</td>\n",
       "      <td>385.994388</td>\n",
       "      <td>1.0</td>\n",
       "      <td>0.0</td>\n",
       "      <td>1.021043</td>\n",
       "      <td>3.157802e+06</td>\n",
       "      <td>1.694196e+06</td>\n",
       "    </tr>\n",
       "    <tr>\n",
       "      <th>std</th>\n",
       "      <td>105965.678882</td>\n",
       "      <td>1.347193e+10</td>\n",
       "      <td>1.347193e+16</td>\n",
       "      <td>1160.120487</td>\n",
       "      <td>0.654958</td>\n",
       "      <td>0.0</td>\n",
       "      <td>0.0</td>\n",
       "      <td>9.795205e-01</td>\n",
       "      <td>3.721786e-01</td>\n",
       "      <td>184.246986</td>\n",
       "      <td>0.0</td>\n",
       "      <td>0.0</td>\n",
       "      <td>0.247270</td>\n",
       "      <td>3.497013e+05</td>\n",
       "      <td>8.704726e+04</td>\n",
       "    </tr>\n",
       "    <tr>\n",
       "      <th>min</th>\n",
       "      <td>1.000000</td>\n",
       "      <td>2.020600e+04</td>\n",
       "      <td>2.020652e+10</td>\n",
       "      <td>902.000000</td>\n",
       "      <td>0.000000</td>\n",
       "      <td>0.0</td>\n",
       "      <td>0.0</td>\n",
       "      <td>-1.154641e+02</td>\n",
       "      <td>4.000000e-08</td>\n",
       "      <td>111.000000</td>\n",
       "      <td>1.0</td>\n",
       "      <td>0.0</td>\n",
       "      <td>1.000000</td>\n",
       "      <td>9.999778e-01</td>\n",
       "      <td>1.110002e+02</td>\n",
       "    </tr>\n",
       "    <tr>\n",
       "      <th>25%</th>\n",
       "      <td>93979.750000</td>\n",
       "      <td>2.021225e+09</td>\n",
       "      <td>2.021225e+15</td>\n",
       "      <td>2304.000000</td>\n",
       "      <td>0.000000</td>\n",
       "      <td>0.0</td>\n",
       "      <td>0.0</td>\n",
       "      <td>-1.050000e+02</td>\n",
       "      <td>3.970960e+01</td>\n",
       "      <td>222.000000</td>\n",
       "      <td>1.0</td>\n",
       "      <td>0.0</td>\n",
       "      <td>1.000000</td>\n",
       "      <td>3.140597e+06</td>\n",
       "      <td>1.683789e+06</td>\n",
       "    </tr>\n",
       "    <tr>\n",
       "      <th>50%</th>\n",
       "      <td>183652.500000</td>\n",
       "      <td>2.023226e+09</td>\n",
       "      <td>2.023226e+15</td>\n",
       "      <td>2399.000000</td>\n",
       "      <td>0.000000</td>\n",
       "      <td>0.0</td>\n",
       "      <td>0.0</td>\n",
       "      <td>-1.049772e+02</td>\n",
       "      <td>3.974006e+01</td>\n",
       "      <td>323.000000</td>\n",
       "      <td>1.0</td>\n",
       "      <td>0.0</td>\n",
       "      <td>1.000000</td>\n",
       "      <td>3.147018e+06</td>\n",
       "      <td>1.694869e+06</td>\n",
       "    </tr>\n",
       "    <tr>\n",
       "      <th>75%</th>\n",
       "      <td>275172.250000</td>\n",
       "      <td>2.020601e+10</td>\n",
       "      <td>2.020601e+16</td>\n",
       "      <td>2999.000000</td>\n",
       "      <td>0.000000</td>\n",
       "      <td>0.0</td>\n",
       "      <td>0.0</td>\n",
       "      <td>-1.049061e+02</td>\n",
       "      <td>3.976279e+01</td>\n",
       "      <td>523.000000</td>\n",
       "      <td>1.0</td>\n",
       "      <td>0.0</td>\n",
       "      <td>1.000000</td>\n",
       "      <td>3.167055e+06</td>\n",
       "      <td>1.703157e+06</td>\n",
       "    </tr>\n",
       "    <tr>\n",
       "      <th>max</th>\n",
       "      <td>367892.000000</td>\n",
       "      <td>2.024924e+12</td>\n",
       "      <td>2.024924e+18</td>\n",
       "      <td>7399.000000</td>\n",
       "      <td>6.000000</td>\n",
       "      <td>0.0</td>\n",
       "      <td>0.0</td>\n",
       "      <td>5.300000e-07</td>\n",
       "      <td>3.991402e+01</td>\n",
       "      <td>999.000000</td>\n",
       "      <td>1.0</td>\n",
       "      <td>0.0</td>\n",
       "      <td>33.000000</td>\n",
       "      <td>4.067477e+07</td>\n",
       "      <td>1.089045e+07</td>\n",
       "    </tr>\n",
       "  </tbody>\n",
       "</table>\n",
       "</div>"
      ],
      "text/plain": [
       "            OBJECTID   INCIDENT_ID    OFFENSE_ID   OFFENSE_CODE  \\\n",
       "count  358692.000000  3.586920e+05  3.586920e+05  358692.000000   \n",
       "mean   183981.441142  6.707744e+09  6.707744e+15    2758.259147   \n",
       "std    105965.678882  1.347193e+10  1.347193e+16    1160.120487   \n",
       "min         1.000000  2.020600e+04  2.020652e+10     902.000000   \n",
       "25%     93979.750000  2.021225e+09  2.021225e+15    2304.000000   \n",
       "50%    183652.500000  2.023226e+09  2.023226e+15    2399.000000   \n",
       "75%    275172.250000  2.020601e+10  2.020601e+16    2999.000000   \n",
       "max    367892.000000  2.024924e+12  2.024924e+18    7399.000000   \n",
       "\n",
       "       OFFENSE_CODE_EXTENSION     GEO_X     GEO_Y       GEO_LON       GEO_LAT  \\\n",
       "count           358692.000000  358692.0  358692.0  3.584390e+05  3.584390e+05   \n",
       "mean                 0.235506       0.0       0.0 -1.049413e+02  3.973244e+01   \n",
       "std                  0.654958       0.0       0.0  9.795205e-01  3.721786e-01   \n",
       "min                  0.000000       0.0       0.0 -1.154641e+02  4.000000e-08   \n",
       "25%                  0.000000       0.0       0.0 -1.050000e+02  3.970960e+01   \n",
       "50%                  0.000000       0.0       0.0 -1.049772e+02  3.974006e+01   \n",
       "75%                  0.000000       0.0       0.0 -1.049061e+02  3.976279e+01   \n",
       "max                  6.000000       0.0       0.0  5.300000e-07  3.991402e+01   \n",
       "\n",
       "         PRECINCT_ID  IS_CRIME  IS_TRAFFIC   VICTIM_COUNT             x  \\\n",
       "count  358692.000000  358692.0    358692.0  358692.000000  3.584390e+05   \n",
       "mean      385.994388       1.0         0.0       1.021043  3.157802e+06   \n",
       "std       184.246986       0.0         0.0       0.247270  3.497013e+05   \n",
       "min       111.000000       1.0         0.0       1.000000  9.999778e-01   \n",
       "25%       222.000000       1.0         0.0       1.000000  3.140597e+06   \n",
       "50%       323.000000       1.0         0.0       1.000000  3.147018e+06   \n",
       "75%       523.000000       1.0         0.0       1.000000  3.167055e+06   \n",
       "max       999.000000       1.0         0.0      33.000000  4.067477e+07   \n",
       "\n",
       "                  y  \n",
       "count  3.584390e+05  \n",
       "mean   1.694196e+06  \n",
       "std    8.704726e+04  \n",
       "min    1.110002e+02  \n",
       "25%    1.683789e+06  \n",
       "50%    1.694869e+06  \n",
       "75%    1.703157e+06  \n",
       "max    1.089045e+07  "
      ]
     },
     "execution_count": 8,
     "metadata": {},
     "output_type": "execute_result"
    }
   ],
   "source": [
    "# summary\n",
    "crime_df.describe()"
   ]
  },
  {
   "cell_type": "code",
   "execution_count": 10,
   "id": "6847930b-2890-4bb2-bdb8-31cffaf63ad3",
   "metadata": {},
   "outputs": [
    {
     "name": "stdout",
     "output_type": "stream",
     "text": [
      "Index(['OBJECTID', 'INCIDENT_ID', 'OFFENSE_ID', 'OFFENSE_CODE',\n",
      "       'OFFENSE_CODE_EXTENSION', 'OFFENSE_TYPE_ID', 'OFFENSE_CATEGORY_ID',\n",
      "       'FIRST_OCCURRENCE_DATE', 'LAST_OCCURRENCE_DATE', 'REPORTED_DATE',\n",
      "       'INCIDENT_ADDRESS', 'GEO_X', 'GEO_Y', 'GEO_LON', 'GEO_LAT',\n",
      "       'DISTRICT_ID', 'PRECINCT_ID', 'NEIGHBORHOOD_ID', 'IS_CRIME',\n",
      "       'IS_TRAFFIC', 'VICTIM_COUNT', 'x', 'y'],\n",
      "      dtype='object')\n"
     ]
    }
   ],
   "source": [
    "# all feature columns\n",
    "print(crime_df.columns)"
   ]
  },
  {
   "cell_type": "code",
   "execution_count": 7,
   "id": "0095c454-600d-4dc9-b7ad-fca7daedff1d",
   "metadata": {},
   "outputs": [
    {
     "name": "stdout",
     "output_type": "stream",
     "text": [
      "LAST_OCCURRENCE_DATE: 158314 null\n",
      "GEO_LON: 253 null\n",
      "GEO_LAT: 253 null\n",
      "DISTRICT_ID: 37 null\n",
      "NEIGHBORHOOD_ID: 513 null\n",
      "x: 253 null\n",
      "y: 253 null\n"
     ]
    }
   ],
   "source": [
    "# list columns with missing values\n",
    "for feature in crime_df.columns:\n",
    "    null_sum = crime_df[feature].isna().sum()\n",
    "    if null_sum > 0:\n",
    "        print(f'{feature}: {null_sum} null')"
   ]
  },
  {
   "cell_type": "code",
   "execution_count": 12,
   "id": "b4913f8c-f1ec-4e4e-8bd4-dff41cb081a6",
   "metadata": {},
   "outputs": [],
   "source": [
    "# dropping columns\n",
    "crime_df_clean = crime_df.drop(columns=['LAST_OCCURRENCE_DATE', 'DISTRICT_ID', 'x', 'y', 'OBJECTID', 'GEO_X', 'GEO_Y', 'OFFENSE_ID', 'OFFENSE_CODE', 'OFFENSE_CODE_EXTENSION'])"
   ]
  },
  {
   "cell_type": "code",
   "execution_count": 13,
   "id": "b4678589-20f7-4edc-a562-398f1f403c98",
   "metadata": {},
   "outputs": [
    {
     "data": {
      "text/plain": [
       "(358692, 13)"
      ]
     },
     "execution_count": 13,
     "metadata": {},
     "output_type": "execute_result"
    }
   ],
   "source": [
    "crime_df_clean.shape"
   ]
  },
  {
   "cell_type": "code",
   "execution_count": 87,
   "id": "4809eda9-3a61-4bb3-aebf-dd53e5607b52",
   "metadata": {},
   "outputs": [
    {
     "name": "stdout",
     "output_type": "stream",
     "text": [
      "neighborhood: 195 null\n"
     ]
    }
   ],
   "source": [
    "for feature in crime_df_clean.columns:\n",
    "    null_sum = crime_df_clean[feature].isna().sum()\n",
    "    if null_sum > 0:\n",
    "        print(f'{feature}: {null_sum} null')"
   ]
  },
  {
   "cell_type": "code",
   "execution_count": 85,
   "id": "a37bd4bf-2bd7-4e57-9f44-126b296fb077",
   "metadata": {},
   "outputs": [],
   "source": [
    "# drop rows with missing data\n",
    "crime_df_clean = crime_df_clean.dropna(subset=['GEO_LON', 'GEO_LAT', 'NEIGHBORHOOD_ID'])"
   ]
  },
  {
   "cell_type": "code",
   "execution_count": 86,
   "id": "30cb8e3c-d4c3-48bf-9f7d-ed5965172359",
   "metadata": {},
   "outputs": [
    {
     "data": {
      "text/plain": [
       "195"
      ]
     },
     "execution_count": 86,
     "metadata": {},
     "output_type": "execute_result"
    }
   ],
   "source": [
    "crime_df_clean.isnull().sum().sum()"
   ]
  },
  {
   "cell_type": "code",
   "execution_count": 34,
   "id": "2ef85afe-9e1f-4946-b226-e351a5493461",
   "metadata": {},
   "outputs": [],
   "source": [
    "# map clean df into neighborhoods based on lat/long\n",
    "\n",
    "# Step 1: Load the neighborhoods CSV and parse WKT geometries\n",
    "neighborhoods_df[\"the_geom\"] = neighborhoods_df[\"the_geom\"].apply(wkt.loads)\n",
    "gdf_neighborhoods = gpd.GeoDataFrame(neighborhoods_df, geometry=\"the_geom\", crs=\"EPSG:4326\")\n",
    "\n",
    "# Step 2: Convert your main DataFrame with points to a GeoDataFrame\n",
    "crime_df_clean[\"geometry\"] = crime_df_clean.apply(lambda row: Point(row[\"GEO_LON\"], row[\"GEO_LAT\"]), axis=1)\n",
    "gdf_points = gpd.GeoDataFrame(crime_df_clean, geometry=\"geometry\", crs=\"EPSG:4326\")\n",
    "\n",
    "# Step 3: Spatial join — find which neighborhood polygon each point is in\n",
    "gdf_joined = gpd.sjoin(gdf_points, gdf_neighborhoods, how=\"left\", predicate=\"within\")\n",
    "\n",
    "# Step 4: Create the 'neighborhood' column from the joined data\n",
    "crime_df_clean[\"neighborhood\"] = gdf_joined[\"NBHD_NAME\"]"
   ]
  },
  {
   "cell_type": "code",
   "execution_count": 35,
   "id": "512d4b46-2404-481a-b51b-2b14b7cf2d97",
   "metadata": {},
   "outputs": [
    {
     "data": {
      "text/plain": [
       "neighborhood\n",
       "Five Points     22191\n",
       "Stapleton       18139\n",
       "DIA             16823\n",
       "Capitol Hill    13475\n",
       "CBD             12179\n",
       "                ...  \n",
       "Skyland          1056\n",
       "Rosedale          916\n",
       "Country Club      827\n",
       "Indian Creek      691\n",
       "Wellshire         324\n",
       "Name: count, Length: 78, dtype: int64"
      ]
     },
     "execution_count": 35,
     "metadata": {},
     "output_type": "execute_result"
    }
   ],
   "source": [
    "crime_df_clean[\"neighborhood\"].value_counts()"
   ]
  },
  {
   "cell_type": "code",
   "execution_count": 88,
   "id": "e99a36fd-5cef-42b6-9205-9c1ed0b93f54",
   "metadata": {},
   "outputs": [
    {
     "data": {
      "text/plain": [
       "0"
      ]
     },
     "execution_count": 88,
     "metadata": {},
     "output_type": "execute_result"
    }
   ],
   "source": [
    "crime_df_clean = crime_df_clean.dropna(subset=['neighborhood'])\n",
    "crime_df_clean.isnull().sum().sum()"
   ]
  },
  {
   "cell_type": "code",
   "execution_count": 89,
   "id": "1107d90f-d23a-438c-91bf-172be12f1ea7",
   "metadata": {},
   "outputs": [
    {
     "data": {
      "text/html": [
       "<div>\n",
       "<style scoped>\n",
       "    .dataframe tbody tr th:only-of-type {\n",
       "        vertical-align: middle;\n",
       "    }\n",
       "\n",
       "    .dataframe tbody tr th {\n",
       "        vertical-align: top;\n",
       "    }\n",
       "\n",
       "    .dataframe thead th {\n",
       "        text-align: right;\n",
       "    }\n",
       "</style>\n",
       "<table border=\"1\" class=\"dataframe\">\n",
       "  <thead>\n",
       "    <tr style=\"text-align: right;\">\n",
       "      <th></th>\n",
       "      <th>INCIDENT_ID</th>\n",
       "      <th>OFFENSE_TYPE_ID</th>\n",
       "      <th>OFFENSE_CATEGORY_ID</th>\n",
       "      <th>FIRST_OCCURRENCE_DATE</th>\n",
       "      <th>REPORTED_DATE</th>\n",
       "      <th>INCIDENT_ADDRESS</th>\n",
       "      <th>GEO_LON</th>\n",
       "      <th>GEO_LAT</th>\n",
       "      <th>PRECINCT_ID</th>\n",
       "      <th>NEIGHBORHOOD_ID</th>\n",
       "      <th>IS_CRIME</th>\n",
       "      <th>IS_TRAFFIC</th>\n",
       "      <th>VICTIM_COUNT</th>\n",
       "      <th>geometry</th>\n",
       "      <th>neighborhood</th>\n",
       "    </tr>\n",
       "  </thead>\n",
       "  <tbody>\n",
       "    <tr>\n",
       "      <th>0</th>\n",
       "      <td>2020454617</td>\n",
       "      <td>criminal-mischief-other</td>\n",
       "      <td>public-disorder</td>\n",
       "      <td>7/26/2020 11:00:00 PM</td>\n",
       "      <td>7/28/2020 5:09:00 AM</td>\n",
       "      <td>15987 E RANDOLPH PL</td>\n",
       "      <td>-104.801111</td>\n",
       "      <td>39.797827</td>\n",
       "      <td>522</td>\n",
       "      <td>gateway-green-valley-ranch</td>\n",
       "      <td>1</td>\n",
       "      <td>0</td>\n",
       "      <td>1</td>\n",
       "      <td>POINT (-104.80111124 39.7978271)</td>\n",
       "      <td>Gateway - Green Valley Ranch</td>\n",
       "    </tr>\n",
       "    <tr>\n",
       "      <th>1</th>\n",
       "      <td>20206013877</td>\n",
       "      <td>criminal-mischief-other</td>\n",
       "      <td>public-disorder</td>\n",
       "      <td>10/10/2020 11:55:00 AM</td>\n",
       "      <td>10/14/2020 10:20:00 PM</td>\n",
       "      <td>6980 E GIRARD AVE</td>\n",
       "      <td>-104.905807</td>\n",
       "      <td>39.654774</td>\n",
       "      <td>323</td>\n",
       "      <td>hampden</td>\n",
       "      <td>1</td>\n",
       "      <td>0</td>\n",
       "      <td>1</td>\n",
       "      <td>POINT (-104.90580731 39.65477351)</td>\n",
       "      <td>Hampden</td>\n",
       "    </tr>\n",
       "  </tbody>\n",
       "</table>\n",
       "</div>"
      ],
      "text/plain": [
       "   INCIDENT_ID          OFFENSE_TYPE_ID OFFENSE_CATEGORY_ID  \\\n",
       "0   2020454617  criminal-mischief-other     public-disorder   \n",
       "1  20206013877  criminal-mischief-other     public-disorder   \n",
       "\n",
       "    FIRST_OCCURRENCE_DATE           REPORTED_DATE     INCIDENT_ADDRESS  \\\n",
       "0   7/26/2020 11:00:00 PM    7/28/2020 5:09:00 AM  15987 E RANDOLPH PL   \n",
       "1  10/10/2020 11:55:00 AM  10/14/2020 10:20:00 PM    6980 E GIRARD AVE   \n",
       "\n",
       "      GEO_LON    GEO_LAT  PRECINCT_ID             NEIGHBORHOOD_ID  IS_CRIME  \\\n",
       "0 -104.801111  39.797827          522  gateway-green-valley-ranch         1   \n",
       "1 -104.905807  39.654774          323                     hampden         1   \n",
       "\n",
       "   IS_TRAFFIC  VICTIM_COUNT                           geometry  \\\n",
       "0           0             1   POINT (-104.80111124 39.7978271)   \n",
       "1           0             1  POINT (-104.90580731 39.65477351)   \n",
       "\n",
       "                   neighborhood  \n",
       "0  Gateway - Green Valley Ranch  \n",
       "1                       Hampden  "
      ]
     },
     "execution_count": 89,
     "metadata": {},
     "output_type": "execute_result"
    }
   ],
   "source": [
    "crime_df_clean.head(2)"
   ]
  },
  {
   "cell_type": "code",
   "execution_count": 90,
   "id": "fee48889-4082-4b4b-81c8-08e105a50684",
   "metadata": {},
   "outputs": [
    {
     "data": {
      "text/plain": [
       "(357984, 15)"
      ]
     },
     "execution_count": 90,
     "metadata": {},
     "output_type": "execute_result"
    }
   ],
   "source": [
    "crime_df_clean.shape"
   ]
  },
  {
   "cell_type": "markdown",
   "id": "a8b3994f-a592-48cf-b5de-584a0d8a6621",
   "metadata": {},
   "source": [
    "## After School Programs\n",
    "\n",
    "- drop feature columns\n",
    "- deal with missing values\n",
    "- map into neighborhoods"
   ]
  },
  {
   "cell_type": "code",
   "execution_count": 38,
   "id": "6fc5da69-91d3-42ec-ac9c-81aded9d422a",
   "metadata": {},
   "outputs": [
    {
     "data": {
      "text/html": [
       "<div>\n",
       "<style scoped>\n",
       "    .dataframe tbody tr th:only-of-type {\n",
       "        vertical-align: middle;\n",
       "    }\n",
       "\n",
       "    .dataframe tbody tr th {\n",
       "        vertical-align: top;\n",
       "    }\n",
       "\n",
       "    .dataframe thead th {\n",
       "        text-align: right;\n",
       "    }\n",
       "</style>\n",
       "<table border=\"1\" class=\"dataframe\">\n",
       "  <thead>\n",
       "    <tr style=\"text-align: right;\">\n",
       "      <th></th>\n",
       "      <th>OBJECTID</th>\n",
       "      <th>ORG_ID</th>\n",
       "      <th>SITE_ID</th>\n",
       "      <th>GLOBAL_SITEID</th>\n",
       "      <th>GLOBAL_LOCATION_TYPE</th>\n",
       "      <th>GLOBAL_LOCATION_NAME</th>\n",
       "      <th>SITE_NAME</th>\n",
       "      <th>GLOBAL_STREET_ADDR</th>\n",
       "      <th>GLOBAL_CITY</th>\n",
       "      <th>GLOBAL_STATE</th>\n",
       "      <th>...</th>\n",
       "      <th>ORG_PLIMAGE</th>\n",
       "      <th>ORG_MAIN_ZIP</th>\n",
       "      <th>GLOBAL_ADDR_SOURCE</th>\n",
       "      <th>GLOBAL_ADDR_ID</th>\n",
       "      <th>GLOBAL_LAT</th>\n",
       "      <th>GLOBAL_LONG</th>\n",
       "      <th>GLOBAL_CONTACT_PH</th>\n",
       "      <th>DPS_SCHOOL_NUM</th>\n",
       "      <th>x</th>\n",
       "      <th>y</th>\n",
       "    </tr>\n",
       "  </thead>\n",
       "  <tbody>\n",
       "    <tr>\n",
       "      <th>0</th>\n",
       "      <td>1</td>\n",
       "      <td>36553</td>\n",
       "      <td>133332</td>\n",
       "      <td>124485</td>\n",
       "      <td>Recreation Center</td>\n",
       "      <td>La Alma Recreation Center</td>\n",
       "      <td>La Alma Recreation Center</td>\n",
       "      <td>1325 West 11th Ave.</td>\n",
       "      <td>Denver</td>\n",
       "      <td>CO</td>\n",
       "      <td>...</td>\n",
       "      <td>https://denvergov.org/media/denverapps/youthpr...</td>\n",
       "      <td>NaN</td>\n",
       "      <td>DAD</td>\n",
       "      <td>163468.0</td>\n",
       "      <td>39.734586</td>\n",
       "      <td>-105.004155</td>\n",
       "      <td>NaN</td>\n",
       "      <td>NaN</td>\n",
       "      <td>3.139453e+06</td>\n",
       "      <td>1.692833e+06</td>\n",
       "    </tr>\n",
       "    <tr>\n",
       "      <th>1</th>\n",
       "      <td>2</td>\n",
       "      <td>36553</td>\n",
       "      <td>133332</td>\n",
       "      <td>124485</td>\n",
       "      <td>Recreation Center</td>\n",
       "      <td>La Alma Recreation Center</td>\n",
       "      <td>La Alma Recreation Center</td>\n",
       "      <td>1325 West 11th Ave.</td>\n",
       "      <td>Denver</td>\n",
       "      <td>CO</td>\n",
       "      <td>...</td>\n",
       "      <td>https://denvergov.org/media/denverapps/youthpr...</td>\n",
       "      <td>NaN</td>\n",
       "      <td>DAD</td>\n",
       "      <td>163468.0</td>\n",
       "      <td>39.734586</td>\n",
       "      <td>-105.004155</td>\n",
       "      <td>NaN</td>\n",
       "      <td>NaN</td>\n",
       "      <td>3.139453e+06</td>\n",
       "      <td>1.692833e+06</td>\n",
       "    </tr>\n",
       "    <tr>\n",
       "      <th>2</th>\n",
       "      <td>3</td>\n",
       "      <td>36553</td>\n",
       "      <td>133332</td>\n",
       "      <td>124485</td>\n",
       "      <td>Recreation Center</td>\n",
       "      <td>La Alma Recreation Center</td>\n",
       "      <td>La Alma Recreation Center</td>\n",
       "      <td>1325 West 11th Ave.</td>\n",
       "      <td>Denver</td>\n",
       "      <td>CO</td>\n",
       "      <td>...</td>\n",
       "      <td>https://denvergov.org/media/denverapps/youthpr...</td>\n",
       "      <td>NaN</td>\n",
       "      <td>DAD</td>\n",
       "      <td>163468.0</td>\n",
       "      <td>39.734586</td>\n",
       "      <td>-105.004155</td>\n",
       "      <td>NaN</td>\n",
       "      <td>NaN</td>\n",
       "      <td>3.139453e+06</td>\n",
       "      <td>1.692833e+06</td>\n",
       "    </tr>\n",
       "    <tr>\n",
       "      <th>3</th>\n",
       "      <td>4</td>\n",
       "      <td>36553</td>\n",
       "      <td>133332</td>\n",
       "      <td>124485</td>\n",
       "      <td>Recreation Center</td>\n",
       "      <td>La Alma Recreation Center</td>\n",
       "      <td>La Alma Recreation Center</td>\n",
       "      <td>1325 West 11th Ave.</td>\n",
       "      <td>Denver</td>\n",
       "      <td>CO</td>\n",
       "      <td>...</td>\n",
       "      <td>https://denvergov.org/media/denverapps/youthpr...</td>\n",
       "      <td>NaN</td>\n",
       "      <td>DAD</td>\n",
       "      <td>163468.0</td>\n",
       "      <td>39.734586</td>\n",
       "      <td>-105.004155</td>\n",
       "      <td>NaN</td>\n",
       "      <td>NaN</td>\n",
       "      <td>3.139453e+06</td>\n",
       "      <td>1.692833e+06</td>\n",
       "    </tr>\n",
       "    <tr>\n",
       "      <th>4</th>\n",
       "      <td>5</td>\n",
       "      <td>36553</td>\n",
       "      <td>133332</td>\n",
       "      <td>124485</td>\n",
       "      <td>Recreation Center</td>\n",
       "      <td>La Alma Recreation Center</td>\n",
       "      <td>La Alma Recreation Center</td>\n",
       "      <td>1325 West 11th Ave.</td>\n",
       "      <td>Denver</td>\n",
       "      <td>CO</td>\n",
       "      <td>...</td>\n",
       "      <td>https://denvergov.org/media/denverapps/youthpr...</td>\n",
       "      <td>NaN</td>\n",
       "      <td>DAD</td>\n",
       "      <td>163468.0</td>\n",
       "      <td>39.734586</td>\n",
       "      <td>-105.004155</td>\n",
       "      <td>NaN</td>\n",
       "      <td>NaN</td>\n",
       "      <td>3.139453e+06</td>\n",
       "      <td>1.692833e+06</td>\n",
       "    </tr>\n",
       "  </tbody>\n",
       "</table>\n",
       "<p>5 rows × 253 columns</p>\n",
       "</div>"
      ],
      "text/plain": [
       "   OBJECTID  ORG_ID  SITE_ID  GLOBAL_SITEID GLOBAL_LOCATION_TYPE  \\\n",
       "0         1   36553   133332         124485    Recreation Center   \n",
       "1         2   36553   133332         124485    Recreation Center   \n",
       "2         3   36553   133332         124485    Recreation Center   \n",
       "3         4   36553   133332         124485    Recreation Center   \n",
       "4         5   36553   133332         124485    Recreation Center   \n",
       "\n",
       "        GLOBAL_LOCATION_NAME                  SITE_NAME   GLOBAL_STREET_ADDR  \\\n",
       "0  La Alma Recreation Center  La Alma Recreation Center  1325 West 11th Ave.   \n",
       "1  La Alma Recreation Center  La Alma Recreation Center  1325 West 11th Ave.   \n",
       "2  La Alma Recreation Center  La Alma Recreation Center  1325 West 11th Ave.   \n",
       "3  La Alma Recreation Center  La Alma Recreation Center  1325 West 11th Ave.   \n",
       "4  La Alma Recreation Center  La Alma Recreation Center  1325 West 11th Ave.   \n",
       "\n",
       "  GLOBAL_CITY GLOBAL_STATE  ...  \\\n",
       "0      Denver           CO  ...   \n",
       "1      Denver           CO  ...   \n",
       "2      Denver           CO  ...   \n",
       "3      Denver           CO  ...   \n",
       "4      Denver           CO  ...   \n",
       "\n",
       "                                         ORG_PLIMAGE  ORG_MAIN_ZIP  \\\n",
       "0  https://denvergov.org/media/denverapps/youthpr...           NaN   \n",
       "1  https://denvergov.org/media/denverapps/youthpr...           NaN   \n",
       "2  https://denvergov.org/media/denverapps/youthpr...           NaN   \n",
       "3  https://denvergov.org/media/denverapps/youthpr...           NaN   \n",
       "4  https://denvergov.org/media/denverapps/youthpr...           NaN   \n",
       "\n",
       "   GLOBAL_ADDR_SOURCE  GLOBAL_ADDR_ID GLOBAL_LAT GLOBAL_LONG  \\\n",
       "0                 DAD        163468.0  39.734586 -105.004155   \n",
       "1                 DAD        163468.0  39.734586 -105.004155   \n",
       "2                 DAD        163468.0  39.734586 -105.004155   \n",
       "3                 DAD        163468.0  39.734586 -105.004155   \n",
       "4                 DAD        163468.0  39.734586 -105.004155   \n",
       "\n",
       "   GLOBAL_CONTACT_PH  DPS_SCHOOL_NUM             x             y  \n",
       "0                NaN             NaN  3.139453e+06  1.692833e+06  \n",
       "1                NaN             NaN  3.139453e+06  1.692833e+06  \n",
       "2                NaN             NaN  3.139453e+06  1.692833e+06  \n",
       "3                NaN             NaN  3.139453e+06  1.692833e+06  \n",
       "4                NaN             NaN  3.139453e+06  1.692833e+06  \n",
       "\n",
       "[5 rows x 253 columns]"
      ]
     },
     "execution_count": 38,
     "metadata": {},
     "output_type": "execute_result"
    }
   ],
   "source": [
    "school_df.head(5)"
   ]
  },
  {
   "cell_type": "code",
   "execution_count": 41,
   "id": "6db96ba4-5b4c-48a7-92b5-ce34c0650708",
   "metadata": {},
   "outputs": [
    {
     "data": {
      "text/plain": [
       "(27379, 9)"
      ]
     },
     "execution_count": 41,
     "metadata": {},
     "output_type": "execute_result"
    }
   ],
   "source": [
    "school_df_clean = school_df[['GLOBAL_LAT', 'GLOBAL_LONG', 'ORG_ID', 'GLOBAL_LOCATION_NAME', 'PROGRAM_NAME', 'PROGRAM_STATUS', 'PROGRAM_FEE', 'ORG_NAME', 'ORG_WEB_ADDR']]\n",
    "school_df_clean.shape"
   ]
  },
  {
   "cell_type": "code",
   "execution_count": 42,
   "id": "ea658d62-57cb-4b8f-9f49-e63aae60d66d",
   "metadata": {},
   "outputs": [
    {
     "data": {
      "text/plain": [
       "GLOBAL_LAT               95\n",
       "GLOBAL_LONG              95\n",
       "ORG_ID                    0\n",
       "GLOBAL_LOCATION_NAME     95\n",
       "PROGRAM_NAME            996\n",
       "PROGRAM_STATUS          996\n",
       "PROGRAM_FEE             996\n",
       "ORG_NAME                  9\n",
       "ORG_WEB_ADDR             65\n",
       "dtype: int64"
      ]
     },
     "execution_count": 42,
     "metadata": {},
     "output_type": "execute_result"
    }
   ],
   "source": [
    "school_df_clean.isnull().sum()"
   ]
  },
  {
   "cell_type": "code",
   "execution_count": 43,
   "id": "a85e98f1-141f-4c79-9769-c278a329498f",
   "metadata": {},
   "outputs": [],
   "source": [
    "# drop missing values from important rows - lat/lng\n",
    "school_df_clean = school_df_clean.dropna(subset=['GLOBAL_LONG', 'GLOBAL_LAT'])"
   ]
  },
  {
   "cell_type": "code",
   "execution_count": 46,
   "id": "1154cecd-e752-4e17-8fc1-ecaaf9794d1b",
   "metadata": {},
   "outputs": [],
   "source": [
    "# map clean df into neighborhoods based on lat/long\n",
    "\n",
    "# Step 2: Convert your main DataFrame with points to a GeoDataFrame\n",
    "school_df_clean[\"geometry\"] = school_df_clean.apply(lambda row: Point(row[\"GLOBAL_LONG\"], row[\"GLOBAL_LAT\"]), axis=1)\n",
    "school_gdf_points = gpd.GeoDataFrame(school_df_clean, geometry=\"geometry\", crs=\"EPSG:4326\")\n",
    "\n",
    "# Step 3: Spatial join — find which neighborhood polygon each point is in\n",
    "school_gdf_joined = gpd.sjoin(school_gdf_points, gdf_neighborhoods, how=\"left\", predicate=\"within\")\n",
    "\n",
    "# Step 4: Create the 'neighborhood' column from the joined data\n",
    "school_df_clean[\"neighborhood\"] = school_gdf_joined[\"NBHD_NAME\"]"
   ]
  },
  {
   "cell_type": "code",
   "execution_count": 47,
   "id": "cb0eff9a-54c3-4949-9b41-16384e59121d",
   "metadata": {},
   "outputs": [
    {
     "data": {
      "text/plain": [
       "neighborhood\n",
       "Gateway - Green Valley Ranch    1656\n",
       "Stapleton                       1636\n",
       "Montbello                       1353\n",
       "Mar Lee                          949\n",
       "Hilltop                          751\n",
       "                                ... \n",
       "Southmoor Park                    19\n",
       "Goldsmith                         16\n",
       "Kennedy                           13\n",
       "Auraria                           13\n",
       "Union Station                      7\n",
       "Name: count, Length: 76, dtype: int64"
      ]
     },
     "execution_count": 47,
     "metadata": {},
     "output_type": "execute_result"
    }
   ],
   "source": [
    "school_df_clean[\"neighborhood\"].value_counts()"
   ]
  },
  {
   "cell_type": "code",
   "execution_count": 48,
   "id": "11d32c98-3d7a-4406-aed2-ccd5d6a65531",
   "metadata": {},
   "outputs": [
    {
     "data": {
      "text/plain": [
       "GLOBAL_LAT                 0\n",
       "GLOBAL_LONG                0\n",
       "ORG_ID                     0\n",
       "GLOBAL_LOCATION_NAME       0\n",
       "PROGRAM_NAME             988\n",
       "PROGRAM_STATUS           988\n",
       "PROGRAM_FEE              988\n",
       "ORG_NAME                   9\n",
       "ORG_WEB_ADDR              65\n",
       "geometry                   0\n",
       "neighborhood            2212\n",
       "dtype: int64"
      ]
     },
     "execution_count": 48,
     "metadata": {},
     "output_type": "execute_result"
    }
   ],
   "source": [
    "school_df_clean.isnull().sum()"
   ]
  },
  {
   "cell_type": "code",
   "execution_count": 50,
   "id": "78d75b3b-0bc5-4794-b49f-84b00efc235f",
   "metadata": {},
   "outputs": [],
   "source": [
    "school_df_clean = school_df_clean[school_df_clean[\"GLOBAL_LOCATION_NAME\"] != \"Virtual\"]"
   ]
  },
  {
   "cell_type": "code",
   "execution_count": 54,
   "id": "d0b528d0-573e-40da-87bc-ae4f9769bebd",
   "metadata": {},
   "outputs": [],
   "source": [
    "school_df_clean = school_df_clean.dropna(subset=['neighborhood'])"
   ]
  },
  {
   "cell_type": "code",
   "execution_count": 55,
   "id": "db9e69b6-631f-4472-97e4-6fef1d5dc561",
   "metadata": {},
   "outputs": [
    {
     "data": {
      "text/plain": [
       "GLOBAL_LAT                0\n",
       "GLOBAL_LONG               0\n",
       "ORG_ID                    0\n",
       "GLOBAL_LOCATION_NAME      0\n",
       "PROGRAM_NAME            768\n",
       "PROGRAM_STATUS          768\n",
       "PROGRAM_FEE             768\n",
       "ORG_NAME                  6\n",
       "ORG_WEB_ADDR             57\n",
       "geometry                  0\n",
       "neighborhood              0\n",
       "dtype: int64"
      ]
     },
     "execution_count": 55,
     "metadata": {},
     "output_type": "execute_result"
    }
   ],
   "source": [
    "school_df_clean.isnull().sum()"
   ]
  },
  {
   "cell_type": "code",
   "execution_count": 56,
   "id": "b8c7796a-f068-4f2d-a9f7-b8438b2ba070",
   "metadata": {},
   "outputs": [
    {
     "data": {
      "text/plain": [
       "(25072, 11)"
      ]
     },
     "execution_count": 56,
     "metadata": {},
     "output_type": "execute_result"
    }
   ],
   "source": [
    "school_df_clean.shape"
   ]
  },
  {
   "cell_type": "code",
   "execution_count": 57,
   "id": "e7eb7a0b-7154-4e8d-9ab5-ec80ddd34309",
   "metadata": {},
   "outputs": [
    {
     "data": {
      "text/html": [
       "<div>\n",
       "<style scoped>\n",
       "    .dataframe tbody tr th:only-of-type {\n",
       "        vertical-align: middle;\n",
       "    }\n",
       "\n",
       "    .dataframe tbody tr th {\n",
       "        vertical-align: top;\n",
       "    }\n",
       "\n",
       "    .dataframe thead th {\n",
       "        text-align: right;\n",
       "    }\n",
       "</style>\n",
       "<table border=\"1\" class=\"dataframe\">\n",
       "  <thead>\n",
       "    <tr style=\"text-align: right;\">\n",
       "      <th></th>\n",
       "      <th>GLOBAL_LAT</th>\n",
       "      <th>GLOBAL_LONG</th>\n",
       "      <th>ORG_ID</th>\n",
       "      <th>GLOBAL_LOCATION_NAME</th>\n",
       "      <th>PROGRAM_NAME</th>\n",
       "      <th>PROGRAM_STATUS</th>\n",
       "      <th>PROGRAM_FEE</th>\n",
       "      <th>ORG_NAME</th>\n",
       "      <th>ORG_WEB_ADDR</th>\n",
       "      <th>geometry</th>\n",
       "      <th>neighborhood</th>\n",
       "    </tr>\n",
       "  </thead>\n",
       "  <tbody>\n",
       "    <tr>\n",
       "      <th>0</th>\n",
       "      <td>39.734586</td>\n",
       "      <td>-105.004155</td>\n",
       "      <td>36553</td>\n",
       "      <td>La Alma Recreation Center</td>\n",
       "      <td>Indoor Pool</td>\n",
       "      <td>Active</td>\n",
       "      <td>1.0</td>\n",
       "      <td>Denver Parks and Recreation - City &amp; County of...</td>\n",
       "      <td>https://www.denvergov.org/recreation</td>\n",
       "      <td>POINT (-105.0041546 39.73458561)</td>\n",
       "      <td>Lincoln Park</td>\n",
       "    </tr>\n",
       "    <tr>\n",
       "      <th>1</th>\n",
       "      <td>39.734586</td>\n",
       "      <td>-105.004155</td>\n",
       "      <td>36553</td>\n",
       "      <td>La Alma Recreation Center</td>\n",
       "      <td>Indoor Pool</td>\n",
       "      <td>Active</td>\n",
       "      <td>1.0</td>\n",
       "      <td>Denver Parks and Recreation - City &amp; County of...</td>\n",
       "      <td>https://www.denvergov.org/recreation</td>\n",
       "      <td>POINT (-105.0041546 39.73458561)</td>\n",
       "      <td>Lincoln Park</td>\n",
       "    </tr>\n",
       "    <tr>\n",
       "      <th>2</th>\n",
       "      <td>39.734586</td>\n",
       "      <td>-105.004155</td>\n",
       "      <td>36553</td>\n",
       "      <td>La Alma Recreation Center</td>\n",
       "      <td>Indoor Pool</td>\n",
       "      <td>Active</td>\n",
       "      <td>1.0</td>\n",
       "      <td>Denver Parks and Recreation - City &amp; County of...</td>\n",
       "      <td>https://www.denvergov.org/recreation</td>\n",
       "      <td>POINT (-105.0041546 39.73458561)</td>\n",
       "      <td>Lincoln Park</td>\n",
       "    </tr>\n",
       "    <tr>\n",
       "      <th>3</th>\n",
       "      <td>39.734586</td>\n",
       "      <td>-105.004155</td>\n",
       "      <td>36553</td>\n",
       "      <td>La Alma Recreation Center</td>\n",
       "      <td>Indoor Pool</td>\n",
       "      <td>Active</td>\n",
       "      <td>1.0</td>\n",
       "      <td>Denver Parks and Recreation - City &amp; County of...</td>\n",
       "      <td>https://www.denvergov.org/recreation</td>\n",
       "      <td>POINT (-105.0041546 39.73458561)</td>\n",
       "      <td>Lincoln Park</td>\n",
       "    </tr>\n",
       "    <tr>\n",
       "      <th>4</th>\n",
       "      <td>39.734586</td>\n",
       "      <td>-105.004155</td>\n",
       "      <td>36553</td>\n",
       "      <td>La Alma Recreation Center</td>\n",
       "      <td>Indoor Pool</td>\n",
       "      <td>Active</td>\n",
       "      <td>1.0</td>\n",
       "      <td>Denver Parks and Recreation - City &amp; County of...</td>\n",
       "      <td>https://www.denvergov.org/recreation</td>\n",
       "      <td>POINT (-105.0041546 39.73458561)</td>\n",
       "      <td>Lincoln Park</td>\n",
       "    </tr>\n",
       "  </tbody>\n",
       "</table>\n",
       "</div>"
      ],
      "text/plain": [
       "   GLOBAL_LAT  GLOBAL_LONG  ORG_ID       GLOBAL_LOCATION_NAME PROGRAM_NAME  \\\n",
       "0   39.734586  -105.004155   36553  La Alma Recreation Center  Indoor Pool   \n",
       "1   39.734586  -105.004155   36553  La Alma Recreation Center  Indoor Pool   \n",
       "2   39.734586  -105.004155   36553  La Alma Recreation Center  Indoor Pool   \n",
       "3   39.734586  -105.004155   36553  La Alma Recreation Center  Indoor Pool   \n",
       "4   39.734586  -105.004155   36553  La Alma Recreation Center  Indoor Pool   \n",
       "\n",
       "  PROGRAM_STATUS  PROGRAM_FEE  \\\n",
       "0         Active          1.0   \n",
       "1         Active          1.0   \n",
       "2         Active          1.0   \n",
       "3         Active          1.0   \n",
       "4         Active          1.0   \n",
       "\n",
       "                                            ORG_NAME  \\\n",
       "0  Denver Parks and Recreation - City & County of...   \n",
       "1  Denver Parks and Recreation - City & County of...   \n",
       "2  Denver Parks and Recreation - City & County of...   \n",
       "3  Denver Parks and Recreation - City & County of...   \n",
       "4  Denver Parks and Recreation - City & County of...   \n",
       "\n",
       "                           ORG_WEB_ADDR                          geometry  \\\n",
       "0  https://www.denvergov.org/recreation  POINT (-105.0041546 39.73458561)   \n",
       "1  https://www.denvergov.org/recreation  POINT (-105.0041546 39.73458561)   \n",
       "2  https://www.denvergov.org/recreation  POINT (-105.0041546 39.73458561)   \n",
       "3  https://www.denvergov.org/recreation  POINT (-105.0041546 39.73458561)   \n",
       "4  https://www.denvergov.org/recreation  POINT (-105.0041546 39.73458561)   \n",
       "\n",
       "   neighborhood  \n",
       "0  Lincoln Park  \n",
       "1  Lincoln Park  \n",
       "2  Lincoln Park  \n",
       "3  Lincoln Park  \n",
       "4  Lincoln Park  "
      ]
     },
     "execution_count": 57,
     "metadata": {},
     "output_type": "execute_result"
    }
   ],
   "source": [
    "school_df_clean.head(5)"
   ]
  },
  {
   "cell_type": "markdown",
   "id": "cc5d0639-0ac0-4bca-89db-698fcf5a095c",
   "metadata": {},
   "source": [
    "## Neighborhood Data"
   ]
  },
  {
   "cell_type": "code",
   "execution_count": 70,
   "id": "03a34bb6-49ec-47b2-9b35-fa66a3b003e0",
   "metadata": {},
   "outputs": [
    {
     "name": "stdout",
     "output_type": "stream",
     "text": [
      "{'Stapleton'}\n",
      "{'Central Park'}\n"
     ]
    }
   ],
   "source": [
    "# finding mismatched names\n",
    "equity_nhbds = equity_df[\"NBHD_NAME\"]\n",
    "demo_nhbds = demographics_df[\"Neighborhood Name\"]\n",
    "print(set(equity_nhbds) - set(demo_nhbds))\n",
    "print(set(demo_nhbds) - set(equity_nhbds))"
   ]
  },
  {
   "cell_type": "code",
   "execution_count": 71,
   "id": "6d066e8d-0579-401d-a2da-93a43b33e1a9",
   "metadata": {},
   "outputs": [],
   "source": [
    "# changing equity_df Stapleton to Central Park\n",
    "equity_df[\"NBHD_NAME\"] = equity_df[\"NBHD_NAME\"].replace({'Stapleton': 'Central Park'})"
   ]
  },
  {
   "cell_type": "code",
   "execution_count": 73,
   "id": "63b96ee3-0253-4270-86e9-c254a7f594d2",
   "metadata": {},
   "outputs": [
    {
     "data": {
      "text/plain": [
       "(78, 151)"
      ]
     },
     "execution_count": 73,
     "metadata": {},
     "output_type": "execute_result"
    }
   ],
   "source": [
    "demographics_df.shape"
   ]
  },
  {
   "cell_type": "code",
   "execution_count": 74,
   "id": "d11ad30f-3411-44ba-b1bc-50c72db0dd19",
   "metadata": {},
   "outputs": [
    {
     "data": {
      "text/plain": [
       "(78, 162)"
      ]
     },
     "execution_count": 74,
     "metadata": {},
     "output_type": "execute_result"
    }
   ],
   "source": [
    "# merging equity and demographics dataframes so in single df\n",
    "merged_df = pd.merge(equity_df, demographics_df, left_on=\"NBHD_NAME\", right_on=\"Neighborhood Name\", how=\"inner\")\n",
    "merged_df.shape"
   ]
  },
  {
   "cell_type": "code",
   "execution_count": 78,
   "id": "e0285414-d90c-43e7-82ea-299a4a76ed37",
   "metadata": {},
   "outputs": [
    {
     "data": {
      "text/plain": [
       "(78, 161)"
      ]
     },
     "execution_count": 78,
     "metadata": {},
     "output_type": "execute_result"
    }
   ],
   "source": [
    "merged_df = merged_df.drop(columns=[\"NBHD_NAME\"])\n",
    "merged_df.shape"
   ]
  },
  {
   "cell_type": "code",
   "execution_count": 93,
   "id": "fc8be859-3d0d-41eb-9211-0dd38cf73fb8",
   "metadata": {},
   "outputs": [
    {
     "name": "stdout",
     "output_type": "stream",
     "text": [
      "{'Stapleton'}\n",
      "{'Central Park'}\n"
     ]
    }
   ],
   "source": [
    "# test mismatched names with other dataframes - both crime and school programs has same neighborhood name values\n",
    "merged_nhbds = merged_df[\"Neighborhood Name\"]\n",
    "crime_nhbds = crime_df_clean[\"neighborhood\"]\n",
    "school_nhbds = school_df_clean[\"neighborhood\"]\n",
    "print(set(crime_nhbds) - set(merged_nhbds))\n",
    "print(set(merged_nhbds) - set(crime_nhbds))"
   ]
  },
  {
   "cell_type": "code",
   "execution_count": 94,
   "id": "d32b6338-2d31-4aa7-b8c7-dad486b936ff",
   "metadata": {},
   "outputs": [
    {
     "name": "stdout",
     "output_type": "stream",
     "text": [
      "{'Stapleton'}\n",
      "{'Windsor', 'Country Club', 'Central Park'}\n"
     ]
    }
   ],
   "source": [
    "print(set(school_nhbds) - set(merged_nhbds))\n",
    "print(set(merged_nhbds) - set(school_nhbds))"
   ]
  },
  {
   "cell_type": "code",
   "execution_count": 96,
   "id": "098ff21b-8220-4ae6-9110-09b1c62df081",
   "metadata": {},
   "outputs": [
    {
     "name": "stdout",
     "output_type": "stream",
     "text": [
      "(357984, 15)\n",
      "(25072, 11)\n"
     ]
    }
   ],
   "source": [
    "# changing Stapleton to Central Park\n",
    "crime_df_clean[\"neighborhood\"] = crime_df_clean[\"neighborhood\"].replace({'Stapleton': 'Central Park'})\n",
    "school_df_clean[\"neighborhood\"] = school_df_clean[\"neighborhood\"].replace({'Stapleton': 'Central Park'})\n",
    "print(crime_df_clean.shape)\n",
    "print(school_df_clean.shape)"
   ]
  },
  {
   "cell_type": "code",
   "execution_count": null,
   "id": "a2b440fd-68cd-459e-8a57-ae024cf3017c",
   "metadata": {},
   "outputs": [],
   "source": []
  }
 ],
 "metadata": {
  "kernelspec": {
   "display_name": "Python 3 (ipykernel)",
   "language": "python",
   "name": "python3"
  },
  "language_info": {
   "codemirror_mode": {
    "name": "ipython",
    "version": 3
   },
   "file_extension": ".py",
   "mimetype": "text/x-python",
   "name": "python",
   "nbconvert_exporter": "python",
   "pygments_lexer": "ipython3",
   "version": "3.11.11"
  }
 },
 "nbformat": 4,
 "nbformat_minor": 5
}
