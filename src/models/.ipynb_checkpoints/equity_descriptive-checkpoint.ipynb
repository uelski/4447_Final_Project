{
 "cells": [
  {
   "cell_type": "code",
   "execution_count": 11,
   "id": "743be248",
   "metadata": {
    "vscode": {
     "languageId": "plaintext"
    }
   },
   "outputs": [],
   "source": [
    "import pandas as pd\n",
    "import numpy as np \n",
    "from sklearn.preprocessing import StandardScaler\n",
    "from sklearn.linear_model import LogisticRegression, Lasso, Ridge, ElasticNet\n",
    "from sklearn.metrics import classification_report, confusion_matrix, roc_auc_score\n",
    "from sklearn.model_selection import train_test_split"
   ]
  },
  {
   "cell_type": "code",
   "execution_count": 13,
   "id": "ba4464a0-0ffd-429d-84e0-72bbaab7e60f",
   "metadata": {},
   "outputs": [],
   "source": [
    "# setup and feature engineering\n",
    "df = pd.read_csv('../../data/processed/neighborhood_crime_counts.csv')\n",
    "\n",
    "# set neighborhood as index so removed from feature columns\n",
    "df.set_index(\"neighborhood\", inplace=True)\n",
    "\n",
    "# select feature columns and scale\n",
    "feature_cols = ['program_count', 'Total Population All', 'Percent White', 'Median Household Income', 'Per Capita Income', 'program_count_per1000', 'crime_per1000' ]\n",
    "\n",
    "# scale\n",
    "scaler = StandardScaler()\n",
    "scaled_features = scaler.fit_transform(df[feature_cols])\n",
    "\n",
    "# scaled dataframe of features\n",
    "X = pd.DataFrame(scaled_features, \n",
    "                         index=df.index, \n",
    "                         columns=feature_cols)\n",
    "\n",
    "# target column - unscaled\n",
    "target_col = 'avgOverallEquityScore'\n",
    "y = df[target_col].round().astype(int).values\n",
    "\n",
    "# train test split\n",
    "X_train, X_test, y_train, y_test = train_test_split(X, y, test_size=0.2, random_state=42)\n",
    "\n"
   ]
  },
  {
   "cell_type": "markdown",
   "id": "6efc579b-a3a2-4ee2-8a77-9924293fc31d",
   "metadata": {},
   "source": [
    "## Basic Logistic Regression without Regularization"
   ]
  },
  {
   "cell_type": "code",
   "execution_count": 18,
   "id": "046e4de7-0911-49e6-ad86-c795099a4b2f",
   "metadata": {},
   "outputs": [
    {
     "name": "stdout",
     "output_type": "stream",
     "text": [
      "Confusion Matrix:\n",
      "[[8 1 0 0]\n",
      " [1 0 1 0]\n",
      " [0 3 1 0]\n",
      " [0 0 1 0]]\n",
      "\n",
      "Classification Report:\n",
      "              precision    recall  f1-score   support\n",
      "\n",
      "           2       0.89      0.89      0.89         9\n",
      "           3       0.00      0.00      0.00         2\n",
      "           4       0.33      0.25      0.29         4\n",
      "           5       0.00      0.00      0.00         1\n",
      "\n",
      "    accuracy                           0.56        16\n",
      "   macro avg       0.31      0.28      0.29        16\n",
      "weighted avg       0.58      0.56      0.57        16\n",
      "\n"
     ]
    }
   ],
   "source": [
    "log_reg = LogisticRegression(max_iter=1000, penalty=None)\n",
    "\n",
    "log_reg.fit(X_train, y_train)\n",
    "\n",
    "# 3. Predict on the test set\n",
    "y_pred = log_reg.predict(X_test)\n",
    "\n",
    "# 4. Evaluate performance\n",
    "print(\"Confusion Matrix:\")\n",
    "print(confusion_matrix(y_test, y_pred))\n",
    "\n",
    "print(\"\\nClassification Report:\")\n",
    "print(classification_report(y_test, y_pred, zero_division=0))"
   ]
  },
  {
   "cell_type": "markdown",
   "id": "1c7cbbeb-4ea3-4491-a56e-ad6df10ace63",
   "metadata": {},
   "source": [
    "## Logistic Regression with L1 Regularization"
   ]
  },
  {
   "cell_type": "code",
   "execution_count": 21,
   "id": "9f0e795e-9f9a-482a-ae7d-be3863798b9b",
   "metadata": {},
   "outputs": [
    {
     "name": "stdout",
     "output_type": "stream",
     "text": [
      "Confusion Matrix:\n",
      "[[9 0 0 0]\n",
      " [0 1 1 0]\n",
      " [0 3 1 0]\n",
      " [0 0 1 0]]\n",
      "\n",
      "Classification Report:\n",
      "              precision    recall  f1-score   support\n",
      "\n",
      "           2       1.00      1.00      1.00         9\n",
      "           3       0.25      0.50      0.33         2\n",
      "           4       0.33      0.25      0.29         4\n",
      "           5       0.00      0.00      0.00         1\n",
      "\n",
      "    accuracy                           0.69        16\n",
      "   macro avg       0.40      0.44      0.40        16\n",
      "weighted avg       0.68      0.69      0.68        16\n",
      "\n"
     ]
    }
   ],
   "source": [
    "lasso = LogisticRegression(max_iter=1000, penalty='l1', C=0.5, solver='saga')\n",
    "\n",
    "lasso.fit(X_train, y_train)\n",
    "\n",
    "# 3. Predict on the test set\n",
    "y_pred = lasso.predict(X_test)\n",
    "\n",
    "# 4. Evaluate performance\n",
    "print(\"Confusion Matrix:\")\n",
    "print(confusion_matrix(y_test, y_pred))\n",
    "\n",
    "print(\"\\nClassification Report:\")\n",
    "print(classification_report(y_test, y_pred, zero_division=0))"
   ]
  },
  {
   "cell_type": "markdown",
   "id": "6e734adb-948c-4f62-be38-132507749825",
   "metadata": {},
   "source": [
    "## Logistic Regression with L2 Regularization"
   ]
  },
  {
   "cell_type": "code",
   "execution_count": 22,
   "id": "1c98a521-7dfd-4ab0-9a8f-2646f08e0393",
   "metadata": {},
   "outputs": [
    {
     "name": "stdout",
     "output_type": "stream",
     "text": [
      "Confusion Matrix:\n",
      "[[9 0 0 0]\n",
      " [1 0 1 0]\n",
      " [0 3 1 0]\n",
      " [0 0 1 0]]\n",
      "\n",
      "Classification Report:\n",
      "              precision    recall  f1-score   support\n",
      "\n",
      "           2       0.90      1.00      0.95         9\n",
      "           3       0.00      0.00      0.00         2\n",
      "           4       0.33      0.25      0.29         4\n",
      "           5       0.00      0.00      0.00         1\n",
      "\n",
      "    accuracy                           0.62        16\n",
      "   macro avg       0.31      0.31      0.31        16\n",
      "weighted avg       0.59      0.62      0.60        16\n",
      "\n"
     ]
    }
   ],
   "source": [
    "ridge = LogisticRegression(max_iter=1000, penalty='l2', C=0.5)\n",
    "\n",
    "ridge.fit(X_train, y_train)\n",
    "\n",
    "# 3. Predict on the test set\n",
    "y_pred = ridge.predict(X_test)\n",
    "\n",
    "# 4. Evaluate performance\n",
    "print(\"Confusion Matrix:\")\n",
    "print(confusion_matrix(y_test, y_pred))\n",
    "\n",
    "print(\"\\nClassification Report:\")\n",
    "print(classification_report(y_test, y_pred, zero_division=0))"
   ]
  },
  {
   "cell_type": "markdown",
   "id": "e0b365a3-a687-43de-93a2-758396e410c4",
   "metadata": {},
   "source": [
    "## Logistic Regression with Elasticnet Regularization"
   ]
  },
  {
   "cell_type": "code",
   "execution_count": 23,
   "id": "91f47aef-e7bc-4922-ab74-eea5c7fdcfb0",
   "metadata": {},
   "outputs": [
    {
     "name": "stdout",
     "output_type": "stream",
     "text": [
      "Confusion Matrix:\n",
      "[[9 0 0 0]\n",
      " [1 0 1 0]\n",
      " [0 3 1 0]\n",
      " [0 0 1 0]]\n",
      "\n",
      "Classification Report:\n",
      "              precision    recall  f1-score   support\n",
      "\n",
      "           2       0.90      1.00      0.95         9\n",
      "           3       0.00      0.00      0.00         2\n",
      "           4       0.33      0.25      0.29         4\n",
      "           5       0.00      0.00      0.00         1\n",
      "\n",
      "    accuracy                           0.62        16\n",
      "   macro avg       0.31      0.31      0.31        16\n",
      "weighted avg       0.59      0.62      0.60        16\n",
      "\n"
     ]
    }
   ],
   "source": [
    "elastic = LogisticRegression(max_iter=1000, penalty='elasticnet', l1_ratio=0.5, solver='saga')\n",
    "\n",
    "elastic.fit(X_train, y_train)\n",
    "\n",
    "# 3. Predict on the test set\n",
    "y_pred = elastic.predict(X_test)\n",
    "\n",
    "# 4. Evaluate performance\n",
    "print(\"Confusion Matrix:\")\n",
    "print(confusion_matrix(y_test, y_pred))\n",
    "\n",
    "print(\"\\nClassification Report:\")\n",
    "print(classification_report(y_test, y_pred, zero_division=0))"
   ]
  },
  {
   "cell_type": "code",
   "execution_count": null,
   "id": "fcde71ab-b6ec-49bb-a616-b48960cbc0d9",
   "metadata": {},
   "outputs": [],
   "source": []
  }
 ],
 "metadata": {
  "kernelspec": {
   "display_name": "Python 3 (ipykernel)",
   "language": "python",
   "name": "python3"
  },
  "language_info": {
   "codemirror_mode": {
    "name": "ipython",
    "version": 3
   },
   "file_extension": ".py",
   "mimetype": "text/x-python",
   "name": "python",
   "nbconvert_exporter": "python",
   "pygments_lexer": "ipython3",
   "version": "3.11.11"
  }
 },
 "nbformat": 4,
 "nbformat_minor": 5
}
