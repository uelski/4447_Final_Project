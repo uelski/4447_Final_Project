{
 "cells": [
  {
   "cell_type": "code",
   "execution_count": 30,
   "id": "9a07bfd0",
   "metadata": {
    "vscode": {
     "languageId": "plaintext"
    }
   },
   "outputs": [],
   "source": [
    "import pandas as pd\n",
    "import numpy as np \n",
    "from sklearn.preprocessing import StandardScaler\n",
    "from sklearn.linear_model import LinearRegression, Lasso, Ridge, ElasticNet\n",
    "from sklearn.metrics import r2_score, root_mean_squared_error"
   ]
  },
  {
   "cell_type": "code",
   "execution_count": 19,
   "id": "1ab01ba7-773b-4d0f-a486-1dcc43975d57",
   "metadata": {},
   "outputs": [],
   "source": [
    "# setup and feature engineering\n",
    "df = pd.read_csv('../../data/processed/neighborhood_crime_counts.csv')\n",
    "\n",
    "# set neighborhood as index so removed from feature columns\n",
    "df.set_index(\"neighborhood\", inplace=True)\n",
    "\n",
    "# select feature columns and scale\n",
    "feature_cols = ['program_count', 'avgsocioeconscore', 'avgAccessToCareScore', 'avgMobidityScore', 'mortalityscore', 'avgBuiltEnvScore', 'avgOverallEquityScore', 'Total Population All', 'Percent White', 'Median Household Income', 'Per Capita Income', 'program_count_per1000' ]\n",
    "\n",
    "# scale\n",
    "scaler = StandardScaler()\n",
    "scaled_features = scaler.fit_transform(df[feature_cols])\n",
    "\n",
    "# scaled dataframe of features\n",
    "X = pd.DataFrame(scaled_features, \n",
    "                         index=df.index, \n",
    "                         columns=feature_cols)\n",
    "\n",
    "# target column - unscaled\n",
    "target_col = 'crime_per1000'\n",
    "y = df[target_col].values"
   ]
  },
  {
   "cell_type": "code",
   "execution_count": 28,
   "id": "c45d3a4c-4dde-4dbd-bf06-8c63fdd6648e",
   "metadata": {},
   "outputs": [
    {
     "data": {
      "text/html": [
       "<div>\n",
       "<style scoped>\n",
       "    .dataframe tbody tr th:only-of-type {\n",
       "        vertical-align: middle;\n",
       "    }\n",
       "\n",
       "    .dataframe tbody tr th {\n",
       "        vertical-align: top;\n",
       "    }\n",
       "\n",
       "    .dataframe thead th {\n",
       "        text-align: right;\n",
       "    }\n",
       "</style>\n",
       "<table border=\"1\" class=\"dataframe\">\n",
       "  <thead>\n",
       "    <tr style=\"text-align: right;\">\n",
       "      <th></th>\n",
       "      <th>program_count</th>\n",
       "      <th>avgsocioeconscore</th>\n",
       "      <th>avgAccessToCareScore</th>\n",
       "      <th>avgMobidityScore</th>\n",
       "      <th>mortalityscore</th>\n",
       "      <th>avgBuiltEnvScore</th>\n",
       "      <th>avgOverallEquityScore</th>\n",
       "      <th>Total Population All</th>\n",
       "      <th>Percent White</th>\n",
       "      <th>Median Household Income</th>\n",
       "      <th>Per Capita Income</th>\n",
       "      <th>program_count_per1000</th>\n",
       "    </tr>\n",
       "    <tr>\n",
       "      <th>neighborhood</th>\n",
       "      <th></th>\n",
       "      <th></th>\n",
       "      <th></th>\n",
       "      <th></th>\n",
       "      <th></th>\n",
       "      <th></th>\n",
       "      <th></th>\n",
       "      <th></th>\n",
       "      <th></th>\n",
       "      <th></th>\n",
       "      <th></th>\n",
       "      <th></th>\n",
       "    </tr>\n",
       "  </thead>\n",
       "  <tbody>\n",
       "    <tr>\n",
       "      <th>Athmar Park</th>\n",
       "      <td>0.550280</td>\n",
       "      <td>-1.557425</td>\n",
       "      <td>-0.828804</td>\n",
       "      <td>-0.033408</td>\n",
       "      <td>-0.018134</td>\n",
       "      <td>-0.509720</td>\n",
       "      <td>-0.880229</td>\n",
       "      <td>-0.030248</td>\n",
       "      <td>-1.126164</td>\n",
       "      <td>-0.636021</td>\n",
       "      <td>-0.900917</td>\n",
       "      <td>0.749643</td>\n",
       "    </tr>\n",
       "    <tr>\n",
       "      <th>Auraria</th>\n",
       "      <td>-0.950504</td>\n",
       "      <td>1.517997</td>\n",
       "      <td>0.383322</td>\n",
       "      <td>-0.033408</td>\n",
       "      <td>1.396312</td>\n",
       "      <td>1.429703</td>\n",
       "      <td>1.424539</td>\n",
       "      <td>-1.204668</td>\n",
       "      <td>0.421023</td>\n",
       "      <td>1.524777</td>\n",
       "      <td>-1.548893</td>\n",
       "      <td>-0.703167</td>\n",
       "    </tr>\n",
       "    <tr>\n",
       "      <th>Baker</th>\n",
       "      <td>0.060291</td>\n",
       "      <td>-0.019714</td>\n",
       "      <td>0.787364</td>\n",
       "      <td>-0.684857</td>\n",
       "      <td>-0.725357</td>\n",
       "      <td>0.944847</td>\n",
       "      <td>0.090200</td>\n",
       "      <td>-0.378748</td>\n",
       "      <td>0.490537</td>\n",
       "      <td>0.192797</td>\n",
       "      <td>0.336427</td>\n",
       "      <td>0.616396</td>\n",
       "    </tr>\n",
       "    <tr>\n",
       "      <th>Barnum</th>\n",
       "      <td>0.356133</td>\n",
       "      <td>-1.557425</td>\n",
       "      <td>-0.828804</td>\n",
       "      <td>-0.033408</td>\n",
       "      <td>-0.725357</td>\n",
       "      <td>-0.994576</td>\n",
       "      <td>-1.244139</td>\n",
       "      <td>-0.455551</td>\n",
       "      <td>-1.570261</td>\n",
       "      <td>-0.962173</td>\n",
       "      <td>-1.281695</td>\n",
       "      <td>1.412845</td>\n",
       "    </tr>\n",
       "    <tr>\n",
       "      <th>Barnum West</th>\n",
       "      <td>-0.272532</td>\n",
       "      <td>-1.172997</td>\n",
       "      <td>-1.232846</td>\n",
       "      <td>-0.684857</td>\n",
       "      <td>-0.018134</td>\n",
       "      <td>-1.964287</td>\n",
       "      <td>-1.365443</td>\n",
       "      <td>-0.545636</td>\n",
       "      <td>-1.459651</td>\n",
       "      <td>-0.894328</td>\n",
       "      <td>-0.942041</td>\n",
       "      <td>0.280983</td>\n",
       "    </tr>\n",
       "    <tr>\n",
       "      <th>...</th>\n",
       "      <td>...</td>\n",
       "      <td>...</td>\n",
       "      <td>...</td>\n",
       "      <td>...</td>\n",
       "      <td>...</td>\n",
       "      <td>...</td>\n",
       "      <td>...</td>\n",
       "      <td>...</td>\n",
       "      <td>...</td>\n",
       "      <td>...</td>\n",
       "      <td>...</td>\n",
       "      <td>...</td>\n",
       "    </tr>\n",
       "    <tr>\n",
       "      <th>West Colfax</th>\n",
       "      <td>0.547198</td>\n",
       "      <td>-1.172997</td>\n",
       "      <td>-0.828804</td>\n",
       "      <td>-1.987755</td>\n",
       "      <td>-1.432580</td>\n",
       "      <td>-0.024864</td>\n",
       "      <td>-1.486747</td>\n",
       "      <td>0.191209</td>\n",
       "      <td>-0.091291</td>\n",
       "      <td>-0.123215</td>\n",
       "      <td>0.236879</td>\n",
       "      <td>0.429978</td>\n",
       "    </tr>\n",
       "    <tr>\n",
       "      <th>West Highland</th>\n",
       "      <td>-0.180081</td>\n",
       "      <td>0.749141</td>\n",
       "      <td>1.191406</td>\n",
       "      <td>0.618042</td>\n",
       "      <td>0.689089</td>\n",
       "      <td>-0.024864</td>\n",
       "      <td>0.939325</td>\n",
       "      <td>0.093185</td>\n",
       "      <td>1.121222</td>\n",
       "      <td>0.427337</td>\n",
       "      <td>0.708688</td>\n",
       "      <td>-0.363661</td>\n",
       "    </tr>\n",
       "    <tr>\n",
       "      <th>Westwood</th>\n",
       "      <td>1.126556</td>\n",
       "      <td>-1.557425</td>\n",
       "      <td>-1.232846</td>\n",
       "      <td>-0.033408</td>\n",
       "      <td>-0.725357</td>\n",
       "      <td>-0.509720</td>\n",
       "      <td>-1.244139</td>\n",
       "      <td>1.257354</td>\n",
       "      <td>-1.967887</td>\n",
       "      <td>-1.403705</td>\n",
       "      <td>-1.400905</td>\n",
       "      <td>0.074403</td>\n",
       "    </tr>\n",
       "    <tr>\n",
       "      <th>Whittier</th>\n",
       "      <td>-0.784093</td>\n",
       "      <td>-0.019714</td>\n",
       "      <td>-0.424762</td>\n",
       "      <td>1.269491</td>\n",
       "      <td>-0.725357</td>\n",
       "      <td>-0.024864</td>\n",
       "      <td>-0.152407</td>\n",
       "      <td>-0.616231</td>\n",
       "      <td>-0.064206</td>\n",
       "      <td>0.720695</td>\n",
       "      <td>0.156881</td>\n",
       "      <td>-0.860458</td>\n",
       "    </tr>\n",
       "    <tr>\n",
       "      <th>Windsor</th>\n",
       "      <td>-0.990566</td>\n",
       "      <td>-0.788570</td>\n",
       "      <td>-0.424762</td>\n",
       "      <td>-1.336306</td>\n",
       "      <td>0.689089</td>\n",
       "      <td>-1.964287</td>\n",
       "      <td>-0.880229</td>\n",
       "      <td>0.782245</td>\n",
       "      <td>-0.323297</td>\n",
       "      <td>-1.114743</td>\n",
       "      <td>-0.656757</td>\n",
       "      <td>-1.389967</td>\n",
       "    </tr>\n",
       "  </tbody>\n",
       "</table>\n",
       "<p>78 rows × 12 columns</p>\n",
       "</div>"
      ],
      "text/plain": [
       "               program_count  avgsocioeconscore  avgAccessToCareScore  \\\n",
       "neighborhood                                                            \n",
       "Athmar Park         0.550280          -1.557425             -0.828804   \n",
       "Auraria            -0.950504           1.517997              0.383322   \n",
       "Baker               0.060291          -0.019714              0.787364   \n",
       "Barnum              0.356133          -1.557425             -0.828804   \n",
       "Barnum West        -0.272532          -1.172997             -1.232846   \n",
       "...                      ...                ...                   ...   \n",
       "West Colfax         0.547198          -1.172997             -0.828804   \n",
       "West Highland      -0.180081           0.749141              1.191406   \n",
       "Westwood            1.126556          -1.557425             -1.232846   \n",
       "Whittier           -0.784093          -0.019714             -0.424762   \n",
       "Windsor            -0.990566          -0.788570             -0.424762   \n",
       "\n",
       "               avgMobidityScore  mortalityscore  avgBuiltEnvScore  \\\n",
       "neighborhood                                                        \n",
       "Athmar Park           -0.033408       -0.018134         -0.509720   \n",
       "Auraria               -0.033408        1.396312          1.429703   \n",
       "Baker                 -0.684857       -0.725357          0.944847   \n",
       "Barnum                -0.033408       -0.725357         -0.994576   \n",
       "Barnum West           -0.684857       -0.018134         -1.964287   \n",
       "...                         ...             ...               ...   \n",
       "West Colfax           -1.987755       -1.432580         -0.024864   \n",
       "West Highland          0.618042        0.689089         -0.024864   \n",
       "Westwood              -0.033408       -0.725357         -0.509720   \n",
       "Whittier               1.269491       -0.725357         -0.024864   \n",
       "Windsor               -1.336306        0.689089         -1.964287   \n",
       "\n",
       "               avgOverallEquityScore  Total Population All  Percent White  \\\n",
       "neighborhood                                                                \n",
       "Athmar Park                -0.880229             -0.030248      -1.126164   \n",
       "Auraria                     1.424539             -1.204668       0.421023   \n",
       "Baker                       0.090200             -0.378748       0.490537   \n",
       "Barnum                     -1.244139             -0.455551      -1.570261   \n",
       "Barnum West                -1.365443             -0.545636      -1.459651   \n",
       "...                              ...                   ...            ...   \n",
       "West Colfax                -1.486747              0.191209      -0.091291   \n",
       "West Highland               0.939325              0.093185       1.121222   \n",
       "Westwood                   -1.244139              1.257354      -1.967887   \n",
       "Whittier                   -0.152407             -0.616231      -0.064206   \n",
       "Windsor                    -0.880229              0.782245      -0.323297   \n",
       "\n",
       "               Median Household Income  Per Capita Income  \\\n",
       "neighborhood                                                \n",
       "Athmar Park                  -0.636021          -0.900917   \n",
       "Auraria                       1.524777          -1.548893   \n",
       "Baker                         0.192797           0.336427   \n",
       "Barnum                       -0.962173          -1.281695   \n",
       "Barnum West                  -0.894328          -0.942041   \n",
       "...                                ...                ...   \n",
       "West Colfax                  -0.123215           0.236879   \n",
       "West Highland                 0.427337           0.708688   \n",
       "Westwood                     -1.403705          -1.400905   \n",
       "Whittier                      0.720695           0.156881   \n",
       "Windsor                      -1.114743          -0.656757   \n",
       "\n",
       "               program_count_per1000  \n",
       "neighborhood                          \n",
       "Athmar Park                 0.749643  \n",
       "Auraria                    -0.703167  \n",
       "Baker                       0.616396  \n",
       "Barnum                      1.412845  \n",
       "Barnum West                 0.280983  \n",
       "...                              ...  \n",
       "West Colfax                 0.429978  \n",
       "West Highland              -0.363661  \n",
       "Westwood                    0.074403  \n",
       "Whittier                   -0.860458  \n",
       "Windsor                    -1.389967  \n",
       "\n",
       "[78 rows x 12 columns]"
      ]
     },
     "execution_count": 28,
     "metadata": {},
     "output_type": "execute_result"
    }
   ],
   "source": [
    "X"
   ]
  },
  {
   "cell_type": "code",
   "execution_count": 29,
   "id": "e1e6a90e-b109-4ce2-a650-23e015ecbf3b",
   "metadata": {},
   "outputs": [
    {
     "data": {
      "text/plain": [
       "array([ 387.37008586, 3926.08089261, 1007.92171482,  459.19403996,\n",
       "        304.61946232,  292.80821918,  300.06161429,  327.3822563 ,\n",
       "       2629.88555388,  835.91811414,  605.86525936,  448.91552511,\n",
       "        484.3540456 ,  633.94523958,  548.59370649,  854.2204202 ,\n",
       "       2924.25320057,  545.61838252,  502.44553135,  461.64133739,\n",
       "        324.07164701,  542.58600237,  255.08945096, 7270.09507347,\n",
       "        800.46970409,  706.34684148, 1097.42347065,  185.4721006 ,\n",
       "        223.31027871,  993.50811486,  520.85796318,  382.8125    ,\n",
       "        391.4915428 ,  348.96518722,  255.57857826,  297.57514806,\n",
       "        520.44807966,  236.43934279,  172.75      ,  679.31488801,\n",
       "        524.89125181, 1229.6679866 ,  438.02019754,  281.86311218,\n",
       "        186.28260152,  286.5186112 ,  432.37672427, 1016.44962303,\n",
       "        174.13882638,  771.89477189,  893.08176101,  351.27778618,\n",
       "        324.05063291,  337.63361592,  342.34868289,  308.68167203,\n",
       "        339.90516596,  256.41025641,  340.33057851,  500.91804373,\n",
       "       1960.28243601,  371.03725697, 1278.97542884,  247.6315259 ,\n",
       "        465.31531532,  372.58989057,  574.19054274,  471.15927306,\n",
       "        311.2529392 ,  241.44070118,  388.37713357,  360.13536379,\n",
       "         97.44360902,  759.58020412,  348.61440198,  348.54538293,\n",
       "        445.02399332,  277.96961326])"
      ]
     },
     "execution_count": 29,
     "metadata": {},
     "output_type": "execute_result"
    }
   ],
   "source": [
    "y"
   ]
  },
  {
   "cell_type": "markdown",
   "id": "b9e88da5-ba74-48e6-8a84-69d3ac719a1a",
   "metadata": {},
   "source": [
    "## Basic Linear Regression without Regularization"
   ]
  },
  {
   "cell_type": "code",
   "execution_count": 27,
   "id": "f6cb7ac4-2891-450e-8868-c5ea6d820102",
   "metadata": {},
   "outputs": [
    {
     "name": "stdout",
     "output_type": "stream",
     "text": [
      "                    Feature   Coefficient\n",
      "6     avgOverallEquityScore -1.035262e+09\n",
      "4            mortalityscore  3.551386e+08\n",
      "1         avgsocioeconscore  3.266705e+08\n",
      "2      avgAccessToCareScore  3.108111e+08\n",
      "5          avgBuiltEnvScore  2.590072e+08\n",
      "3          avgMobidityScore  1.927717e+08\n",
      "0             program_count -4.032010e+02\n",
      "11    program_count_per1000  3.011419e+02\n",
      "10        Per Capita Income -2.663602e+02\n",
      "9   Median Household Income  1.359492e+02\n",
      "8             Percent White -8.423316e+01\n",
      "7      Total Population All  3.257139e+01\n"
     ]
    }
   ],
   "source": [
    "lr_model = LinearRegression()\n",
    "lr_model.fit(X, y)\n",
    "\n",
    "# coefficients\n",
    "lr_coef_df = pd.DataFrame({\n",
    "    \"Feature\": X.columns,\n",
    "    \"Coefficient\": lr_model.coef_\n",
    "}).sort_values(by=\"Coefficient\", key=abs, ascending=False)\n",
    "print(lr_coef_df)\n",
    "\n",
    "# model performance\n",
    "lr_r2 = r2_score(y, lr_model.predict(X))\n",
    "lr_rmse = root_mean_squared_error(y, lr_model.predict(X))"
   ]
  },
  {
   "cell_type": "code",
   "execution_count": 24,
   "id": "2a58cdd6-c6ce-45ac-8564-8934b4d483fb",
   "metadata": {},
   "outputs": [
    {
     "name": "stdout",
     "output_type": "stream",
     "text": [
      "0.29099332767040464\n"
     ]
    }
   ],
   "source": [
    "print(lr_r2)"
   ]
  },
  {
   "cell_type": "code",
   "execution_count": 25,
   "id": "69c53d75-afe9-4f20-910a-81511f31fd98",
   "metadata": {},
   "outputs": [
    {
     "name": "stdout",
     "output_type": "stream",
     "text": [
      "810.6715212738515\n"
     ]
    }
   ],
   "source": [
    "print(lr_rmse)"
   ]
  },
  {
   "cell_type": "markdown",
   "id": "796acb3a-2706-41ff-94e3-b6243b2d01cf",
   "metadata": {},
   "source": [
    "## Linear Regression with L1 Regularization"
   ]
  },
  {
   "cell_type": "code",
   "execution_count": 31,
   "id": "43b3c17d-45a8-4dcf-b7fe-8be9b7410c1d",
   "metadata": {},
   "outputs": [
    {
     "name": "stdout",
     "output_type": "stream",
     "text": [
      "                    Feature  Coefficient\n",
      "2      avgAccessToCareScore  -554.862882\n",
      "1         avgsocioeconscore   473.850401\n",
      "0             program_count  -457.988719\n",
      "11    program_count_per1000   306.695860\n",
      "10        Per Capita Income  -304.368058\n",
      "4            mortalityscore   257.466800\n",
      "9   Median Household Income   180.997578\n",
      "5          avgBuiltEnvScore   176.408100\n",
      "8             Percent White  -125.827790\n",
      "7      Total Population All    66.580590\n",
      "3          avgMobidityScore   -36.655212\n",
      "6     avgOverallEquityScore     0.000000\n"
     ]
    }
   ],
   "source": [
    "lasso = Lasso(alpha=0.1)\n",
    "lasso.fit(X, y)\n",
    "\n",
    "# coefficients\n",
    "lasso_coef_df = pd.DataFrame({\n",
    "    \"Feature\": X.columns,\n",
    "    \"Coefficient\": lasso.coef_\n",
    "}).sort_values(by=\"Coefficient\", key=abs, ascending=False)\n",
    "print(lasso_coef_df)\n",
    "\n",
    "# model performance\n",
    "lasso_r2 = r2_score(y, lasso.predict(X))\n",
    "lasso_rmse = root_mean_squared_error(y, lasso.predict(X))"
   ]
  },
  {
   "cell_type": "code",
   "execution_count": 32,
   "id": "d674ff1b-4770-4b38-91c7-02aa4d7cdd3a",
   "metadata": {},
   "outputs": [
    {
     "name": "stdout",
     "output_type": "stream",
     "text": [
      "0.28106571565899396\n"
     ]
    }
   ],
   "source": [
    "print(lasso_r2)"
   ]
  },
  {
   "cell_type": "code",
   "execution_count": 33,
   "id": "e5002ee1-2027-41f0-93f4-84258288692f",
   "metadata": {},
   "outputs": [
    {
     "name": "stdout",
     "output_type": "stream",
     "text": [
      "816.3273604570854\n"
     ]
    }
   ],
   "source": [
    "print(lasso_rmse)"
   ]
  },
  {
   "cell_type": "markdown",
   "id": "22487d88-6875-470d-802a-141d432f2b0b",
   "metadata": {},
   "source": [
    "## Linear Regression with L2 Regularization"
   ]
  },
  {
   "cell_type": "code",
   "execution_count": 34,
   "id": "d5d45e50-a59e-48a4-bae1-6fc0758c02a9",
   "metadata": {},
   "outputs": [
    {
     "name": "stdout",
     "output_type": "stream",
     "text": [
      "                    Feature  Coefficient\n",
      "2      avgAccessToCareScore  -572.462730\n",
      "0             program_count  -450.376056\n",
      "1         avgsocioeconscore   445.265157\n",
      "10        Per Capita Income  -302.965748\n",
      "11    program_count_per1000   301.919922\n",
      "4            mortalityscore   230.612885\n",
      "9   Median Household Income   178.163940\n",
      "5          avgBuiltEnvScore   156.621642\n",
      "8             Percent White  -126.647240\n",
      "6     avgOverallEquityScore    77.606224\n",
      "7      Total Population All    60.717421\n",
      "3          avgMobidityScore   -50.018858\n"
     ]
    }
   ],
   "source": [
    "ridge = Ridge(alpha=0.1)\n",
    "ridge.fit(X, y)\n",
    "\n",
    "# coefficients\n",
    "ridge_coef_df = pd.DataFrame({\n",
    "    \"Feature\": X.columns,\n",
    "    \"Coefficient\": ridge.coef_\n",
    "}).sort_values(by=\"Coefficient\", key=abs, ascending=False)\n",
    "print(ridge_coef_df)\n",
    "\n",
    "# model performance\n",
    "ridge_r2 = r2_score(y, ridge.predict(X))\n",
    "ridge_rmse = root_mean_squared_error(y, ridge.predict(X))"
   ]
  },
  {
   "cell_type": "code",
   "execution_count": 35,
   "id": "5dd0ae42-28db-4963-be10-66fc49aa954f",
   "metadata": {},
   "outputs": [
    {
     "name": "stdout",
     "output_type": "stream",
     "text": [
      "0.281046555110147\n"
     ]
    }
   ],
   "source": [
    "print(ridge_r2)"
   ]
  },
  {
   "cell_type": "code",
   "execution_count": 36,
   "id": "4e8e4260-9de3-4934-928d-9f747d7e5e3c",
   "metadata": {},
   "outputs": [
    {
     "name": "stdout",
     "output_type": "stream",
     "text": [
      "816.3382384861293\n"
     ]
    }
   ],
   "source": [
    "print(ridge_rmse)"
   ]
  },
  {
   "cell_type": "markdown",
   "id": "aaab146b-8a43-441e-a79f-a75f20e7cd4b",
   "metadata": {},
   "source": [
    "## Linear Regression with Elasticnet Regularization"
   ]
  },
  {
   "cell_type": "code",
   "execution_count": 37,
   "id": "946298be-2f2e-49f5-8624-da7424cdf17b",
   "metadata": {},
   "outputs": [
    {
     "name": "stdout",
     "output_type": "stream",
     "text": [
      "                    Feature  Coefficient\n",
      "2      avgAccessToCareScore  -336.900360\n",
      "1         avgsocioeconscore   246.079291\n",
      "10        Per Capita Income  -229.012409\n",
      "0             program_count  -208.570197\n",
      "4            mortalityscore   207.994776\n",
      "11    program_count_per1000   147.060476\n",
      "8             Percent White  -131.017465\n",
      "5          avgBuiltEnvScore   128.445008\n",
      "7      Total Population All  -108.679594\n",
      "6     avgOverallEquityScore    79.805320\n",
      "9   Median Household Income    64.506922\n",
      "3          avgMobidityScore    -0.641860\n"
     ]
    }
   ],
   "source": [
    "elastic = ElasticNet(alpha=0.1, l1_ratio=0.1)\n",
    "elastic.fit(X, y)\n",
    "\n",
    "# coefficients\n",
    "elastic_coef_df = pd.DataFrame({\n",
    "    \"Feature\": X.columns,\n",
    "    \"Coefficient\": elastic.coef_\n",
    "}).sort_values(by=\"Coefficient\", key=abs, ascending=False)\n",
    "print(elastic_coef_df)\n",
    "\n",
    "# model performance\n",
    "elastic_r2 = r2_score(y, elastic.predict(X))\n",
    "elastic_rmse = root_mean_squared_error(y, elastic.predict(X))"
   ]
  },
  {
   "cell_type": "code",
   "execution_count": 38,
   "id": "6969726e-00c9-4afd-b6bd-0631e5fb5e1a",
   "metadata": {},
   "outputs": [
    {
     "name": "stdout",
     "output_type": "stream",
     "text": [
      "0.2595425033948594\n"
     ]
    }
   ],
   "source": [
    "print(elastic_r2)"
   ]
  },
  {
   "cell_type": "code",
   "execution_count": 39,
   "id": "6f24a209-dfa9-43de-93f2-ec66e96bbd0e",
   "metadata": {},
   "outputs": [
    {
     "name": "stdout",
     "output_type": "stream",
     "text": [
      "828.4567154551079\n"
     ]
    }
   ],
   "source": [
    "print(elastic_rmse)"
   ]
  },
  {
   "cell_type": "code",
   "execution_count": null,
   "id": "f59b7955-d4f5-417d-8ad8-eae95b60de00",
   "metadata": {},
   "outputs": [],
   "source": []
  }
 ],
 "metadata": {
  "kernelspec": {
   "display_name": "Python 3 (ipykernel)",
   "language": "python",
   "name": "python3"
  },
  "language_info": {
   "codemirror_mode": {
    "name": "ipython",
    "version": 3
   },
   "file_extension": ".py",
   "mimetype": "text/x-python",
   "name": "python",
   "nbconvert_exporter": "python",
   "pygments_lexer": "ipython3",
   "version": "3.11.11"
  }
 },
 "nbformat": 4,
 "nbformat_minor": 5
}
