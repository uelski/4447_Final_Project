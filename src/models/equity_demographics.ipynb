{
 "cells": [
  {
   "cell_type": "code",
   "execution_count": 1,
   "id": "0f0c7dbf",
   "metadata": {
    "vscode": {
     "languageId": "plaintext"
    }
   },
   "outputs": [],
   "source": [
    "import pandas as pd\n",
    "import numpy as np \n",
    "from sklearn.preprocessing import StandardScaler\n",
    "from sklearn.linear_model import LogisticRegression, Lasso, Ridge, ElasticNet\n",
    "from sklearn.metrics import classification_report, confusion_matrix, roc_auc_score\n",
    "from sklearn.model_selection import train_test_split"
   ]
  },
  {
   "cell_type": "code",
   "execution_count": 4,
   "id": "96fda5c5-f7ac-40ce-9354-c0e966df5b9a",
   "metadata": {},
   "outputs": [],
   "source": [
    "# setup and feature engineering\n",
    "df = pd.read_csv('../../data/processed/neighborhood_crime_counts.csv')\n",
    "\n",
    "# set neighborhood as index so removed from feature columns\n",
    "df.set_index(\"neighborhood\", inplace=True)\n",
    "\n",
    "# select feature columns and scale\n",
    "feature_cols = ['Total Population All', 'Percent White', 'Median Household Income', 'Per Capita Income']\n",
    "\n",
    "# scale\n",
    "scaler = StandardScaler()\n",
    "scaled_features = scaler.fit_transform(df[feature_cols])\n",
    "\n",
    "# scaled dataframe of features\n",
    "X = pd.DataFrame(scaled_features, \n",
    "                         index=df.index, \n",
    "                         columns=feature_cols)\n",
    "\n",
    "# target column - unscaled\n",
    "target_col = 'avgOverallEquityScore'\n",
    "y = df[target_col].round().astype(int).values\n",
    "\n",
    "# train test split\n",
    "X_train, X_test, y_train, y_test = train_test_split(X, y, test_size=0.2, random_state=42)\n",
    "\n"
   ]
  },
  {
   "cell_type": "markdown",
   "id": "62c19333-45fa-4ff9-ab59-422998561550",
   "metadata": {},
   "source": [
    "## Basic Logistic Regression without Regularization"
   ]
  },
  {
   "cell_type": "code",
   "execution_count": 5,
   "id": "5998cb16-f739-4b6b-b131-a7317c17bb1d",
   "metadata": {},
   "outputs": [
    {
     "name": "stdout",
     "output_type": "stream",
     "text": [
      "Confusion Matrix:\n",
      "[[8 1 0 0]\n",
      " [0 1 1 0]\n",
      " [0 3 1 0]\n",
      " [0 0 1 0]]\n",
      "\n",
      "Classification Report:\n",
      "              precision    recall  f1-score   support\n",
      "\n",
      "           2       1.00      0.89      0.94         9\n",
      "           3       0.20      0.50      0.29         2\n",
      "           4       0.33      0.25      0.29         4\n",
      "           5       0.00      0.00      0.00         1\n",
      "\n",
      "    accuracy                           0.62        16\n",
      "   macro avg       0.38      0.41      0.38        16\n",
      "weighted avg       0.67      0.62      0.64        16\n",
      "\n"
     ]
    }
   ],
   "source": [
    "log_reg = LogisticRegression(max_iter=1000, penalty=None)\n",
    "\n",
    "log_reg.fit(X_train, y_train)\n",
    "\n",
    "# 3. Predict on the test set\n",
    "y_pred = log_reg.predict(X_test)\n",
    "\n",
    "# 4. Evaluate performance\n",
    "print(\"Confusion Matrix:\")\n",
    "print(confusion_matrix(y_test, y_pred))\n",
    "\n",
    "print(\"\\nClassification Report:\")\n",
    "print(classification_report(y_test, y_pred, zero_division=0))"
   ]
  },
  {
   "cell_type": "markdown",
   "id": "848bb5be-bc3d-426c-a242-a6ceaef31a67",
   "metadata": {},
   "source": [
    "## Logistic Regression with L1 Regularization"
   ]
  },
  {
   "cell_type": "code",
   "execution_count": 6,
   "id": "b32e257f-fafc-4d28-8d29-a490fe55e37c",
   "metadata": {},
   "outputs": [
    {
     "name": "stdout",
     "output_type": "stream",
     "text": [
      "Confusion Matrix:\n",
      "[[8 1 0 0]\n",
      " [0 1 1 0]\n",
      " [0 3 1 0]\n",
      " [0 0 1 0]]\n",
      "\n",
      "Classification Report:\n",
      "              precision    recall  f1-score   support\n",
      "\n",
      "           2       1.00      0.89      0.94         9\n",
      "           3       0.20      0.50      0.29         2\n",
      "           4       0.33      0.25      0.29         4\n",
      "           5       0.00      0.00      0.00         1\n",
      "\n",
      "    accuracy                           0.62        16\n",
      "   macro avg       0.38      0.41      0.38        16\n",
      "weighted avg       0.67      0.62      0.64        16\n",
      "\n"
     ]
    }
   ],
   "source": [
    "lasso = LogisticRegression(max_iter=1000, penalty='l1', C=0.5, solver='saga')\n",
    "\n",
    "lasso.fit(X_train, y_train)\n",
    "\n",
    "# 3. Predict on the test set\n",
    "y_pred = lasso.predict(X_test)\n",
    "\n",
    "# 4. Evaluate performance\n",
    "print(\"Confusion Matrix:\")\n",
    "print(confusion_matrix(y_test, y_pred))\n",
    "\n",
    "print(\"\\nClassification Report:\")\n",
    "print(classification_report(y_test, y_pred, zero_division=0))"
   ]
  },
  {
   "cell_type": "markdown",
   "id": "3d94196f-3af6-4ac7-a71d-783f2582c9e4",
   "metadata": {},
   "source": [
    "## Logistic Regression with L2 Regularization"
   ]
  },
  {
   "cell_type": "code",
   "execution_count": 7,
   "id": "a6da708a-9a88-4df8-82b0-effa934e79ab",
   "metadata": {},
   "outputs": [
    {
     "name": "stdout",
     "output_type": "stream",
     "text": [
      "Confusion Matrix:\n",
      "[[8 1 0 0]\n",
      " [1 0 1 0]\n",
      " [0 3 1 0]\n",
      " [0 0 1 0]]\n",
      "\n",
      "Classification Report:\n",
      "              precision    recall  f1-score   support\n",
      "\n",
      "           2       0.89      0.89      0.89         9\n",
      "           3       0.00      0.00      0.00         2\n",
      "           4       0.33      0.25      0.29         4\n",
      "           5       0.00      0.00      0.00         1\n",
      "\n",
      "    accuracy                           0.56        16\n",
      "   macro avg       0.31      0.28      0.29        16\n",
      "weighted avg       0.58      0.56      0.57        16\n",
      "\n"
     ]
    }
   ],
   "source": [
    "ridge = LogisticRegression(max_iter=1000, penalty='l2', C=0.5)\n",
    "\n",
    "ridge.fit(X_train, y_train)\n",
    "\n",
    "# 3. Predict on the test set\n",
    "y_pred = ridge.predict(X_test)\n",
    "\n",
    "# 4. Evaluate performance\n",
    "print(\"Confusion Matrix:\")\n",
    "print(confusion_matrix(y_test, y_pred))\n",
    "\n",
    "print(\"\\nClassification Report:\")\n",
    "print(classification_report(y_test, y_pred, zero_division=0))"
   ]
  },
  {
   "cell_type": "markdown",
   "id": "fbd8ce18-a9ce-450b-919c-3bdcb3bb90bb",
   "metadata": {},
   "source": [
    "## Logistic Regression with Elasticnet Regularization"
   ]
  },
  {
   "cell_type": "code",
   "execution_count": 8,
   "id": "1b8b61a6-d222-4abe-9360-77a3893dd33b",
   "metadata": {},
   "outputs": [
    {
     "name": "stdout",
     "output_type": "stream",
     "text": [
      "Confusion Matrix:\n",
      "[[8 1 0 0]\n",
      " [0 1 1 0]\n",
      " [0 3 1 0]\n",
      " [0 0 1 0]]\n",
      "\n",
      "Classification Report:\n",
      "              precision    recall  f1-score   support\n",
      "\n",
      "           2       1.00      0.89      0.94         9\n",
      "           3       0.20      0.50      0.29         2\n",
      "           4       0.33      0.25      0.29         4\n",
      "           5       0.00      0.00      0.00         1\n",
      "\n",
      "    accuracy                           0.62        16\n",
      "   macro avg       0.38      0.41      0.38        16\n",
      "weighted avg       0.67      0.62      0.64        16\n",
      "\n"
     ]
    }
   ],
   "source": [
    "elastic = LogisticRegression(max_iter=1000, penalty='elasticnet', l1_ratio=0.5, solver='saga')\n",
    "\n",
    "elastic.fit(X_train, y_train)\n",
    "\n",
    "# 3. Predict on the test set\n",
    "y_pred = elastic.predict(X_test)\n",
    "\n",
    "# 4. Evaluate performance\n",
    "print(\"Confusion Matrix:\")\n",
    "print(confusion_matrix(y_test, y_pred))\n",
    "\n",
    "print(\"\\nClassification Report:\")\n",
    "print(classification_report(y_test, y_pred, zero_division=0))"
   ]
  },
  {
   "cell_type": "code",
   "execution_count": null,
   "id": "30a6bc84-ca60-4b59-a464-aa7f0f99981d",
   "metadata": {},
   "outputs": [],
   "source": []
  }
 ],
 "metadata": {
  "kernelspec": {
   "display_name": "Python 3 (ipykernel)",
   "language": "python",
   "name": "python3"
  },
  "language_info": {
   "codemirror_mode": {
    "name": "ipython",
    "version": 3
   },
   "file_extension": ".py",
   "mimetype": "text/x-python",
   "name": "python",
   "nbconvert_exporter": "python",
   "pygments_lexer": "ipython3",
   "version": "3.11.11"
  }
 },
 "nbformat": 4,
 "nbformat_minor": 5
}
