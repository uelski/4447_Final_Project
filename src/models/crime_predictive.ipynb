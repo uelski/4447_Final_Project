{
 "cells": [
  {
   "cell_type": "code",
   "execution_count": 3,
   "id": "1e835322",
   "metadata": {
    "vscode": {
     "languageId": "plaintext"
    }
   },
   "outputs": [],
   "source": [
    "import pandas as pd\n",
    "import numpy as np \n",
    "from sklearn.preprocessing import StandardScaler\n",
    "from sklearn.linear_model import LinearRegression"
   ]
  },
  {
   "cell_type": "code",
   "execution_count": 5,
   "id": "725e85df-fd99-4c15-8ec6-729bc3ce314c",
   "metadata": {},
   "outputs": [],
   "source": [
    "# setup and feature engineering\n",
    "df = pd.read_csv('../../data/processed/neighborhood_crime_counts.csv')\n",
    "\n",
    "# set neighborhood as index so removed from feature columns\n",
    "df.set_index(\"neighborhood\", inplace=True)\n",
    "\n",
    "# select feature columns and scale\n",
    "feature_cols = ['program_count', 'avgsocioeconscore', 'avgAccessToCareScore', 'avgMobidityScore', 'mortalityscore', 'avgBuiltEnvScore', 'avgOverallEquityScore', 'Total Population All', 'Percent White', 'Median Household Income', 'Per Capita Income', 'program_count_per1000' ]\n",
    "\n",
    "# scale\n",
    "scaler = StandardScaler()\n",
    "scaled_features = scaler.fit_transform(df[feature_cols])\n",
    "\n",
    "# scaled dataframe of features\n",
    "X = pd.DataFrame(scaled_features, \n",
    "                         index=df.index, \n",
    "                         columns=feature_cols)\n",
    "\n",
    "# target column - unscaled\n",
    "target_col = 'crime_per1000'\n",
    "y = df[target_col].values"
   ]
  },
  {
   "cell_type": "code",
   "execution_count": null,
   "id": "a0c5d030-47c3-477e-90ac-ab517ab6c2a9",
   "metadata": {},
   "outputs": [],
   "source": []
  }
 ],
 "metadata": {
  "kernelspec": {
   "display_name": "Python 3 (ipykernel)",
   "language": "python",
   "name": "python3"
  },
  "language_info": {
   "codemirror_mode": {
    "name": "ipython",
    "version": 3
   },
   "file_extension": ".py",
   "mimetype": "text/x-python",
   "name": "python",
   "nbconvert_exporter": "python",
   "pygments_lexer": "ipython3",
   "version": "3.11.11"
  }
 },
 "nbformat": 4,
 "nbformat_minor": 5
}
